{
 "cells": [
  {
   "cell_type": "code",
   "execution_count": 12,
   "id": "f306632d",
   "metadata": {
    "ExecuteTime": {
     "end_time": "2025-03-27T17:23:36.316353Z",
     "start_time": "2025-03-27T17:23:36.305005Z"
    }
   },
   "outputs": [],
   "source": [
    "import folium\n",
    "\n",
    "\n",
    "from branca.element import Figure\n",
    "\n",
    "import pandas as pd\n",
    "\n",
    "from haversine import haversine\n",
    "from geopy.distance import geodesic\n",
    "from geopy.distance import great_circle\n",
    "\n",
    "import numpy as np\n",
    "\n",
    "\n",
    "import matplotlib.pyplot as plt"
   ]
  },
  {
   "cell_type": "code",
   "execution_count": 13,
   "id": "9361317c",
   "metadata": {
    "ExecuteTime": {
     "end_time": "2025-03-27T17:23:37.621988Z",
     "start_time": "2025-03-27T17:23:37.564431Z"
    }
   },
   "outputs": [],
   "source": [
    "\n",
    "\n",
    "coords_GPS_cdmx = [[19.3219639281176683,-99.1846521393168814],[19.3218988592583898,-99.1847336284587158],[19.3221113878062987,-99.1849123085385429],[19.3222468426452103,-99.1849879166498454],[19.3224621996894399,-99.1849850819456833],[19.3226799867927603,-99.1849933511056463],[19.3227374156374090,-99.1847991908183246],[19.3228633284781992,-99.1843551576722433],[19.3229965290014682,-99.1839342114434857],[19.3232154584485905,-99.1834002890267783],[19.3233975540518017,-99.1831588926648777],[19.3234832731432711,-99.1828632650487236],[19.3235229640505004,-99.1827116768410235],[19.3235148209169587,-99.1825383023669787],[19.3234676609309801,-99.1823257152247493],[19.3230871422154387,-99.1813608885357070],[19.3228385233600797,-99.1807233366264853],[19.3225958670059512,-99.1801225228736172],[19.3223544468944013,-99.1795084063390107],[19.3221222934657710,-99.1788231315309758],[19.3220478088174303,-99.1783480366278667],[19.3220572689919194,-99.1779310022457707],[19.3221640646940287,-99.1774458978267290],[19.3222444783648797,-99.1771087652225987],[19.3222201151434305,-99.1768522753292530],[19.3220472713060794,-99.1767040070922263],[19.3218201376735301,-99.1766528642818201],[19.3218485485464591,-99.1762988626552016],[19.3220395641090796,-99.1763071965168450],[19.3226389496551008,-99.1763260747916036],[19.3231910981482606,-99.1762699636927181],[19.3238677021577807,-99.1761485506664116],[19.3240258957523601,-99.1758410385683220],[19.3242846784548092,-99.1755480192884846],[19.3245678283877709,-99.1753052774274977],[19.3248632436033603,-99.1754780572742476],[19.3252853820726997,-99.1751687143145801],[19.3253760351967507,-99.1747570123327620],[19.3254883201985486,-99.1746850536261206],[19.3254743733204393,-99.1743178622114954],[19.3247970458890386,-99.1744210028144408],[19.3247358227587185,-99.1739100927873096],[19.3259599101842987,-99.1737843320759964],[19.3272355787045917,-99.1736695552537242],[19.3285020576603586,-99.1735392001044858],[19.3297433843137902,-99.1735048496338578],[19.3330356497966207,-99.1739893526744822],[19.3341217822864202,-99.1743042359998981],[19.3360678405972486,-99.1770844197932888],[19.3363698574211007,-99.1791510649449322],[19.3368539398985284,-99.1802094535614174],[19.3378859093938509,-99.1817193866209124],[19.3381576476185515,-99.1819675629326838],[19.3384327086526717,-99.1821851214982360],[19.3386286185413994,-99.1822790543996717],[19.3390181453477403,-99.1823463673837296],[19.3393286924548917,-99.1823389909381774],[19.3396822002315005,-99.1822312002129962],[19.3407156400030189,-99.1819924065457741],[19.3416046714637702,-99.1818035234769724],[19.3456994277318195,-99.1809597853578140],[19.3495617380150087,-99.1801990088330001],[19.3504426592297811,-99.1793395612930198],[19.3515143936981318,-99.1779849848377353],[19.3530371697904791,-99.1766933740241257],[19.3540388232796197,-99.1755576535667558],[19.3572061324372200,-99.1728240316755887],[19.3613453853839204,-99.1709610513584607],[19.3631341607601399,-99.1700806415338576],[19.3643505438342984,-99.1690253759369114],[19.3678424197376913,-99.1667944199473226],[19.3706611237920896,-99.1650074271159383],[19.3791768214002893,-99.1595552993169065],[19.3799813011681294,-99.1590872091761071],[19.3861396009480487,-99.1572737951957492],[19.3908554028914786,-99.1564924031506081],[19.3958810815233811,-99.1561047930151176],[19.4065347762066303,-99.1552808115313553],[19.4130071217580884,-99.1547485940469358],[19.4138003645397994,-99.1532116584200196],[19.4149792756321204,-99.1510025206900281],[19.4168081337132712,-99.1507929758099635],[19.4192791198424892,-99.1504417128635396],[19.4232656667744905,-99.1497228610057419],[19.4272901051239586,-99.1489493566808022],[19.4303547921635200,-99.1482943120711866],[19.4318871348022810,-99.1479667804968727],[19.4335118952480705,-99.1476359611461788],[19.4353899481540608,-99.1473214795065019],[19.4373606832565997,-99.1469884460921662],[19.4373864862251899,-99.1468230160565724],[19.4397099225918701,-99.1463022283290485],[19.4412814483943883,-99.1459619212681389],[19.4427599025279108,-99.1456405022103127],[19.4444706519296204,-99.1452598313237559],[19.4453260263327614,-99.1450694928710590],[19.4461828189868697,-99.1448805003564786],[19.4469904345706297,-99.1447131641473050],[19.4478434622489900,-99.1445234968972215],[19.4487436919331884,-99.1443209260608000],[19.4496688516125005,-99.1441149791735796],[19.4507059816898611,-99.1438878129632286],[19.4512245466224911,-99.1437742287689616],[19.4514838290622905,-99.1437174363995410],[19.4526185410883201,-99.1434384897119827],[19.4531849116432305,-99.1433027061336389],[19.4534680968827907,-99.1432348139889257],[19.4537612237999014,-99.1431657045884549],[19.4540028404083714,-99.1431301133425791],[19.4556100636412808,-99.1431583493765771],[19.4572402680583494,-99.1431876627842712],[19.4582953626705617,-99.1429588295462167],[19.4599920032600409,-99.1425434644247048],[19.4613356035459617,-99.1421958833848862],[19.4626792031695004,-99.1418482965846266],[19.4631062558417796,-99.1418443620472516],[19.4634861290956316,-99.1419215563198009],[19.4637808065390985,-99.1419948447142048],[19.4646491154403911,-99.1420562459571642],[19.4653071025581994,-99.1420394596543701],[19.4658972443648004,-99.1419092451923092],[19.4663176286925399,-99.1416882662661862],[19.4668067303241585,-99.1413148002041424],[19.4675170611069213,-99.1407552699444921],[19.4682544187839710,-99.1401697985444059],[19.4691308882252301,-99.1394615983826810],[19.4695917987214493,-99.1391011952164831],[19.4700328333398787,-99.1387200730028013],[19.4706798758761295,-99.1381680948217792],[19.4703786027763890,-99.1377408666766797],[19.4696265465325986,-99.1368302752780721],[19.4697413268244688,-99.1366074511574880],[19.4705077491836001,-99.1371230420008800],[19.4712126451319492,-99.1374901105132835],[19.4720598427763285,-99.1378524864174011],[19.4726153508666293,-99.1380865418816342],[19.4739900882734212,-99.1386496591875357],[19.4759442586493314,-99.1394324096461048],[19.4776208263425694,-99.1401081900625485],[19.4790223106217901,-99.1406678545623521],[19.4808870159810787,-99.1413584746308061],[19.4853163724212095,-99.1430885592145614],[19.4886265190182009,-99.1444569248097594],[19.4929809925925390,-99.1462248360882938],[19.4941606837799490,-99.1466870887124259],[19.4985168381134493,-99.1484061116496065],[19.5013285721565701,-99.1495101166170087],[19.5039691175281291,-99.1481503540505855],[19.5031511526541301,-99.1464277114784380],[19.5053832483985090,-99.1452975856039131],[19.5052158427203999,-99.1449361595137191],[19.5051073958693699,-99.1446203060449989],[19.5049487205566798,-99.1440396971347297],[19.5049014138185086,-99.1437431172830372],[19.5062255245017191,-99.1429672486869578],[19.5070853678858818,-99.1410974956569646],[19.5076402110385096,-99.1398123690313611],[19.5079179315608400,-99.1399123550623358],[19.5082357691887509,-99.1390652637519025],[19.5087753776163488,-99.1392540921965093],[19.5094720458698916,-99.1392055376900316],[19.5098166739412697,-99.1382802474249019],[19.5101853339352687,-99.1373602272029331],[19.5110599308923085,-99.1386618788107086],[19.5112370874220993,-99.1385940040164826],[19.5111256523334511,-99.1385836513200900],[19.5103233066490311,-99.1373561613955019],[19.5100114351899485,-99.1368654621390561],[19.5096879870562709,-99.1363567272280903],[19.5093614946503209,-99.1358460236875061],[19.5089693113071512,-99.1352045009653722],[19.5087951683853191,-99.1349105066469889],[19.5087323152354486,-99.1347212274641407],[19.5086975527066997,-99.1345309382506059],[19.5086830998240508,-99.1343278380279855],[19.5087298175169188,-99.1341884780867701],[19.5092095623016313,-99.1338707528093153],[19.5089164611156214,-99.1333978067051760],[19.5086207912789504,-99.1329262262441802],[19.5092239592944701,-99.1323950427399154],[19.5096063101758688,-99.1324134587421213],[19.5098227065420993,-99.1323215564107585],[19.5093970531560110,-99.1320358451924477],[19.5097339541647798,-99.1312277748063053],[19.5109383081085994,-99.1300216591689036],[19.5103191320651987,-99.1293309497179820],[19.5097363576666503,-99.1286745500125477],[19.5094449695796612,-99.1283463519339989],[19.5087946308941795,-99.1276047938043803],[19.5090669880984890,-99.1273337402395782]]\n",
    "               "
   ]
  },
  {
   "cell_type": "code",
   "execution_count": 14,
   "id": "d9e116ca",
   "metadata": {
    "ExecuteTime": {
     "end_time": "2025-03-27T17:23:38.360265Z",
     "start_time": "2025-03-27T17:23:38.327528Z"
    }
   },
   "outputs": [
    {
     "data": {
      "text/html": [
       "<iframe srcdoc=\"&lt;!DOCTYPE html&gt;\n",
       "&lt;html&gt;\n",
       "&lt;head&gt;\n",
       "    \n",
       "    &lt;meta http-equiv=&quot;content-type&quot; content=&quot;text/html; charset=UTF-8&quot; /&gt;\n",
       "    \n",
       "        &lt;script&gt;\n",
       "            L_NO_TOUCH = false;\n",
       "            L_DISABLE_3D = false;\n",
       "        &lt;/script&gt;\n",
       "    \n",
       "    &lt;style&gt;html, body {width: 100%;height: 100%;margin: 0;padding: 0;}&lt;/style&gt;\n",
       "    &lt;style&gt;#map {position:absolute;top:0;bottom:0;right:0;left:0;}&lt;/style&gt;\n",
       "    &lt;script src=&quot;https://cdn.jsdelivr.net/npm/leaflet@1.9.3/dist/leaflet.js&quot;&gt;&lt;/script&gt;\n",
       "    &lt;script src=&quot;https://code.jquery.com/jquery-1.12.4.min.js&quot;&gt;&lt;/script&gt;\n",
       "    &lt;script src=&quot;https://cdn.jsdelivr.net/npm/bootstrap@5.2.2/dist/js/bootstrap.bundle.min.js&quot;&gt;&lt;/script&gt;\n",
       "    &lt;script src=&quot;https://cdnjs.cloudflare.com/ajax/libs/Leaflet.awesome-markers/2.0.2/leaflet.awesome-markers.js&quot;&gt;&lt;/script&gt;\n",
       "    &lt;link rel=&quot;stylesheet&quot; href=&quot;https://cdn.jsdelivr.net/npm/leaflet@1.9.3/dist/leaflet.css&quot;/&gt;\n",
       "    &lt;link rel=&quot;stylesheet&quot; href=&quot;https://cdn.jsdelivr.net/npm/bootstrap@5.2.2/dist/css/bootstrap.min.css&quot;/&gt;\n",
       "    &lt;link rel=&quot;stylesheet&quot; href=&quot;https://netdna.bootstrapcdn.com/bootstrap/3.0.0/css/bootstrap.min.css&quot;/&gt;\n",
       "    &lt;link rel=&quot;stylesheet&quot; href=&quot;https://cdn.jsdelivr.net/npm/@fortawesome/fontawesome-free@6.2.0/css/all.min.css&quot;/&gt;\n",
       "    &lt;link rel=&quot;stylesheet&quot; href=&quot;https://cdnjs.cloudflare.com/ajax/libs/Leaflet.awesome-markers/2.0.2/leaflet.awesome-markers.css&quot;/&gt;\n",
       "    &lt;link rel=&quot;stylesheet&quot; href=&quot;https://cdn.jsdelivr.net/gh/python-visualization/folium/folium/templates/leaflet.awesome.rotate.min.css&quot;/&gt;\n",
       "    \n",
       "            &lt;meta name=&quot;viewport&quot; content=&quot;width=device-width,\n",
       "                initial-scale=1.0, maximum-scale=1.0, user-scalable=no&quot; /&gt;\n",
       "            &lt;style&gt;\n",
       "                #map_9939b0e3d3469a6d638d59f74bf46926 {\n",
       "                    position: relative;\n",
       "                    width: 500.0px;\n",
       "                    height: 500.0px;\n",
       "                    left: 0.0%;\n",
       "                    top: 0.0%;\n",
       "                }\n",
       "                .leaflet-container { font-size: 1rem; }\n",
       "            &lt;/style&gt;\n",
       "        \n",
       "&lt;/head&gt;\n",
       "&lt;body&gt;\n",
       "    \n",
       "    \n",
       "            &lt;div class=&quot;folium-map&quot; id=&quot;map_9939b0e3d3469a6d638d59f74bf46926&quot; &gt;&lt;/div&gt;\n",
       "        \n",
       "&lt;/body&gt;\n",
       "&lt;script&gt;\n",
       "    \n",
       "    \n",
       "            var map_9939b0e3d3469a6d638d59f74bf46926 = L.map(\n",
       "                &quot;map_9939b0e3d3469a6d638d59f74bf46926&quot;,\n",
       "                {\n",
       "                    center: [19.32196392811767, -99.18465213931688],\n",
       "                    crs: L.CRS.EPSG3857,\n",
       "                    zoom: 11,\n",
       "                    zoomControl: true,\n",
       "                    preferCanvas: false,\n",
       "                }\n",
       "            );\n",
       "\n",
       "            \n",
       "\n",
       "        \n",
       "    \n",
       "            var tile_layer_3235d841943c146b7a85848ea6642b17 = L.tileLayer(\n",
       "                &quot;https://{s}.tile.openstreetmap.org/{z}/{x}/{y}.png&quot;,\n",
       "                {&quot;attribution&quot;: &quot;Data by \\u0026copy; \\u003ca target=\\&quot;_blank\\&quot; href=\\&quot;http://openstreetmap.org\\&quot;\\u003eOpenStreetMap\\u003c/a\\u003e, under \\u003ca target=\\&quot;_blank\\&quot; href=\\&quot;http://www.openstreetmap.org/copyright\\&quot;\\u003eODbL\\u003c/a\\u003e.&quot;, &quot;detectRetina&quot;: false, &quot;maxNativeZoom&quot;: 14, &quot;maxZoom&quot;: 14, &quot;minZoom&quot;: 8, &quot;noWrap&quot;: false, &quot;opacity&quot;: 1, &quot;subdomains&quot;: &quot;abc&quot;, &quot;tms&quot;: false}\n",
       "            ).addTo(map_9939b0e3d3469a6d638d59f74bf46926);\n",
       "        \n",
       "&lt;/script&gt;\n",
       "&lt;/html&gt;\" width=\"500\" height=\"500\"style=\"border:none !important;\" \"allowfullscreen\" \"webkitallowfullscreen\" \"mozallowfullscreen\"></iframe>"
      ],
      "text/plain": [
       "<folium.folium.Map at 0x7f8237733520>"
      ]
     },
     "execution_count": 14,
     "metadata": {},
     "output_type": "execute_result"
    }
   ],
   "source": [
    "fig=Figure(width=500,height=500)\n",
    "\n",
    "delta1CDMX=folium.Map(width=500,height=500,location=[19.3219639281176683,-99.1846521393168814],zoom_start=11,min_zoom=8,max_zoom=14)\n",
    "fig.add_child(delta1CDMX)\n",
    "delta1CDMX"
   ]
  },
  {
   "cell_type": "code",
   "execution_count": 17,
   "id": "f1d5b2f2",
   "metadata": {
    "ExecuteTime": {
     "end_time": "2025-03-27T17:24:04.103538Z",
     "start_time": "2025-03-27T17:24:04.054296Z"
    },
    "scrolled": true
   },
   "outputs": [
    {
     "data": {
      "text/html": [
       "<iframe srcdoc=\"&lt;!DOCTYPE html&gt;\n",
       "&lt;html&gt;\n",
       "&lt;head&gt;\n",
       "    \n",
       "    &lt;meta http-equiv=&quot;content-type&quot; content=&quot;text/html; charset=UTF-8&quot; /&gt;\n",
       "    \n",
       "        &lt;script&gt;\n",
       "            L_NO_TOUCH = false;\n",
       "            L_DISABLE_3D = false;\n",
       "        &lt;/script&gt;\n",
       "    \n",
       "    &lt;style&gt;html, body {width: 100%;height: 100%;margin: 0;padding: 0;}&lt;/style&gt;\n",
       "    &lt;style&gt;#map {position:absolute;top:0;bottom:0;right:0;left:0;}&lt;/style&gt;\n",
       "    &lt;script src=&quot;https://cdn.jsdelivr.net/npm/leaflet@1.9.3/dist/leaflet.js&quot;&gt;&lt;/script&gt;\n",
       "    &lt;script src=&quot;https://code.jquery.com/jquery-1.12.4.min.js&quot;&gt;&lt;/script&gt;\n",
       "    &lt;script src=&quot;https://cdn.jsdelivr.net/npm/bootstrap@5.2.2/dist/js/bootstrap.bundle.min.js&quot;&gt;&lt;/script&gt;\n",
       "    &lt;script src=&quot;https://cdnjs.cloudflare.com/ajax/libs/Leaflet.awesome-markers/2.0.2/leaflet.awesome-markers.js&quot;&gt;&lt;/script&gt;\n",
       "    &lt;link rel=&quot;stylesheet&quot; href=&quot;https://cdn.jsdelivr.net/npm/leaflet@1.9.3/dist/leaflet.css&quot;/&gt;\n",
       "    &lt;link rel=&quot;stylesheet&quot; href=&quot;https://cdn.jsdelivr.net/npm/bootstrap@5.2.2/dist/css/bootstrap.min.css&quot;/&gt;\n",
       "    &lt;link rel=&quot;stylesheet&quot; href=&quot;https://netdna.bootstrapcdn.com/bootstrap/3.0.0/css/bootstrap.min.css&quot;/&gt;\n",
       "    &lt;link rel=&quot;stylesheet&quot; href=&quot;https://cdn.jsdelivr.net/npm/@fortawesome/fontawesome-free@6.2.0/css/all.min.css&quot;/&gt;\n",
       "    &lt;link rel=&quot;stylesheet&quot; href=&quot;https://cdnjs.cloudflare.com/ajax/libs/Leaflet.awesome-markers/2.0.2/leaflet.awesome-markers.css&quot;/&gt;\n",
       "    &lt;link rel=&quot;stylesheet&quot; href=&quot;https://cdn.jsdelivr.net/gh/python-visualization/folium/folium/templates/leaflet.awesome.rotate.min.css&quot;/&gt;\n",
       "    \n",
       "            &lt;meta name=&quot;viewport&quot; content=&quot;width=device-width,\n",
       "                initial-scale=1.0, maximum-scale=1.0, user-scalable=no&quot; /&gt;\n",
       "            &lt;style&gt;\n",
       "                #map_e9b7de8adb7c2646ec56d40f4ef2f599 {\n",
       "                    position: relative;\n",
       "                    width: 1000.0px;\n",
       "                    height: 50.0px;\n",
       "                    left: 0.0%;\n",
       "                    top: 0.0%;\n",
       "                }\n",
       "                .leaflet-container { font-size: 1rem; }\n",
       "            &lt;/style&gt;\n",
       "        \n",
       "&lt;/head&gt;\n",
       "&lt;body&gt;\n",
       "    \n",
       "    \n",
       "            &lt;div class=&quot;folium-map&quot; id=&quot;map_e9b7de8adb7c2646ec56d40f4ef2f599&quot; &gt;&lt;/div&gt;\n",
       "        \n",
       "&lt;/body&gt;\n",
       "&lt;script&gt;\n",
       "    \n",
       "    \n",
       "            var map_e9b7de8adb7c2646ec56d40f4ef2f599 = L.map(\n",
       "                &quot;map_e9b7de8adb7c2646ec56d40f4ef2f599&quot;,\n",
       "                {\n",
       "                    center: [19.32196392811767, -99.18465213931688],\n",
       "                    crs: L.CRS.EPSG3857,\n",
       "                    zoom: 11,\n",
       "                    zoomControl: true,\n",
       "                    preferCanvas: false,\n",
       "                }\n",
       "            );\n",
       "\n",
       "            \n",
       "\n",
       "        \n",
       "    \n",
       "            var tile_layer_ae153525d1ce7eef59ae73f4bf6f72e8 = L.tileLayer(\n",
       "                &quot;https://{s}.tile.openstreetmap.org/{z}/{x}/{y}.png&quot;,\n",
       "                {&quot;attribution&quot;: &quot;Data by \\u0026copy; \\u003ca target=\\&quot;_blank\\&quot; href=\\&quot;http://openstreetmap.org\\&quot;\\u003eOpenStreetMap\\u003c/a\\u003e, under \\u003ca target=\\&quot;_blank\\&quot; href=\\&quot;http://www.openstreetmap.org/copyright\\&quot;\\u003eODbL\\u003c/a\\u003e.&quot;, &quot;detectRetina&quot;: false, &quot;maxNativeZoom&quot;: 14, &quot;maxZoom&quot;: 14, &quot;minZoom&quot;: 8, &quot;noWrap&quot;: false, &quot;opacity&quot;: 1, &quot;subdomains&quot;: &quot;abc&quot;, &quot;tms&quot;: false}\n",
       "            ).addTo(map_e9b7de8adb7c2646ec56d40f4ef2f599);\n",
       "        \n",
       "    \n",
       "            var tile_layer_545db924cd1b3f1df5c45adf4686fc9d = L.tileLayer(\n",
       "                &quot;https://stamen-tiles-{s}.a.ssl.fastly.net/terrain/{z}/{x}/{y}.jpg&quot;,\n",
       "                {&quot;attribution&quot;: &quot;Map tiles by \\u003ca target=\\&quot;_blank\\&quot; href=\\&quot;http://stamen.com\\&quot;\\u003eStamen Design\\u003c/a\\u003e, under \\u003ca target=\\&quot;_blank\\&quot; href=\\&quot;http://creativecommons.org/licenses/by/3.0\\&quot;\\u003eCC BY 3.0\\u003c/a\\u003e. Data by \\u0026copy; \\u003ca target=\\&quot;_blank\\&quot; href=\\&quot;http://openstreetmap.org\\&quot;\\u003eOpenStreetMap\\u003c/a\\u003e, under \\u003ca target=\\&quot;_blank\\&quot; href=\\&quot;http://creativecommons.org/licenses/by-sa/3.0\\&quot;\\u003eCC BY SA\\u003c/a\\u003e.&quot;, &quot;detectRetina&quot;: false, &quot;maxNativeZoom&quot;: 18, &quot;maxZoom&quot;: 18, &quot;minZoom&quot;: 0, &quot;noWrap&quot;: false, &quot;opacity&quot;: 1, &quot;subdomains&quot;: &quot;abc&quot;, &quot;tms&quot;: false}\n",
       "            ).addTo(map_e9b7de8adb7c2646ec56d40f4ef2f599);\n",
       "        \n",
       "    \n",
       "            var feature_group_a4801f21feb132947719311cef15db58 = L.featureGroup(\n",
       "                {}\n",
       "            ).addTo(map_e9b7de8adb7c2646ec56d40f4ef2f599);\n",
       "        \n",
       "    \n",
       "            var poly_line_f2f70a27438873e1a87daf46c163cc00 = L.polyline(\n",
       "                [[19.32196392811767, -99.18465213931688], [19.32189885925839, -99.18473362845872], [19.3221113878063, -99.18491230853854], [19.32224684264521, -99.18498791664985], [19.32246219968944, -99.18498508194568], [19.32267998679276, -99.18499335110565], [19.32273741563741, -99.18479919081832], [19.3228633284782, -99.18435515767224], [19.32299652900147, -99.18393421144349], [19.32321545844859, -99.18340028902678], [19.3233975540518, -99.18315889266488], [19.32348327314327, -99.18286326504872], [19.3235229640505, -99.18271167684102], [19.32351482091696, -99.18253830236698], [19.32346766093098, -99.18232571522475], [19.32308714221544, -99.1813608885357], [19.32283852336008, -99.18072333662649], [19.32259586700595, -99.18012252287362], [19.3223544468944, -99.17950840633901], [19.32212229346577, -99.17882313153098], [19.32204780881743, -99.17834803662787], [19.32205726899192, -99.17793100224577], [19.32216406469403, -99.17744589782673], [19.32224447836488, -99.1771087652226], [19.32222011514343, -99.17685227532925], [19.32204727130608, -99.17670400709223], [19.32182013767353, -99.17665286428182], [19.32184854854646, -99.1762988626552], [19.32203956410908, -99.17630719651685], [19.3226389496551, -99.1763260747916], [19.32319109814826, -99.17626996369272], [19.32386770215778, -99.17614855066641], [19.32402589575236, -99.17584103856832], [19.32428467845481, -99.17554801928848], [19.32456782838777, -99.1753052774275], [19.32486324360336, -99.17547805727425], [19.3252853820727, -99.17516871431458], [19.32537603519675, -99.17475701233276], [19.32548832019855, -99.17468505362612], [19.32547437332044, -99.1743178622115], [19.32479704588904, -99.17442100281444], [19.32473582275872, -99.17391009278731], [19.3259599101843, -99.173784332076], [19.32723557870459, -99.17366955525372], [19.32850205766036, -99.17353920010449], [19.32974338431379, -99.17350484963386], [19.33303564979662, -99.17398935267448], [19.33412178228642, -99.1743042359999], [19.33606784059725, -99.17708441979329], [19.3363698574211, -99.17915106494493], [19.33685393989853, -99.18020945356142], [19.33788590939385, -99.18171938662091], [19.33815764761855, -99.18196756293268], [19.33843270865267, -99.18218512149824], [19.3386286185414, -99.18227905439967], [19.33901814534774, -99.18234636738373], [19.33932869245489, -99.18233899093818], [19.3396822002315, -99.182231200213], [19.34071564000302, -99.18199240654577], [19.34160467146377, -99.18180352347697], [19.34569942773182, -99.18095978535781], [19.34956173801501, -99.180199008833], [19.35044265922978, -99.17933956129302], [19.35151439369813, -99.17798498483774], [19.35303716979048, -99.17669337402413], [19.35403882327962, -99.17555765356676], [19.35720613243722, -99.17282403167559], [19.36134538538392, -99.17096105135846], [19.36313416076014, -99.17008064153386], [19.3643505438343, -99.16902537593691], [19.36784241973769, -99.16679441994732], [19.37066112379209, -99.16500742711594], [19.37917682140029, -99.1595552993169], [19.37998130116813, -99.1590872091761], [19.38613960094805, -99.15727379519575], [19.39085540289148, -99.15649240315061], [19.39588108152338, -99.15610479301512], [19.40653477620663, -99.15528081153136], [19.41300712175809, -99.15474859404694], [19.4138003645398, -99.15321165842002], [19.41497927563212, -99.15100252069003], [19.41680813371327, -99.15079297580996], [19.41927911984249, -99.15044171286354], [19.42326566677449, -99.14972286100574], [19.42729010512396, -99.1489493566808], [19.43035479216352, -99.14829431207119], [19.43188713480228, -99.14796678049687], [19.43351189524807, -99.14763596114618], [19.43538994815406, -99.1473214795065], [19.4373606832566, -99.14698844609217], [19.43738648622519, -99.14682301605657], [19.43970992259187, -99.14630222832905], [19.44128144839439, -99.14596192126814], [19.44275990252791, -99.14564050221031], [19.44447065192962, -99.14525983132376], [19.44532602633276, -99.14506949287106], [19.44618281898687, -99.14488050035648], [19.44699043457063, -99.1447131641473], [19.44784346224899, -99.14452349689722], [19.44874369193319, -99.1443209260608], [19.4496688516125, -99.14411497917358], [19.45070598168986, -99.14388781296323], [19.45122454662249, -99.14377422876896], [19.45148382906229, -99.14371743639954], [19.45261854108832, -99.14343848971198], [19.45318491164323, -99.14330270613364], [19.45346809688279, -99.14323481398893], [19.4537612237999, -99.14316570458845], [19.45400284040837, -99.14313011334258], [19.45561006364128, -99.14315834937658], [19.45724026805835, -99.14318766278427], [19.45829536267056, -99.14295882954622], [19.45999200326004, -99.1425434644247], [19.46133560354596, -99.14219588338489], [19.4626792031695, -99.14184829658463], [19.46310625584178, -99.14184436204725], [19.46348612909563, -99.1419215563198], [19.4637808065391, -99.1419948447142], [19.46464911544039, -99.14205624595716], [19.4653071025582, -99.14203945965437], [19.4658972443648, -99.14190924519231], [19.46631762869254, -99.14168826626619], [19.46680673032416, -99.14131480020414], [19.46751706110692, -99.14075526994449], [19.46825441878397, -99.1401697985444], [19.46913088822523, -99.13946159838268], [19.46959179872145, -99.13910119521648], [19.47003283333988, -99.1387200730028], [19.47067987587613, -99.13816809482178], [19.47037860277639, -99.13774086667668], [19.4696265465326, -99.13683027527807], [19.46974132682447, -99.13660745115749], [19.4705077491836, -99.13712304200088], [19.47121264513195, -99.13749011051328], [19.47205984277633, -99.1378524864174], [19.47261535086663, -99.13808654188163], [19.47399008827342, -99.13864965918754], [19.47594425864933, -99.1394324096461], [19.47762082634257, -99.14010819006255], [19.47902231062179, -99.14066785456235], [19.48088701598108, -99.1413584746308], [19.48531637242121, -99.14308855921456], [19.4886265190182, -99.14445692480976], [19.49298099259254, -99.1462248360883], [19.49416068377995, -99.14668708871243], [19.49851683811345, -99.1484061116496], [19.50132857215657, -99.14951011661701], [19.50396911752813, -99.14815035405059], [19.50315115265413, -99.14642771147844], [19.50538324839851, -99.14529758560391], [19.5052158427204, -99.14493615951372], [19.50510739586937, -99.144620306045], [19.50494872055668, -99.14403969713473], [19.50490141381851, -99.14374311728304], [19.50622552450172, -99.14296724868696], [19.50708536788588, -99.14109749565696], [19.50764021103851, -99.13981236903136], [19.50791793156084, -99.13991235506234], [19.50823576918875, -99.1390652637519], [19.50877537761635, -99.13925409219651], [19.50947204586989, -99.13920553769003], [19.50981667394127, -99.1382802474249], [19.51018533393527, -99.13736022720293], [19.51105993089231, -99.13866187881071], [19.5112370874221, -99.13859400401648], [19.51112565233345, -99.13858365132009], [19.51032330664903, -99.1373561613955], [19.51001143518995, -99.13686546213906], [19.50968798705627, -99.13635672722809], [19.50936149465032, -99.1358460236875], [19.50896931130715, -99.13520450096537], [19.50879516838532, -99.13491050664699], [19.50873231523545, -99.13472122746414], [19.5086975527067, -99.1345309382506], [19.50868309982405, -99.13432783802799], [19.50872981751692, -99.13418847808677], [19.50920956230163, -99.13387075280932], [19.50891646111562, -99.13339780670518], [19.50862079127895, -99.13292622624418], [19.50922395929447, -99.13239504273992], [19.50960631017587, -99.13241345874212], [19.5098227065421, -99.13232155641076], [19.50939705315601, -99.13203584519245], [19.50973395416478, -99.1312277748063], [19.5109383081086, -99.1300216591689], [19.5103191320652, -99.12933094971798], [19.50973635766665, -99.12867455001255], [19.50944496957966, -99.128346351934], [19.50879463089418, -99.12760479380438], [19.50906698809849, -99.12733374023958]],\n",
       "                {&quot;bubblingMouseEvents&quot;: true, &quot;color&quot;: &quot;blue&quot;, &quot;dashArray&quot;: null, &quot;dashOffset&quot;: null, &quot;fill&quot;: false, &quot;fillColor&quot;: &quot;blue&quot;, &quot;fillOpacity&quot;: 0.2, &quot;fillRule&quot;: &quot;evenodd&quot;, &quot;lineCap&quot;: &quot;round&quot;, &quot;lineJoin&quot;: &quot;round&quot;, &quot;noClip&quot;: false, &quot;opacity&quot;: 1.0, &quot;smoothFactor&quot;: 1.0, &quot;stroke&quot;: true, &quot;weight&quot;: 5}\n",
       "            ).addTo(feature_group_a4801f21feb132947719311cef15db58);\n",
       "        \n",
       "    \n",
       "        var popup_1201ffece3cb8be1687d00422ede6e0c = L.popup({&quot;maxWidth&quot;: &quot;100%&quot;});\n",
       "\n",
       "        \n",
       "            \n",
       "                var html_69007c3d9734535de3ecd4f0e5c889c1 = $(`&lt;div id=&quot;html_69007c3d9734535de3ecd4f0e5c889c1&quot; style=&quot;width: 100.0%; height: 100.0%;&quot;&gt;&lt;b&gt;Ruta fibra UNAM - Cinves&lt;/b&gt;&lt;/div&gt;`)[0];\n",
       "                popup_1201ffece3cb8be1687d00422ede6e0c.setContent(html_69007c3d9734535de3ecd4f0e5c889c1);\n",
       "            \n",
       "        \n",
       "\n",
       "        poly_line_f2f70a27438873e1a87daf46c163cc00.bindPopup(popup_1201ffece3cb8be1687d00422ede6e0c)\n",
       "        ;\n",
       "\n",
       "        \n",
       "    \n",
       "    \n",
       "            poly_line_f2f70a27438873e1a87daf46c163cc00.bindTooltip(\n",
       "                `&lt;div&gt;\n",
       "                     Ruta fibra UNAM - CINVES\n",
       "                 &lt;/div&gt;`,\n",
       "                {&quot;sticky&quot;: true}\n",
       "            );\n",
       "        \n",
       "    \n",
       "            var layer_control_9511dc5250552683e566b2e0e81ecd19 = {\n",
       "                base_layers : {\n",
       "                    &quot;openstreetmap&quot; : tile_layer_ae153525d1ce7eef59ae73f4bf6f72e8,\n",
       "                    &quot;stamenterrain&quot; : tile_layer_545db924cd1b3f1df5c45adf4686fc9d,\n",
       "                },\n",
       "                overlays :  {\n",
       "                    &quot;Ruta fibra UNAM CINVES&quot; : feature_group_a4801f21feb132947719311cef15db58,\n",
       "                },\n",
       "            };\n",
       "            L.control.layers(\n",
       "                layer_control_9511dc5250552683e566b2e0e81ecd19.base_layers,\n",
       "                layer_control_9511dc5250552683e566b2e0e81ecd19.overlays,\n",
       "                {&quot;autoZIndex&quot;: true, &quot;collapsed&quot;: true, &quot;position&quot;: &quot;topright&quot;}\n",
       "            ).addTo(map_e9b7de8adb7c2646ec56d40f4ef2f599);\n",
       "            tile_layer_545db924cd1b3f1df5c45adf4686fc9d.remove();\n",
       "        \n",
       "&lt;/script&gt;\n",
       "&lt;/html&gt;\" width=\"500\" height=\"1000\"style=\"border:none !important;\" \"allowfullscreen\" \"webkitallowfullscreen\" \"mozallowfullscreen\"></iframe>"
      ],
      "text/plain": [
       "<folium.folium.Map at 0x7f82377a4370>"
      ]
     },
     "execution_count": 17,
     "metadata": {},
     "output_type": "execute_result"
    }
   ],
   "source": [
    "fig_delta=Figure(height=1000,width=500)\n",
    "mCDMX=folium.Map(width=1000,height=50,location=[19.3219639281176683,-99.1846521393168814],zoom_start=11,min_zoom=8,max_zoom=14,attr='Mapbox')\n",
    "fig_delta.add_child(mCDMX)\n",
    "\n",
    "# Creating feature groups\n",
    "f1=folium.FeatureGroup(\"Ruta fibra UNAM CINVES\")\n",
    "line_1=folium.vector_layers.PolyLine(coords_GPS_cdmx,popup='<b>Ruta fibra UNAM - Cinves</b>',tooltip='Ruta fibra UNAM - CINVES',color='blue',weight=5).add_to(f1)\n",
    "folium.TileLayer('Stamen Terrain').add_to(mCDMX)\n",
    "f1.add_to(mCDMX)\n",
    "\n",
    "folium.LayerControl().add_to(mCDMX)\n",
    "mCDMX"
   ]
  },
  {
   "cell_type": "code",
   "execution_count": 16,
   "id": "763284a4",
   "metadata": {
    "ExecuteTime": {
     "end_time": "2025-03-27T17:23:41.722750Z",
     "start_time": "2025-03-27T17:23:41.682279Z"
    }
   },
   "outputs": [
    {
     "data": {
      "text/html": [
       "<iframe srcdoc=\"&lt;!DOCTYPE html&gt;\n",
       "&lt;html&gt;\n",
       "&lt;head&gt;\n",
       "    \n",
       "    &lt;meta http-equiv=&quot;content-type&quot; content=&quot;text/html; charset=UTF-8&quot; /&gt;\n",
       "    \n",
       "        &lt;script&gt;\n",
       "            L_NO_TOUCH = false;\n",
       "            L_DISABLE_3D = false;\n",
       "        &lt;/script&gt;\n",
       "    \n",
       "    &lt;style&gt;html, body {width: 100%;height: 100%;margin: 0;padding: 0;}&lt;/style&gt;\n",
       "    &lt;style&gt;#map {position:absolute;top:0;bottom:0;right:0;left:0;}&lt;/style&gt;\n",
       "    &lt;script src=&quot;https://cdn.jsdelivr.net/npm/leaflet@1.9.3/dist/leaflet.js&quot;&gt;&lt;/script&gt;\n",
       "    &lt;script src=&quot;https://code.jquery.com/jquery-1.12.4.min.js&quot;&gt;&lt;/script&gt;\n",
       "    &lt;script src=&quot;https://cdn.jsdelivr.net/npm/bootstrap@5.2.2/dist/js/bootstrap.bundle.min.js&quot;&gt;&lt;/script&gt;\n",
       "    &lt;script src=&quot;https://cdnjs.cloudflare.com/ajax/libs/Leaflet.awesome-markers/2.0.2/leaflet.awesome-markers.js&quot;&gt;&lt;/script&gt;\n",
       "    &lt;link rel=&quot;stylesheet&quot; href=&quot;https://cdn.jsdelivr.net/npm/leaflet@1.9.3/dist/leaflet.css&quot;/&gt;\n",
       "    &lt;link rel=&quot;stylesheet&quot; href=&quot;https://cdn.jsdelivr.net/npm/bootstrap@5.2.2/dist/css/bootstrap.min.css&quot;/&gt;\n",
       "    &lt;link rel=&quot;stylesheet&quot; href=&quot;https://netdna.bootstrapcdn.com/bootstrap/3.0.0/css/bootstrap.min.css&quot;/&gt;\n",
       "    &lt;link rel=&quot;stylesheet&quot; href=&quot;https://cdn.jsdelivr.net/npm/@fortawesome/fontawesome-free@6.2.0/css/all.min.css&quot;/&gt;\n",
       "    &lt;link rel=&quot;stylesheet&quot; href=&quot;https://cdnjs.cloudflare.com/ajax/libs/Leaflet.awesome-markers/2.0.2/leaflet.awesome-markers.css&quot;/&gt;\n",
       "    &lt;link rel=&quot;stylesheet&quot; href=&quot;https://cdn.jsdelivr.net/gh/python-visualization/folium/folium/templates/leaflet.awesome.rotate.min.css&quot;/&gt;\n",
       "    \n",
       "            &lt;meta name=&quot;viewport&quot; content=&quot;width=device-width,\n",
       "                initial-scale=1.0, maximum-scale=1.0, user-scalable=no&quot; /&gt;\n",
       "            &lt;style&gt;\n",
       "                #map_d80a21cf3376e7ac69d5ed719d244c16 {\n",
       "                    position: relative;\n",
       "                    width: 1000.0px;\n",
       "                    height: 1000.0px;\n",
       "                    left: 0.0%;\n",
       "                    top: 0.0%;\n",
       "                }\n",
       "                .leaflet-container { font-size: 1rem; }\n",
       "            &lt;/style&gt;\n",
       "        \n",
       "&lt;/head&gt;\n",
       "&lt;body&gt;\n",
       "    \n",
       "    \n",
       "            &lt;div class=&quot;folium-map&quot; id=&quot;map_d80a21cf3376e7ac69d5ed719d244c16&quot; &gt;&lt;/div&gt;\n",
       "        \n",
       "&lt;/body&gt;\n",
       "&lt;script&gt;\n",
       "    \n",
       "    \n",
       "            var map_d80a21cf3376e7ac69d5ed719d244c16 = L.map(\n",
       "                &quot;map_d80a21cf3376e7ac69d5ed719d244c16&quot;,\n",
       "                {\n",
       "                    center: [19.32196392811767, -99.18465213931688],\n",
       "                    crs: L.CRS.EPSG3857,\n",
       "                    zoom: 11,\n",
       "                    zoomControl: true,\n",
       "                    preferCanvas: false,\n",
       "                }\n",
       "            );\n",
       "\n",
       "            \n",
       "\n",
       "        \n",
       "    \n",
       "            var tile_layer_8c04e5b8a18e16aa979d7ed6fd2249de = L.tileLayer(\n",
       "                &quot;https://{s}.tile.openstreetmap.org/{z}/{x}/{y}.png&quot;,\n",
       "                {&quot;attribution&quot;: &quot;Data by \\u0026copy; \\u003ca target=\\&quot;_blank\\&quot; href=\\&quot;http://openstreetmap.org\\&quot;\\u003eOpenStreetMap\\u003c/a\\u003e, under \\u003ca target=\\&quot;_blank\\&quot; href=\\&quot;http://www.openstreetmap.org/copyright\\&quot;\\u003eODbL\\u003c/a\\u003e.&quot;, &quot;detectRetina&quot;: false, &quot;maxNativeZoom&quot;: 14, &quot;maxZoom&quot;: 14, &quot;minZoom&quot;: 8, &quot;noWrap&quot;: false, &quot;opacity&quot;: 1, &quot;subdomains&quot;: &quot;abc&quot;, &quot;tms&quot;: false}\n",
       "            ).addTo(map_d80a21cf3376e7ac69d5ed719d244c16);\n",
       "        \n",
       "    \n",
       "            var tile_layer_67c356ad4160c8c21234dd17525c37eb = L.tileLayer(\n",
       "                &quot;https://stamen-tiles-{s}.a.ssl.fastly.net/terrain/{z}/{x}/{y}.jpg&quot;,\n",
       "                {&quot;attribution&quot;: &quot;Map tiles by \\u003ca target=\\&quot;_blank\\&quot; href=\\&quot;http://stamen.com\\&quot;\\u003eStamen Design\\u003c/a\\u003e, under \\u003ca target=\\&quot;_blank\\&quot; href=\\&quot;http://creativecommons.org/licenses/by/3.0\\&quot;\\u003eCC BY 3.0\\u003c/a\\u003e. Data by \\u0026copy; \\u003ca target=\\&quot;_blank\\&quot; href=\\&quot;http://openstreetmap.org\\&quot;\\u003eOpenStreetMap\\u003c/a\\u003e, under \\u003ca target=\\&quot;_blank\\&quot; href=\\&quot;http://creativecommons.org/licenses/by-sa/3.0\\&quot;\\u003eCC BY SA\\u003c/a\\u003e.&quot;, &quot;detectRetina&quot;: false, &quot;maxNativeZoom&quot;: 18, &quot;maxZoom&quot;: 18, &quot;minZoom&quot;: 0, &quot;noWrap&quot;: false, &quot;opacity&quot;: 1, &quot;subdomains&quot;: &quot;abc&quot;, &quot;tms&quot;: false}\n",
       "            ).addTo(map_d80a21cf3376e7ac69d5ed719d244c16);\n",
       "        \n",
       "    \n",
       "            var feature_group_21cb9c9c05afd95ddd394e04d76800f4 = L.featureGroup(\n",
       "                {}\n",
       "            ).addTo(map_d80a21cf3376e7ac69d5ed719d244c16);\n",
       "        \n",
       "    \n",
       "            var poly_line_0d6c349e90e3a8c544d1ffa70f4b9ebd = L.polyline(\n",
       "                [[19.32196392811767, -99.18465213931688], [19.32189885925839, -99.18473362845872], [19.3221113878063, -99.18491230853854], [19.32224684264521, -99.18498791664985], [19.32246219968944, -99.18498508194568], [19.32267998679276, -99.18499335110565], [19.32273741563741, -99.18479919081832], [19.3228633284782, -99.18435515767224], [19.32299652900147, -99.18393421144349], [19.32321545844859, -99.18340028902678], [19.3233975540518, -99.18315889266488], [19.32348327314327, -99.18286326504872], [19.3235229640505, -99.18271167684102], [19.32351482091696, -99.18253830236698], [19.32346766093098, -99.18232571522475], [19.32308714221544, -99.1813608885357], [19.32283852336008, -99.18072333662649], [19.32259586700595, -99.18012252287362], [19.3223544468944, -99.17950840633901], [19.32212229346577, -99.17882313153098], [19.32204780881743, -99.17834803662787], [19.32205726899192, -99.17793100224577], [19.32216406469403, -99.17744589782673], [19.32224447836488, -99.1771087652226], [19.32222011514343, -99.17685227532925], [19.32204727130608, -99.17670400709223], [19.32182013767353, -99.17665286428182], [19.32184854854646, -99.1762988626552], [19.32203956410908, -99.17630719651685], [19.3226389496551, -99.1763260747916], [19.32319109814826, -99.17626996369272], [19.32386770215778, -99.17614855066641], [19.32402589575236, -99.17584103856832], [19.32428467845481, -99.17554801928848], [19.32456782838777, -99.1753052774275], [19.32486324360336, -99.17547805727425], [19.3252853820727, -99.17516871431458], [19.32537603519675, -99.17475701233276], [19.32548832019855, -99.17468505362612], [19.32547437332044, -99.1743178622115], [19.32479704588904, -99.17442100281444], [19.32473582275872, -99.17391009278731], [19.3259599101843, -99.173784332076], [19.32723557870459, -99.17366955525372], [19.32850205766036, -99.17353920010449], [19.32974338431379, -99.17350484963386], [19.33303564979662, -99.17398935267448], [19.33412178228642, -99.1743042359999], [19.33606784059725, -99.17708441979329], [19.3363698574211, -99.17915106494493], [19.33685393989853, -99.18020945356142], [19.33788590939385, -99.18171938662091], [19.33815764761855, -99.18196756293268], [19.33843270865267, -99.18218512149824], [19.3386286185414, -99.18227905439967], [19.33901814534774, -99.18234636738373], [19.33932869245489, -99.18233899093818], [19.3396822002315, -99.182231200213], [19.34071564000302, -99.18199240654577], [19.34160467146377, -99.18180352347697], [19.34569942773182, -99.18095978535781], [19.34956173801501, -99.180199008833], [19.35044265922978, -99.17933956129302], [19.35151439369813, -99.17798498483774], [19.35303716979048, -99.17669337402413], [19.35403882327962, -99.17555765356676], [19.35720613243722, -99.17282403167559], [19.36134538538392, -99.17096105135846], [19.36313416076014, -99.17008064153386], [19.3643505438343, -99.16902537593691], [19.36784241973769, -99.16679441994732], [19.37066112379209, -99.16500742711594], [19.37917682140029, -99.1595552993169], [19.37998130116813, -99.1590872091761], [19.38613960094805, -99.15727379519575], [19.39085540289148, -99.15649240315061], [19.39588108152338, -99.15610479301512], [19.40653477620663, -99.15528081153136], [19.41300712175809, -99.15474859404694], [19.4138003645398, -99.15321165842002], [19.41497927563212, -99.15100252069003], [19.41680813371327, -99.15079297580996], [19.41927911984249, -99.15044171286354], [19.42326566677449, -99.14972286100574], [19.42729010512396, -99.1489493566808], [19.43035479216352, -99.14829431207119], [19.43188713480228, -99.14796678049687], [19.43351189524807, -99.14763596114618], [19.43538994815406, -99.1473214795065], [19.4373606832566, -99.14698844609217], [19.43738648622519, -99.14682301605657], [19.43970992259187, -99.14630222832905], [19.44128144839439, -99.14596192126814], [19.44275990252791, -99.14564050221031], [19.44447065192962, -99.14525983132376], [19.44532602633276, -99.14506949287106], [19.44618281898687, -99.14488050035648], [19.44699043457063, -99.1447131641473], [19.44784346224899, -99.14452349689722], [19.44874369193319, -99.1443209260608], [19.4496688516125, -99.14411497917358], [19.45070598168986, -99.14388781296323], [19.45122454662249, -99.14377422876896], [19.45148382906229, -99.14371743639954], [19.45261854108832, -99.14343848971198], [19.45318491164323, -99.14330270613364], [19.45346809688279, -99.14323481398893], [19.4537612237999, -99.14316570458845], [19.45400284040837, -99.14313011334258], [19.45561006364128, -99.14315834937658], [19.45724026805835, -99.14318766278427], [19.45829536267056, -99.14295882954622], [19.45999200326004, -99.1425434644247], [19.46133560354596, -99.14219588338489], [19.4626792031695, -99.14184829658463], [19.46310625584178, -99.14184436204725], [19.46348612909563, -99.1419215563198], [19.4637808065391, -99.1419948447142], [19.46464911544039, -99.14205624595716], [19.4653071025582, -99.14203945965437], [19.4658972443648, -99.14190924519231], [19.46631762869254, -99.14168826626619], [19.46680673032416, -99.14131480020414], [19.46751706110692, -99.14075526994449], [19.46825441878397, -99.1401697985444], [19.46913088822523, -99.13946159838268], [19.46959179872145, -99.13910119521648], [19.47003283333988, -99.1387200730028], [19.47067987587613, -99.13816809482178], [19.47037860277639, -99.13774086667668], [19.4696265465326, -99.13683027527807], [19.46974132682447, -99.13660745115749], [19.4705077491836, -99.13712304200088], [19.47121264513195, -99.13749011051328], [19.47205984277633, -99.1378524864174], [19.47261535086663, -99.13808654188163], [19.47399008827342, -99.13864965918754], [19.47594425864933, -99.1394324096461], [19.47762082634257, -99.14010819006255], [19.47902231062179, -99.14066785456235], [19.48088701598108, -99.1413584746308], [19.48531637242121, -99.14308855921456], [19.4886265190182, -99.14445692480976], [19.49298099259254, -99.1462248360883], [19.49416068377995, -99.14668708871243], [19.49851683811345, -99.1484061116496], [19.50132857215657, -99.14951011661701], [19.50396911752813, -99.14815035405059], [19.50315115265413, -99.14642771147844], [19.50538324839851, -99.14529758560391], [19.5052158427204, -99.14493615951372], [19.50510739586937, -99.144620306045], [19.50494872055668, -99.14403969713473], [19.50490141381851, -99.14374311728304], [19.50622552450172, -99.14296724868696], [19.50708536788588, -99.14109749565696], [19.50764021103851, -99.13981236903136], [19.50791793156084, -99.13991235506234], [19.50823576918875, -99.1390652637519], [19.50877537761635, -99.13925409219651], [19.50947204586989, -99.13920553769003], [19.50981667394127, -99.1382802474249], [19.51018533393527, -99.13736022720293], [19.51105993089231, -99.13866187881071], [19.5112370874221, -99.13859400401648], [19.51112565233345, -99.13858365132009], [19.51032330664903, -99.1373561613955], [19.51001143518995, -99.13686546213906], [19.50968798705627, -99.13635672722809], [19.50936149465032, -99.1358460236875], [19.50896931130715, -99.13520450096537], [19.50879516838532, -99.13491050664699], [19.50873231523545, -99.13472122746414], [19.5086975527067, -99.1345309382506], [19.50868309982405, -99.13432783802799], [19.50872981751692, -99.13418847808677], [19.50920956230163, -99.13387075280932], [19.50891646111562, -99.13339780670518], [19.50862079127895, -99.13292622624418], [19.50922395929447, -99.13239504273992], [19.50960631017587, -99.13241345874212], [19.5098227065421, -99.13232155641076], [19.50939705315601, -99.13203584519245], [19.50973395416478, -99.1312277748063], [19.5109383081086, -99.1300216591689], [19.5103191320652, -99.12933094971798], [19.50973635766665, -99.12867455001255], [19.50944496957966, -99.128346351934], [19.50879463089418, -99.12760479380438], [19.50906698809849, -99.12733374023958]],\n",
       "                {&quot;bubblingMouseEvents&quot;: true, &quot;color&quot;: &quot;blue&quot;, &quot;dashArray&quot;: null, &quot;dashOffset&quot;: null, &quot;fill&quot;: false, &quot;fillColor&quot;: &quot;blue&quot;, &quot;fillOpacity&quot;: 0.2, &quot;fillRule&quot;: &quot;evenodd&quot;, &quot;lineCap&quot;: &quot;round&quot;, &quot;lineJoin&quot;: &quot;round&quot;, &quot;noClip&quot;: false, &quot;opacity&quot;: 1.0, &quot;smoothFactor&quot;: 1.0, &quot;stroke&quot;: true, &quot;weight&quot;: 5}\n",
       "            ).addTo(feature_group_21cb9c9c05afd95ddd394e04d76800f4);\n",
       "        \n",
       "    \n",
       "        var popup_b05971e0431944d7c60e10482485adaa = L.popup({&quot;maxWidth&quot;: &quot;100%&quot;});\n",
       "\n",
       "        \n",
       "            \n",
       "                var html_62903bfd7693b9945a55a3308f7caf3b = $(`&lt;div id=&quot;html_62903bfd7693b9945a55a3308f7caf3b&quot; style=&quot;width: 100.0%; height: 100.0%;&quot;&gt;&lt;b&gt;Ruta fibra UNAM - Cinves&lt;/b&gt;&lt;/div&gt;`)[0];\n",
       "                popup_b05971e0431944d7c60e10482485adaa.setContent(html_62903bfd7693b9945a55a3308f7caf3b);\n",
       "            \n",
       "        \n",
       "\n",
       "        poly_line_0d6c349e90e3a8c544d1ffa70f4b9ebd.bindPopup(popup_b05971e0431944d7c60e10482485adaa)\n",
       "        ;\n",
       "\n",
       "        \n",
       "    \n",
       "    \n",
       "            poly_line_0d6c349e90e3a8c544d1ffa70f4b9ebd.bindTooltip(\n",
       "                `&lt;div&gt;\n",
       "                     Ruta fibra UNAM - CINVES\n",
       "                 &lt;/div&gt;`,\n",
       "                {&quot;sticky&quot;: true}\n",
       "            );\n",
       "        \n",
       "    \n",
       "            var layer_control_4645a63a6895285d8d2a2a8739182316 = {\n",
       "                base_layers : {\n",
       "                    &quot;openstreetmap&quot; : tile_layer_8c04e5b8a18e16aa979d7ed6fd2249de,\n",
       "                    &quot;stamenterrain&quot; : tile_layer_67c356ad4160c8c21234dd17525c37eb,\n",
       "                },\n",
       "                overlays :  {\n",
       "                    &quot;Ruta fibra UNAM CINVES&quot; : feature_group_21cb9c9c05afd95ddd394e04d76800f4,\n",
       "                },\n",
       "            };\n",
       "            L.control.layers(\n",
       "                layer_control_4645a63a6895285d8d2a2a8739182316.base_layers,\n",
       "                layer_control_4645a63a6895285d8d2a2a8739182316.overlays,\n",
       "                {&quot;autoZIndex&quot;: true, &quot;collapsed&quot;: true, &quot;position&quot;: &quot;topright&quot;}\n",
       "            ).addTo(map_d80a21cf3376e7ac69d5ed719d244c16);\n",
       "            tile_layer_67c356ad4160c8c21234dd17525c37eb.remove();\n",
       "        \n",
       "&lt;/script&gt;\n",
       "&lt;/html&gt;\" width=\"1000\" height=\"1000\"style=\"border:none !important;\" \"allowfullscreen\" \"webkitallowfullscreen\" \"mozallowfullscreen\"></iframe>"
      ],
      "text/plain": [
       "<folium.folium.Map at 0x7f82377a4640>"
      ]
     },
     "execution_count": 16,
     "metadata": {},
     "output_type": "execute_result"
    }
   ],
   "source": [
    "fig_delta=Figure(height=1000,width=1000)\n",
    "mCDMX=folium.Map(width=1000,height=1000,location=[19.3219639281176683,-99.1846521393168814],zoom_start=11,min_zoom=8,max_zoom=14,attr='Mapbox')\n",
    "fig_delta.add_child(mCDMX)\n",
    "\n",
    "# Creating feature groups\n",
    "f1=folium.FeatureGroup(\"Ruta fibra UNAM CINVES\")\n",
    "line_1=folium.vector_layers.PolyLine(coords_GPS_cdmx,popup='<b>Ruta fibra UNAM - Cinves</b>',tooltip='Ruta fibra UNAM - CINVES',color='blue',weight=5).add_to(f1)\n",
    "folium.TileLayer('Stamen Terrain').add_to(mCDMX)\n",
    "f1.add_to(mCDMX)\n",
    "\n",
    "folium.LayerControl().add_to(mCDMX)\n",
    "mCDMX"
   ]
  },
  {
   "cell_type": "code",
   "execution_count": 18,
   "id": "0a96eb48",
   "metadata": {
    "ExecuteTime": {
     "end_time": "2025-03-27T17:24:15.005610Z",
     "start_time": "2025-03-27T17:24:14.999004Z"
    }
   },
   "outputs": [],
   "source": [
    "token = \"pk.eyJ1IjoicG9zdG9yZ2FuaWMiLCJhIjoiY2t4MnRtYmduMXM5ZTJ6bnM0NnN4MTJoMSJ9.ncz37Mc8tFYlLsZAQUvgUg\""
   ]
  },
  {
   "cell_type": "code",
   "execution_count": 19,
   "id": "7c755734",
   "metadata": {
    "ExecuteTime": {
     "end_time": "2025-03-27T17:24:15.265433Z",
     "start_time": "2025-03-27T17:24:15.259765Z"
    }
   },
   "outputs": [],
   "source": [
    "tileurl = 'https://api.mapbox.com/v4/mapbox.satellite/{z}/{x}/{y}@2x.png?access_token=' + str(token)\n"
   ]
  },
  {
   "cell_type": "code",
   "execution_count": 20,
   "id": "8a9156bd",
   "metadata": {
    "ExecuteTime": {
     "end_time": "2025-03-27T17:24:15.494225Z",
     "start_time": "2025-03-27T17:24:15.462217Z"
    }
   },
   "outputs": [
    {
     "data": {
      "text/plain": [
       "<folium.map.LayerControl at 0x7f8237733fd0>"
      ]
     },
     "execution_count": 20,
     "metadata": {},
     "output_type": "execute_result"
    }
   ],
   "source": [
    "fig2=Figure(width=1000,height=1000)\n",
    "m2 = folium.Map(\n",
    "    location=[19.3219639281176683,-99.1846521393168814], zoom_start=9, tiles=tileurl, attr='Mapbox')\n",
    "fig2.add_child(m2)\n",
    "\n",
    "folium.TileLayer('Stamen Terrain').add_to(m2)\n",
    "folium.TileLayer('Stamen Toner').add_to(m2)\n",
    "folium.TileLayer('Stamen Water Color').add_to(m2)\n",
    "folium.TileLayer('cartodbpositron').add_to(m2)\n",
    "folium.TileLayer('cartodbdark_matter').add_to(m2)\n",
    "folium.LayerControl().add_to(m2)"
   ]
  },
  {
   "cell_type": "code",
   "execution_count": null,
   "id": "7fad4617",
   "metadata": {},
   "outputs": [],
   "source": []
  },
  {
   "cell_type": "code",
   "execution_count": 21,
   "id": "1ff88710",
   "metadata": {
    "ExecuteTime": {
     "end_time": "2025-03-27T17:24:16.307449Z",
     "start_time": "2025-03-27T17:24:16.269768Z"
    }
   },
   "outputs": [
    {
     "data": {
      "text/plain": [
       "<folium.map.LayerControl at 0x7f8237712fa0>"
      ]
     },
     "execution_count": 21,
     "metadata": {},
     "output_type": "execute_result"
    }
   ],
   "source": [
    "fig3=Figure(width=1000,height=1000)\n",
    "m3 = folium.Map(\n",
    "    location=[19.3219639281176683,-99.1846521393168814], zoom_start=12, tiles=tileurl, attr='Mapbox')\n",
    "f1.add_to(m3)\n",
    "fig3.add_child(m2)\n",
    "line_1=folium.vector_layers.PolyLine(coords_GPS_cdmx,popup='<b>Ruta fibra UNAM - Cinves</b>',tooltip='Ruta fibra UNAM - CINVES',color='blue',weight=5).add_to(f1)\n",
    "\n",
    "folium.TileLayer('Stamen Terrain').add_to(m3)\n",
    "folium.TileLayer('Stamen Toner').add_to(m3)\n",
    "folium.TileLayer('OpenStreetMap').add_to(m3)\n",
    "folium.TileLayer('cartodbpositron').add_to(m3)\n",
    "folium.TileLayer('cartodbdark_matter').add_to(m3)\n",
    "#folium.TileLayer('Esri.WorldImagery').add_to(m3)\n",
    "folium.LayerControl().add_to(m3)\n",
    "#folium.Marker(location=coordsGPS[0],popup='Custom Marker 1',tooltip='<strong>Click here to see Popup</strong>',icon=folium.Icon(color='red',icon='none')).add_to(m3)\n",
    "#folium.CircleMarker(location=coordsGPS[0],radius=2,color='green').add_to(m3)\n",
    "#for i in range(0,len(coords_recep)):\n",
    "    #print(cartesianas(each[0],each[1],each[2]))\n",
    "    #folium.CircleMarker(location=cartesianas(each[0],each[1],each[2]),radius=2,color='green').add_to(m3)\n",
    "    #folium.CircleMarker(location=cartesianas(coords_recep[i][0],coords_recep[i][1],coords_recep[i][2]),radius=0.5,color='green').add_to(m3)\n",
    "folium.LayerControl().add_to(m3)"
   ]
  },
  {
   "cell_type": "code",
   "execution_count": 22,
   "id": "7ad6854b",
   "metadata": {
    "ExecuteTime": {
     "end_time": "2025-03-27T17:24:16.989936Z",
     "start_time": "2025-03-27T17:24:16.943360Z"
    },
    "scrolled": false
   },
   "outputs": [
    {
     "data": {
      "text/html": [
       "<div style=\"width:100%;\"><div style=\"position:relative;width:100%;height:0;padding-bottom:60%;\"><span style=\"color:#565656\">Make this Notebook Trusted to load map: File -> Trust Notebook</span><iframe srcdoc=\"&lt;!DOCTYPE html&gt;\n",
       "&lt;html&gt;\n",
       "&lt;head&gt;\n",
       "    \n",
       "    &lt;meta http-equiv=&quot;content-type&quot; content=&quot;text/html; charset=UTF-8&quot; /&gt;\n",
       "    \n",
       "        &lt;script&gt;\n",
       "            L_NO_TOUCH = false;\n",
       "            L_DISABLE_3D = false;\n",
       "        &lt;/script&gt;\n",
       "    \n",
       "    &lt;style&gt;html, body {width: 100%;height: 100%;margin: 0;padding: 0;}&lt;/style&gt;\n",
       "    &lt;style&gt;#map {position:absolute;top:0;bottom:0;right:0;left:0;}&lt;/style&gt;\n",
       "    &lt;script src=&quot;https://cdn.jsdelivr.net/npm/leaflet@1.9.3/dist/leaflet.js&quot;&gt;&lt;/script&gt;\n",
       "    &lt;script src=&quot;https://code.jquery.com/jquery-1.12.4.min.js&quot;&gt;&lt;/script&gt;\n",
       "    &lt;script src=&quot;https://cdn.jsdelivr.net/npm/bootstrap@5.2.2/dist/js/bootstrap.bundle.min.js&quot;&gt;&lt;/script&gt;\n",
       "    &lt;script src=&quot;https://cdnjs.cloudflare.com/ajax/libs/Leaflet.awesome-markers/2.0.2/leaflet.awesome-markers.js&quot;&gt;&lt;/script&gt;\n",
       "    &lt;link rel=&quot;stylesheet&quot; href=&quot;https://cdn.jsdelivr.net/npm/leaflet@1.9.3/dist/leaflet.css&quot;/&gt;\n",
       "    &lt;link rel=&quot;stylesheet&quot; href=&quot;https://cdn.jsdelivr.net/npm/bootstrap@5.2.2/dist/css/bootstrap.min.css&quot;/&gt;\n",
       "    &lt;link rel=&quot;stylesheet&quot; href=&quot;https://netdna.bootstrapcdn.com/bootstrap/3.0.0/css/bootstrap.min.css&quot;/&gt;\n",
       "    &lt;link rel=&quot;stylesheet&quot; href=&quot;https://cdn.jsdelivr.net/npm/@fortawesome/fontawesome-free@6.2.0/css/all.min.css&quot;/&gt;\n",
       "    &lt;link rel=&quot;stylesheet&quot; href=&quot;https://cdnjs.cloudflare.com/ajax/libs/Leaflet.awesome-markers/2.0.2/leaflet.awesome-markers.css&quot;/&gt;\n",
       "    &lt;link rel=&quot;stylesheet&quot; href=&quot;https://cdn.jsdelivr.net/gh/python-visualization/folium/folium/templates/leaflet.awesome.rotate.min.css&quot;/&gt;\n",
       "    \n",
       "            &lt;meta name=&quot;viewport&quot; content=&quot;width=device-width,\n",
       "                initial-scale=1.0, maximum-scale=1.0, user-scalable=no&quot; /&gt;\n",
       "            &lt;style&gt;\n",
       "                #map_fe3b8a00b457aefc41b56e2c32050deb {\n",
       "                    position: relative;\n",
       "                    width: 100.0%;\n",
       "                    height: 100.0%;\n",
       "                    left: 0.0%;\n",
       "                    top: 0.0%;\n",
       "                }\n",
       "                .leaflet-container { font-size: 1rem; }\n",
       "            &lt;/style&gt;\n",
       "        \n",
       "&lt;/head&gt;\n",
       "&lt;body&gt;\n",
       "    \n",
       "    \n",
       "            &lt;div class=&quot;folium-map&quot; id=&quot;map_fe3b8a00b457aefc41b56e2c32050deb&quot; &gt;&lt;/div&gt;\n",
       "        \n",
       "&lt;/body&gt;\n",
       "&lt;script&gt;\n",
       "    \n",
       "    \n",
       "            var map_fe3b8a00b457aefc41b56e2c32050deb = L.map(\n",
       "                &quot;map_fe3b8a00b457aefc41b56e2c32050deb&quot;,\n",
       "                {\n",
       "                    center: [19.32196392811767, -99.18465213931688],\n",
       "                    crs: L.CRS.EPSG3857,\n",
       "                    zoom: 12,\n",
       "                    zoomControl: true,\n",
       "                    preferCanvas: false,\n",
       "                }\n",
       "            );\n",
       "\n",
       "            \n",
       "\n",
       "        \n",
       "    \n",
       "            var tile_layer_ef33ce2a7305281961e5eb274a8360ec = L.tileLayer(\n",
       "                &quot;https://api.mapbox.com/v4/mapbox.satellite/{z}/{x}/{y}@2x.png?access_token=pk.eyJ1IjoicG9zdG9yZ2FuaWMiLCJhIjoiY2t4MnRtYmduMXM5ZTJ6bnM0NnN4MTJoMSJ9.ncz37Mc8tFYlLsZAQUvgUg&quot;,\n",
       "                {&quot;attribution&quot;: &quot;Mapbox&quot;, &quot;detectRetina&quot;: false, &quot;maxNativeZoom&quot;: 18, &quot;maxZoom&quot;: 18, &quot;minZoom&quot;: 0, &quot;noWrap&quot;: false, &quot;opacity&quot;: 1, &quot;subdomains&quot;: &quot;abc&quot;, &quot;tms&quot;: false}\n",
       "            ).addTo(map_fe3b8a00b457aefc41b56e2c32050deb);\n",
       "        \n",
       "    \n",
       "            var feature_group_a4801f21feb132947719311cef15db58 = L.featureGroup(\n",
       "                {}\n",
       "            ).addTo(map_fe3b8a00b457aefc41b56e2c32050deb);\n",
       "        \n",
       "    \n",
       "            var poly_line_f2f70a27438873e1a87daf46c163cc00 = L.polyline(\n",
       "                [[19.32196392811767, -99.18465213931688], [19.32189885925839, -99.18473362845872], [19.3221113878063, -99.18491230853854], [19.32224684264521, -99.18498791664985], [19.32246219968944, -99.18498508194568], [19.32267998679276, -99.18499335110565], [19.32273741563741, -99.18479919081832], [19.3228633284782, -99.18435515767224], [19.32299652900147, -99.18393421144349], [19.32321545844859, -99.18340028902678], [19.3233975540518, -99.18315889266488], [19.32348327314327, -99.18286326504872], [19.3235229640505, -99.18271167684102], [19.32351482091696, -99.18253830236698], [19.32346766093098, -99.18232571522475], [19.32308714221544, -99.1813608885357], [19.32283852336008, -99.18072333662649], [19.32259586700595, -99.18012252287362], [19.3223544468944, -99.17950840633901], [19.32212229346577, -99.17882313153098], [19.32204780881743, -99.17834803662787], [19.32205726899192, -99.17793100224577], [19.32216406469403, -99.17744589782673], [19.32224447836488, -99.1771087652226], [19.32222011514343, -99.17685227532925], [19.32204727130608, -99.17670400709223], [19.32182013767353, -99.17665286428182], [19.32184854854646, -99.1762988626552], [19.32203956410908, -99.17630719651685], [19.3226389496551, -99.1763260747916], [19.32319109814826, -99.17626996369272], [19.32386770215778, -99.17614855066641], [19.32402589575236, -99.17584103856832], [19.32428467845481, -99.17554801928848], [19.32456782838777, -99.1753052774275], [19.32486324360336, -99.17547805727425], [19.3252853820727, -99.17516871431458], [19.32537603519675, -99.17475701233276], [19.32548832019855, -99.17468505362612], [19.32547437332044, -99.1743178622115], [19.32479704588904, -99.17442100281444], [19.32473582275872, -99.17391009278731], [19.3259599101843, -99.173784332076], [19.32723557870459, -99.17366955525372], [19.32850205766036, -99.17353920010449], [19.32974338431379, -99.17350484963386], [19.33303564979662, -99.17398935267448], [19.33412178228642, -99.1743042359999], [19.33606784059725, -99.17708441979329], [19.3363698574211, -99.17915106494493], [19.33685393989853, -99.18020945356142], [19.33788590939385, -99.18171938662091], [19.33815764761855, -99.18196756293268], [19.33843270865267, -99.18218512149824], [19.3386286185414, -99.18227905439967], [19.33901814534774, -99.18234636738373], [19.33932869245489, -99.18233899093818], [19.3396822002315, -99.182231200213], [19.34071564000302, -99.18199240654577], [19.34160467146377, -99.18180352347697], [19.34569942773182, -99.18095978535781], [19.34956173801501, -99.180199008833], [19.35044265922978, -99.17933956129302], [19.35151439369813, -99.17798498483774], [19.35303716979048, -99.17669337402413], [19.35403882327962, -99.17555765356676], [19.35720613243722, -99.17282403167559], [19.36134538538392, -99.17096105135846], [19.36313416076014, -99.17008064153386], [19.3643505438343, -99.16902537593691], [19.36784241973769, -99.16679441994732], [19.37066112379209, -99.16500742711594], [19.37917682140029, -99.1595552993169], [19.37998130116813, -99.1590872091761], [19.38613960094805, -99.15727379519575], [19.39085540289148, -99.15649240315061], [19.39588108152338, -99.15610479301512], [19.40653477620663, -99.15528081153136], [19.41300712175809, -99.15474859404694], [19.4138003645398, -99.15321165842002], [19.41497927563212, -99.15100252069003], [19.41680813371327, -99.15079297580996], [19.41927911984249, -99.15044171286354], [19.42326566677449, -99.14972286100574], [19.42729010512396, -99.1489493566808], [19.43035479216352, -99.14829431207119], [19.43188713480228, -99.14796678049687], [19.43351189524807, -99.14763596114618], [19.43538994815406, -99.1473214795065], [19.4373606832566, -99.14698844609217], [19.43738648622519, -99.14682301605657], [19.43970992259187, -99.14630222832905], [19.44128144839439, -99.14596192126814], [19.44275990252791, -99.14564050221031], [19.44447065192962, -99.14525983132376], [19.44532602633276, -99.14506949287106], [19.44618281898687, -99.14488050035648], [19.44699043457063, -99.1447131641473], [19.44784346224899, -99.14452349689722], [19.44874369193319, -99.1443209260608], [19.4496688516125, -99.14411497917358], [19.45070598168986, -99.14388781296323], [19.45122454662249, -99.14377422876896], [19.45148382906229, -99.14371743639954], [19.45261854108832, -99.14343848971198], [19.45318491164323, -99.14330270613364], [19.45346809688279, -99.14323481398893], [19.4537612237999, -99.14316570458845], [19.45400284040837, -99.14313011334258], [19.45561006364128, -99.14315834937658], [19.45724026805835, -99.14318766278427], [19.45829536267056, -99.14295882954622], [19.45999200326004, -99.1425434644247], [19.46133560354596, -99.14219588338489], [19.4626792031695, -99.14184829658463], [19.46310625584178, -99.14184436204725], [19.46348612909563, -99.1419215563198], [19.4637808065391, -99.1419948447142], [19.46464911544039, -99.14205624595716], [19.4653071025582, -99.14203945965437], [19.4658972443648, -99.14190924519231], [19.46631762869254, -99.14168826626619], [19.46680673032416, -99.14131480020414], [19.46751706110692, -99.14075526994449], [19.46825441878397, -99.1401697985444], [19.46913088822523, -99.13946159838268], [19.46959179872145, -99.13910119521648], [19.47003283333988, -99.1387200730028], [19.47067987587613, -99.13816809482178], [19.47037860277639, -99.13774086667668], [19.4696265465326, -99.13683027527807], [19.46974132682447, -99.13660745115749], [19.4705077491836, -99.13712304200088], [19.47121264513195, -99.13749011051328], [19.47205984277633, -99.1378524864174], [19.47261535086663, -99.13808654188163], [19.47399008827342, -99.13864965918754], [19.47594425864933, -99.1394324096461], [19.47762082634257, -99.14010819006255], [19.47902231062179, -99.14066785456235], [19.48088701598108, -99.1413584746308], [19.48531637242121, -99.14308855921456], [19.4886265190182, -99.14445692480976], [19.49298099259254, -99.1462248360883], [19.49416068377995, -99.14668708871243], [19.49851683811345, -99.1484061116496], [19.50132857215657, -99.14951011661701], [19.50396911752813, -99.14815035405059], [19.50315115265413, -99.14642771147844], [19.50538324839851, -99.14529758560391], [19.5052158427204, -99.14493615951372], [19.50510739586937, -99.144620306045], [19.50494872055668, -99.14403969713473], [19.50490141381851, -99.14374311728304], [19.50622552450172, -99.14296724868696], [19.50708536788588, -99.14109749565696], [19.50764021103851, -99.13981236903136], [19.50791793156084, -99.13991235506234], [19.50823576918875, -99.1390652637519], [19.50877537761635, -99.13925409219651], [19.50947204586989, -99.13920553769003], [19.50981667394127, -99.1382802474249], [19.51018533393527, -99.13736022720293], [19.51105993089231, -99.13866187881071], [19.5112370874221, -99.13859400401648], [19.51112565233345, -99.13858365132009], [19.51032330664903, -99.1373561613955], [19.51001143518995, -99.13686546213906], [19.50968798705627, -99.13635672722809], [19.50936149465032, -99.1358460236875], [19.50896931130715, -99.13520450096537], [19.50879516838532, -99.13491050664699], [19.50873231523545, -99.13472122746414], [19.5086975527067, -99.1345309382506], [19.50868309982405, -99.13432783802799], [19.50872981751692, -99.13418847808677], [19.50920956230163, -99.13387075280932], [19.50891646111562, -99.13339780670518], [19.50862079127895, -99.13292622624418], [19.50922395929447, -99.13239504273992], [19.50960631017587, -99.13241345874212], [19.5098227065421, -99.13232155641076], [19.50939705315601, -99.13203584519245], [19.50973395416478, -99.1312277748063], [19.5109383081086, -99.1300216591689], [19.5103191320652, -99.12933094971798], [19.50973635766665, -99.12867455001255], [19.50944496957966, -99.128346351934], [19.50879463089418, -99.12760479380438], [19.50906698809849, -99.12733374023958]],\n",
       "                {&quot;bubblingMouseEvents&quot;: true, &quot;color&quot;: &quot;blue&quot;, &quot;dashArray&quot;: null, &quot;dashOffset&quot;: null, &quot;fill&quot;: false, &quot;fillColor&quot;: &quot;blue&quot;, &quot;fillOpacity&quot;: 0.2, &quot;fillRule&quot;: &quot;evenodd&quot;, &quot;lineCap&quot;: &quot;round&quot;, &quot;lineJoin&quot;: &quot;round&quot;, &quot;noClip&quot;: false, &quot;opacity&quot;: 1.0, &quot;smoothFactor&quot;: 1.0, &quot;stroke&quot;: true, &quot;weight&quot;: 5}\n",
       "            ).addTo(feature_group_a4801f21feb132947719311cef15db58);\n",
       "        \n",
       "    \n",
       "        var popup_1201ffece3cb8be1687d00422ede6e0c = L.popup({&quot;maxWidth&quot;: &quot;100%&quot;});\n",
       "\n",
       "        \n",
       "            \n",
       "                var html_69007c3d9734535de3ecd4f0e5c889c1 = $(`&lt;div id=&quot;html_69007c3d9734535de3ecd4f0e5c889c1&quot; style=&quot;width: 100.0%; height: 100.0%;&quot;&gt;&lt;b&gt;Ruta fibra UNAM - Cinves&lt;/b&gt;&lt;/div&gt;`)[0];\n",
       "                popup_1201ffece3cb8be1687d00422ede6e0c.setContent(html_69007c3d9734535de3ecd4f0e5c889c1);\n",
       "            \n",
       "        \n",
       "\n",
       "        poly_line_f2f70a27438873e1a87daf46c163cc00.bindPopup(popup_1201ffece3cb8be1687d00422ede6e0c)\n",
       "        ;\n",
       "\n",
       "        \n",
       "    \n",
       "    \n",
       "            poly_line_f2f70a27438873e1a87daf46c163cc00.bindTooltip(\n",
       "                `&lt;div&gt;\n",
       "                     Ruta fibra UNAM - CINVES\n",
       "                 &lt;/div&gt;`,\n",
       "                {&quot;sticky&quot;: true}\n",
       "            );\n",
       "        \n",
       "    \n",
       "            var poly_line_bc0198b0ac42d34132e11089225f611d = L.polyline(\n",
       "                [[19.32196392811767, -99.18465213931688], [19.32189885925839, -99.18473362845872], [19.3221113878063, -99.18491230853854], [19.32224684264521, -99.18498791664985], [19.32246219968944, -99.18498508194568], [19.32267998679276, -99.18499335110565], [19.32273741563741, -99.18479919081832], [19.3228633284782, -99.18435515767224], [19.32299652900147, -99.18393421144349], [19.32321545844859, -99.18340028902678], [19.3233975540518, -99.18315889266488], [19.32348327314327, -99.18286326504872], [19.3235229640505, -99.18271167684102], [19.32351482091696, -99.18253830236698], [19.32346766093098, -99.18232571522475], [19.32308714221544, -99.1813608885357], [19.32283852336008, -99.18072333662649], [19.32259586700595, -99.18012252287362], [19.3223544468944, -99.17950840633901], [19.32212229346577, -99.17882313153098], [19.32204780881743, -99.17834803662787], [19.32205726899192, -99.17793100224577], [19.32216406469403, -99.17744589782673], [19.32224447836488, -99.1771087652226], [19.32222011514343, -99.17685227532925], [19.32204727130608, -99.17670400709223], [19.32182013767353, -99.17665286428182], [19.32184854854646, -99.1762988626552], [19.32203956410908, -99.17630719651685], [19.3226389496551, -99.1763260747916], [19.32319109814826, -99.17626996369272], [19.32386770215778, -99.17614855066641], [19.32402589575236, -99.17584103856832], [19.32428467845481, -99.17554801928848], [19.32456782838777, -99.1753052774275], [19.32486324360336, -99.17547805727425], [19.3252853820727, -99.17516871431458], [19.32537603519675, -99.17475701233276], [19.32548832019855, -99.17468505362612], [19.32547437332044, -99.1743178622115], [19.32479704588904, -99.17442100281444], [19.32473582275872, -99.17391009278731], [19.3259599101843, -99.173784332076], [19.32723557870459, -99.17366955525372], [19.32850205766036, -99.17353920010449], [19.32974338431379, -99.17350484963386], [19.33303564979662, -99.17398935267448], [19.33412178228642, -99.1743042359999], [19.33606784059725, -99.17708441979329], [19.3363698574211, -99.17915106494493], [19.33685393989853, -99.18020945356142], [19.33788590939385, -99.18171938662091], [19.33815764761855, -99.18196756293268], [19.33843270865267, -99.18218512149824], [19.3386286185414, -99.18227905439967], [19.33901814534774, -99.18234636738373], [19.33932869245489, -99.18233899093818], [19.3396822002315, -99.182231200213], [19.34071564000302, -99.18199240654577], [19.34160467146377, -99.18180352347697], [19.34569942773182, -99.18095978535781], [19.34956173801501, -99.180199008833], [19.35044265922978, -99.17933956129302], [19.35151439369813, -99.17798498483774], [19.35303716979048, -99.17669337402413], [19.35403882327962, -99.17555765356676], [19.35720613243722, -99.17282403167559], [19.36134538538392, -99.17096105135846], [19.36313416076014, -99.17008064153386], [19.3643505438343, -99.16902537593691], [19.36784241973769, -99.16679441994732], [19.37066112379209, -99.16500742711594], [19.37917682140029, -99.1595552993169], [19.37998130116813, -99.1590872091761], [19.38613960094805, -99.15727379519575], [19.39085540289148, -99.15649240315061], [19.39588108152338, -99.15610479301512], [19.40653477620663, -99.15528081153136], [19.41300712175809, -99.15474859404694], [19.4138003645398, -99.15321165842002], [19.41497927563212, -99.15100252069003], [19.41680813371327, -99.15079297580996], [19.41927911984249, -99.15044171286354], [19.42326566677449, -99.14972286100574], [19.42729010512396, -99.1489493566808], [19.43035479216352, -99.14829431207119], [19.43188713480228, -99.14796678049687], [19.43351189524807, -99.14763596114618], [19.43538994815406, -99.1473214795065], [19.4373606832566, -99.14698844609217], [19.43738648622519, -99.14682301605657], [19.43970992259187, -99.14630222832905], [19.44128144839439, -99.14596192126814], [19.44275990252791, -99.14564050221031], [19.44447065192962, -99.14525983132376], [19.44532602633276, -99.14506949287106], [19.44618281898687, -99.14488050035648], [19.44699043457063, -99.1447131641473], [19.44784346224899, -99.14452349689722], [19.44874369193319, -99.1443209260608], [19.4496688516125, -99.14411497917358], [19.45070598168986, -99.14388781296323], [19.45122454662249, -99.14377422876896], [19.45148382906229, -99.14371743639954], [19.45261854108832, -99.14343848971198], [19.45318491164323, -99.14330270613364], [19.45346809688279, -99.14323481398893], [19.4537612237999, -99.14316570458845], [19.45400284040837, -99.14313011334258], [19.45561006364128, -99.14315834937658], [19.45724026805835, -99.14318766278427], [19.45829536267056, -99.14295882954622], [19.45999200326004, -99.1425434644247], [19.46133560354596, -99.14219588338489], [19.4626792031695, -99.14184829658463], [19.46310625584178, -99.14184436204725], [19.46348612909563, -99.1419215563198], [19.4637808065391, -99.1419948447142], [19.46464911544039, -99.14205624595716], [19.4653071025582, -99.14203945965437], [19.4658972443648, -99.14190924519231], [19.46631762869254, -99.14168826626619], [19.46680673032416, -99.14131480020414], [19.46751706110692, -99.14075526994449], [19.46825441878397, -99.1401697985444], [19.46913088822523, -99.13946159838268], [19.46959179872145, -99.13910119521648], [19.47003283333988, -99.1387200730028], [19.47067987587613, -99.13816809482178], [19.47037860277639, -99.13774086667668], [19.4696265465326, -99.13683027527807], [19.46974132682447, -99.13660745115749], [19.4705077491836, -99.13712304200088], [19.47121264513195, -99.13749011051328], [19.47205984277633, -99.1378524864174], [19.47261535086663, -99.13808654188163], [19.47399008827342, -99.13864965918754], [19.47594425864933, -99.1394324096461], [19.47762082634257, -99.14010819006255], [19.47902231062179, -99.14066785456235], [19.48088701598108, -99.1413584746308], [19.48531637242121, -99.14308855921456], [19.4886265190182, -99.14445692480976], [19.49298099259254, -99.1462248360883], [19.49416068377995, -99.14668708871243], [19.49851683811345, -99.1484061116496], [19.50132857215657, -99.14951011661701], [19.50396911752813, -99.14815035405059], [19.50315115265413, -99.14642771147844], [19.50538324839851, -99.14529758560391], [19.5052158427204, -99.14493615951372], [19.50510739586937, -99.144620306045], [19.50494872055668, -99.14403969713473], [19.50490141381851, -99.14374311728304], [19.50622552450172, -99.14296724868696], [19.50708536788588, -99.14109749565696], [19.50764021103851, -99.13981236903136], [19.50791793156084, -99.13991235506234], [19.50823576918875, -99.1390652637519], [19.50877537761635, -99.13925409219651], [19.50947204586989, -99.13920553769003], [19.50981667394127, -99.1382802474249], [19.51018533393527, -99.13736022720293], [19.51105993089231, -99.13866187881071], [19.5112370874221, -99.13859400401648], [19.51112565233345, -99.13858365132009], [19.51032330664903, -99.1373561613955], [19.51001143518995, -99.13686546213906], [19.50968798705627, -99.13635672722809], [19.50936149465032, -99.1358460236875], [19.50896931130715, -99.13520450096537], [19.50879516838532, -99.13491050664699], [19.50873231523545, -99.13472122746414], [19.5086975527067, -99.1345309382506], [19.50868309982405, -99.13432783802799], [19.50872981751692, -99.13418847808677], [19.50920956230163, -99.13387075280932], [19.50891646111562, -99.13339780670518], [19.50862079127895, -99.13292622624418], [19.50922395929447, -99.13239504273992], [19.50960631017587, -99.13241345874212], [19.5098227065421, -99.13232155641076], [19.50939705315601, -99.13203584519245], [19.50973395416478, -99.1312277748063], [19.5109383081086, -99.1300216591689], [19.5103191320652, -99.12933094971798], [19.50973635766665, -99.12867455001255], [19.50944496957966, -99.128346351934], [19.50879463089418, -99.12760479380438], [19.50906698809849, -99.12733374023958]],\n",
       "                {&quot;bubblingMouseEvents&quot;: true, &quot;color&quot;: &quot;blue&quot;, &quot;dashArray&quot;: null, &quot;dashOffset&quot;: null, &quot;fill&quot;: false, &quot;fillColor&quot;: &quot;blue&quot;, &quot;fillOpacity&quot;: 0.2, &quot;fillRule&quot;: &quot;evenodd&quot;, &quot;lineCap&quot;: &quot;round&quot;, &quot;lineJoin&quot;: &quot;round&quot;, &quot;noClip&quot;: false, &quot;opacity&quot;: 1.0, &quot;smoothFactor&quot;: 1.0, &quot;stroke&quot;: true, &quot;weight&quot;: 5}\n",
       "            ).addTo(feature_group_a4801f21feb132947719311cef15db58);\n",
       "        \n",
       "    \n",
       "        var popup_c6898627c3d67301d9644f73af50215c = L.popup({&quot;maxWidth&quot;: &quot;100%&quot;});\n",
       "\n",
       "        \n",
       "            \n",
       "                var html_ccef7e3fc9f9ac60334100c5ecc28baa = $(`&lt;div id=&quot;html_ccef7e3fc9f9ac60334100c5ecc28baa&quot; style=&quot;width: 100.0%; height: 100.0%;&quot;&gt;&lt;b&gt;Ruta fibra UNAM - Cinves&lt;/b&gt;&lt;/div&gt;`)[0];\n",
       "                popup_c6898627c3d67301d9644f73af50215c.setContent(html_ccef7e3fc9f9ac60334100c5ecc28baa);\n",
       "            \n",
       "        \n",
       "\n",
       "        poly_line_bc0198b0ac42d34132e11089225f611d.bindPopup(popup_c6898627c3d67301d9644f73af50215c)\n",
       "        ;\n",
       "\n",
       "        \n",
       "    \n",
       "    \n",
       "            poly_line_bc0198b0ac42d34132e11089225f611d.bindTooltip(\n",
       "                `&lt;div&gt;\n",
       "                     Ruta fibra UNAM - CINVES\n",
       "                 &lt;/div&gt;`,\n",
       "                {&quot;sticky&quot;: true}\n",
       "            );\n",
       "        \n",
       "    \n",
       "            var tile_layer_123ebeb131879b949a0f1cce81823091 = L.tileLayer(\n",
       "                &quot;https://stamen-tiles-{s}.a.ssl.fastly.net/terrain/{z}/{x}/{y}.jpg&quot;,\n",
       "                {&quot;attribution&quot;: &quot;Map tiles by \\u003ca target=\\&quot;_blank\\&quot; href=\\&quot;http://stamen.com\\&quot;\\u003eStamen Design\\u003c/a\\u003e, under \\u003ca target=\\&quot;_blank\\&quot; href=\\&quot;http://creativecommons.org/licenses/by/3.0\\&quot;\\u003eCC BY 3.0\\u003c/a\\u003e. Data by \\u0026copy; \\u003ca target=\\&quot;_blank\\&quot; href=\\&quot;http://openstreetmap.org\\&quot;\\u003eOpenStreetMap\\u003c/a\\u003e, under \\u003ca target=\\&quot;_blank\\&quot; href=\\&quot;http://creativecommons.org/licenses/by-sa/3.0\\&quot;\\u003eCC BY SA\\u003c/a\\u003e.&quot;, &quot;detectRetina&quot;: false, &quot;maxNativeZoom&quot;: 18, &quot;maxZoom&quot;: 18, &quot;minZoom&quot;: 0, &quot;noWrap&quot;: false, &quot;opacity&quot;: 1, &quot;subdomains&quot;: &quot;abc&quot;, &quot;tms&quot;: false}\n",
       "            ).addTo(map_fe3b8a00b457aefc41b56e2c32050deb);\n",
       "        \n",
       "    \n",
       "            var tile_layer_30deb4a4f17334a4b3bfa0ebcfc6682a = L.tileLayer(\n",
       "                &quot;https://stamen-tiles-{s}.a.ssl.fastly.net/toner/{z}/{x}/{y}.png&quot;,\n",
       "                {&quot;attribution&quot;: &quot;Map tiles by \\u003ca target=\\&quot;_blank\\&quot; href=\\&quot;http://stamen.com\\&quot;\\u003eStamen Design\\u003c/a\\u003e, under \\u003ca target=\\&quot;_blank\\&quot; href=\\&quot;http://creativecommons.org/licenses/by/3.0\\&quot;\\u003eCC BY 3.0\\u003c/a\\u003e. Data by \\u0026copy; \\u003ca target=\\&quot;_blank\\&quot; href=\\&quot;http://openstreetmap.org\\&quot;\\u003eOpenStreetMap\\u003c/a\\u003e, under \\u003ca target=\\&quot;_blank\\&quot; href=\\&quot;http://www.openstreetmap.org/copyright\\&quot;\\u003eODbL\\u003c/a\\u003e.&quot;, &quot;detectRetina&quot;: false, &quot;maxNativeZoom&quot;: 18, &quot;maxZoom&quot;: 18, &quot;minZoom&quot;: 0, &quot;noWrap&quot;: false, &quot;opacity&quot;: 1, &quot;subdomains&quot;: &quot;abc&quot;, &quot;tms&quot;: false}\n",
       "            ).addTo(map_fe3b8a00b457aefc41b56e2c32050deb);\n",
       "        \n",
       "    \n",
       "            var tile_layer_1005a43a38d4ad876b0053a9c6c8b0fd = L.tileLayer(\n",
       "                &quot;https://{s}.tile.openstreetmap.org/{z}/{x}/{y}.png&quot;,\n",
       "                {&quot;attribution&quot;: &quot;Data by \\u0026copy; \\u003ca target=\\&quot;_blank\\&quot; href=\\&quot;http://openstreetmap.org\\&quot;\\u003eOpenStreetMap\\u003c/a\\u003e, under \\u003ca target=\\&quot;_blank\\&quot; href=\\&quot;http://www.openstreetmap.org/copyright\\&quot;\\u003eODbL\\u003c/a\\u003e.&quot;, &quot;detectRetina&quot;: false, &quot;maxNativeZoom&quot;: 18, &quot;maxZoom&quot;: 18, &quot;minZoom&quot;: 0, &quot;noWrap&quot;: false, &quot;opacity&quot;: 1, &quot;subdomains&quot;: &quot;abc&quot;, &quot;tms&quot;: false}\n",
       "            ).addTo(map_fe3b8a00b457aefc41b56e2c32050deb);\n",
       "        \n",
       "    \n",
       "            var tile_layer_39c0dc3ccf83b6c2bcdf19130c8cb814 = L.tileLayer(\n",
       "                &quot;https://cartodb-basemaps-{s}.global.ssl.fastly.net/light_all/{z}/{x}/{y}.png&quot;,\n",
       "                {&quot;attribution&quot;: &quot;\\u0026copy; \\u003ca target=\\&quot;_blank\\&quot; href=\\&quot;http://www.openstreetmap.org/copyright\\&quot;\\u003eOpenStreetMap\\u003c/a\\u003e contributors \\u0026copy; \\u003ca target=\\&quot;_blank\\&quot; href=\\&quot;http://cartodb.com/attributions\\&quot;\\u003eCartoDB\\u003c/a\\u003e, CartoDB \\u003ca target=\\&quot;_blank\\&quot; href =\\&quot;http://cartodb.com/attributions\\&quot;\\u003eattributions\\u003c/a\\u003e&quot;, &quot;detectRetina&quot;: false, &quot;maxNativeZoom&quot;: 18, &quot;maxZoom&quot;: 18, &quot;minZoom&quot;: 0, &quot;noWrap&quot;: false, &quot;opacity&quot;: 1, &quot;subdomains&quot;: &quot;abc&quot;, &quot;tms&quot;: false}\n",
       "            ).addTo(map_fe3b8a00b457aefc41b56e2c32050deb);\n",
       "        \n",
       "    \n",
       "            var tile_layer_fd6da9d032bfd83505bde51acf4f45e0 = L.tileLayer(\n",
       "                &quot;https://cartodb-basemaps-{s}.global.ssl.fastly.net/dark_all/{z}/{x}/{y}.png&quot;,\n",
       "                {&quot;attribution&quot;: &quot;\\u0026copy; \\u003ca target=\\&quot;_blank\\&quot; href=\\&quot;http://www.openstreetmap.org/copyright\\&quot;\\u003eOpenStreetMap\\u003c/a\\u003e contributors \\u0026copy; \\u003ca target=\\&quot;_blank\\&quot; href=\\&quot;http://cartodb.com/attributions\\&quot;\\u003eCartoDB\\u003c/a\\u003e, CartoDB \\u003ca target=\\&quot;_blank\\&quot; href =\\&quot;http://cartodb.com/attributions\\&quot;\\u003eattributions\\u003c/a\\u003e&quot;, &quot;detectRetina&quot;: false, &quot;maxNativeZoom&quot;: 18, &quot;maxZoom&quot;: 18, &quot;minZoom&quot;: 0, &quot;noWrap&quot;: false, &quot;opacity&quot;: 1, &quot;subdomains&quot;: &quot;abc&quot;, &quot;tms&quot;: false}\n",
       "            ).addTo(map_fe3b8a00b457aefc41b56e2c32050deb);\n",
       "        \n",
       "    \n",
       "            var layer_control_15e9a7dcd4cf1b9a68757d07d35d9d6f = {\n",
       "                base_layers : {\n",
       "                    &quot;https://api.mapbox.com/v4/mapbox.satellite/{z}/{x}/{y}@2x.png?access_token=pk.eyj1ijoicg9zdg9yz2fuawmilcjhijoiy2t4mnrtymdumxm5ztj6bnm0nnn4mtjomsj9.ncz37mc8tfyllszaquvgug&quot; : tile_layer_ef33ce2a7305281961e5eb274a8360ec,\n",
       "                    &quot;stamenterrain&quot; : tile_layer_123ebeb131879b949a0f1cce81823091,\n",
       "                    &quot;stamentoner&quot; : tile_layer_30deb4a4f17334a4b3bfa0ebcfc6682a,\n",
       "                    &quot;openstreetmap&quot; : tile_layer_1005a43a38d4ad876b0053a9c6c8b0fd,\n",
       "                    &quot;cartodbpositron&quot; : tile_layer_39c0dc3ccf83b6c2bcdf19130c8cb814,\n",
       "                    &quot;cartodbdark_matter&quot; : tile_layer_fd6da9d032bfd83505bde51acf4f45e0,\n",
       "                },\n",
       "                overlays :  {\n",
       "                    &quot;Ruta fibra UNAM CINVES&quot; : feature_group_a4801f21feb132947719311cef15db58,\n",
       "                },\n",
       "            };\n",
       "            L.control.layers(\n",
       "                layer_control_15e9a7dcd4cf1b9a68757d07d35d9d6f.base_layers,\n",
       "                layer_control_15e9a7dcd4cf1b9a68757d07d35d9d6f.overlays,\n",
       "                {&quot;autoZIndex&quot;: true, &quot;collapsed&quot;: true, &quot;position&quot;: &quot;topright&quot;}\n",
       "            ).addTo(map_fe3b8a00b457aefc41b56e2c32050deb);\n",
       "            tile_layer_123ebeb131879b949a0f1cce81823091.remove();\n",
       "            tile_layer_30deb4a4f17334a4b3bfa0ebcfc6682a.remove();\n",
       "            tile_layer_1005a43a38d4ad876b0053a9c6c8b0fd.remove();\n",
       "            tile_layer_39c0dc3ccf83b6c2bcdf19130c8cb814.remove();\n",
       "            tile_layer_fd6da9d032bfd83505bde51acf4f45e0.remove();\n",
       "        \n",
       "    \n",
       "            var layer_control_9543f0986b15f509609fa0b1fb641141 = {\n",
       "                base_layers : {\n",
       "                    &quot;https://api.mapbox.com/v4/mapbox.satellite/{z}/{x}/{y}@2x.png?access_token=pk.eyj1ijoicg9zdg9yz2fuawmilcjhijoiy2t4mnrtymdumxm5ztj6bnm0nnn4mtjomsj9.ncz37mc8tfyllszaquvgug&quot; : tile_layer_ef33ce2a7305281961e5eb274a8360ec,\n",
       "                    &quot;stamenterrain&quot; : tile_layer_123ebeb131879b949a0f1cce81823091,\n",
       "                    &quot;stamentoner&quot; : tile_layer_30deb4a4f17334a4b3bfa0ebcfc6682a,\n",
       "                    &quot;openstreetmap&quot; : tile_layer_1005a43a38d4ad876b0053a9c6c8b0fd,\n",
       "                    &quot;cartodbpositron&quot; : tile_layer_39c0dc3ccf83b6c2bcdf19130c8cb814,\n",
       "                    &quot;cartodbdark_matter&quot; : tile_layer_fd6da9d032bfd83505bde51acf4f45e0,\n",
       "                },\n",
       "                overlays :  {\n",
       "                    &quot;Ruta fibra UNAM CINVES&quot; : feature_group_a4801f21feb132947719311cef15db58,\n",
       "                },\n",
       "            };\n",
       "            L.control.layers(\n",
       "                layer_control_9543f0986b15f509609fa0b1fb641141.base_layers,\n",
       "                layer_control_9543f0986b15f509609fa0b1fb641141.overlays,\n",
       "                {&quot;autoZIndex&quot;: true, &quot;collapsed&quot;: true, &quot;position&quot;: &quot;topright&quot;}\n",
       "            ).addTo(map_fe3b8a00b457aefc41b56e2c32050deb);\n",
       "            tile_layer_123ebeb131879b949a0f1cce81823091.remove();\n",
       "            tile_layer_30deb4a4f17334a4b3bfa0ebcfc6682a.remove();\n",
       "            tile_layer_1005a43a38d4ad876b0053a9c6c8b0fd.remove();\n",
       "            tile_layer_39c0dc3ccf83b6c2bcdf19130c8cb814.remove();\n",
       "            tile_layer_fd6da9d032bfd83505bde51acf4f45e0.remove();\n",
       "        \n",
       "&lt;/script&gt;\n",
       "&lt;/html&gt;\" style=\"position:absolute;width:100%;height:100%;left:0;top:0;border:none !important;\" allowfullscreen webkitallowfullscreen mozallowfullscreen></iframe></div></div>"
      ],
      "text/plain": [
       "<folium.folium.Map at 0x7f82376d68b0>"
      ]
     },
     "execution_count": 22,
     "metadata": {},
     "output_type": "execute_result"
    }
   ],
   "source": [
    "m3"
   ]
  },
  {
   "cell_type": "code",
   "execution_count": 61,
   "id": "e9722f92",
   "metadata": {
    "ExecuteTime": {
     "end_time": "2025-03-27T17:25:15.839013Z",
     "start_time": "2025-03-27T17:25:15.825798Z"
    }
   },
   "outputs": [
    {
     "name": "stdout",
     "output_type": "stream",
     "text": [
      "27.500734259780565\n"
     ]
    }
   ],
   "source": [
    "#sumar todas las distancias entre puntos coordenados para la porción de fibra UNAM-Cinves, para confirmar longitud\n",
    "# Suma de distancias sin diferencia de alturas\n",
    "\n",
    "total = 0\n",
    "\n",
    "for i in range(0,len(np_coords_swp)-1):\n",
    "\n",
    "    base = haversine(np_coords_swp[i][:2],np_coords_swp[i+1][:2])\n",
    "    total = total + base\n",
    "\n",
    "print(total)"
   ]
  },
  {
   "cell_type": "code",
   "execution_count": 62,
   "id": "ae05ab50",
   "metadata": {
    "ExecuteTime": {
     "end_time": "2025-03-27T17:25:16.530517Z",
     "start_time": "2025-03-27T17:25:16.513404Z"
    }
   },
   "outputs": [
    {
     "name": "stdout",
     "output_type": "stream",
     "text": [
      "27.501630323559837\n"
     ]
    }
   ],
   "source": [
    "#sumar todas las distancias entre puntos coordenados para la porción de fibra UNAM-Cinves, para confirmar longitud\n",
    "# Suma de distancias CON diferencia de alturas\n",
    "\n",
    "total = 0\n",
    "\n",
    "for i in range(0,len(coords_GPS_cdmx)-1):\n",
    "    \n",
    "    altura = np.abs(np_coords_swp[i][2]-np_coords_swp[i+1][2])\n",
    "\n",
    "    base = haversine(np_coords_swp[i][:2],np_coords_swp[i+1][:2])\n",
    "    total = total + np.sqrt(base**2+(altura/1000)**2)\n",
    "print(total)"
   ]
  },
  {
   "cell_type": "code",
   "execution_count": null,
   "id": "4ec753df",
   "metadata": {},
   "outputs": [],
   "source": []
  },
  {
   "cell_type": "code",
   "execution_count": 63,
   "id": "459c308b",
   "metadata": {
    "ExecuteTime": {
     "end_time": "2025-03-27T17:25:17.698683Z",
     "start_time": "2025-03-27T17:25:17.689273Z"
    }
   },
   "outputs": [
    {
     "data": {
      "text/plain": [
       "[19.3221113878063, -99.18491230853854]"
      ]
     },
     "execution_count": 63,
     "metadata": {},
     "output_type": "execute_result"
    }
   ],
   "source": [
    "coords_GPS_cdmx[2]"
   ]
  },
  {
   "cell_type": "code",
   "execution_count": 64,
   "id": "f6972a39",
   "metadata": {
    "ExecuteTime": {
     "end_time": "2025-03-27T17:25:18.115463Z",
     "start_time": "2025-03-27T17:25:18.106350Z"
    }
   },
   "outputs": [
    {
     "data": {
      "text/plain": [
       "[19.32224684264521, -99.18498791664985]"
      ]
     },
     "execution_count": 64,
     "metadata": {},
     "output_type": "execute_result"
    }
   ],
   "source": [
    "coords_GPS_cdmx[3]"
   ]
  },
  {
   "cell_type": "code",
   "execution_count": 65,
   "id": "17972de8",
   "metadata": {
    "ExecuteTime": {
     "end_time": "2025-03-27T17:25:18.858455Z",
     "start_time": "2025-03-27T17:25:18.849866Z"
    }
   },
   "outputs": [
    {
     "data": {
      "text/plain": [
       "[19.32196392811767, -99.18465213931688]"
      ]
     },
     "execution_count": 65,
     "metadata": {},
     "output_type": "execute_result"
    }
   ],
   "source": [
    "coords_GPS_cdmx[0]"
   ]
  },
  {
   "cell_type": "code",
   "execution_count": null,
   "id": "84f7c681",
   "metadata": {},
   "outputs": [],
   "source": []
  },
  {
   "cell_type": "code",
   "execution_count": 66,
   "id": "1c4f2ae5",
   "metadata": {
    "ExecuteTime": {
     "end_time": "2025-03-27T17:25:19.598988Z",
     "start_time": "2025-03-27T17:25:19.587650Z"
    }
   },
   "outputs": [],
   "source": [
    "coords_cdmx = pd.read_csv('/home/aortiza/CDMX/CoordsFibraUNAMCINVES.txt',header=None)"
   ]
  },
  {
   "cell_type": "code",
   "execution_count": 67,
   "id": "ed8aef4a",
   "metadata": {
    "ExecuteTime": {
     "end_time": "2025-03-27T17:25:21.895279Z",
     "start_time": "2025-03-27T17:25:21.889312Z"
    }
   },
   "outputs": [],
   "source": [
    "np_coords = coords_cdmx.to_numpy()"
   ]
  },
  {
   "cell_type": "code",
   "execution_count": 68,
   "id": "bff43aa7",
   "metadata": {
    "ExecuteTime": {
     "end_time": "2025-03-27T17:25:22.169716Z",
     "start_time": "2025-03-27T17:25:22.163801Z"
    }
   },
   "outputs": [],
   "source": [
    "np_coords;"
   ]
  },
  {
   "cell_type": "code",
   "execution_count": 69,
   "id": "4d421f0f",
   "metadata": {
    "ExecuteTime": {
     "end_time": "2025-03-27T17:25:22.706128Z",
     "start_time": "2025-03-27T17:25:22.697564Z"
    }
   },
   "outputs": [],
   "source": [
    "np_coords_swp = np_coords.copy()\n",
    "for i in range(0,len(np_coords)):\n",
    "    np_coords_swp[i] =[np_coords_swp[i][1],np_coords_swp[i][0],np_coords_swp[i][2]]\n",
    "    "
   ]
  },
  {
   "cell_type": "code",
   "execution_count": 70,
   "id": "cda72df8",
   "metadata": {
    "ExecuteTime": {
     "end_time": "2025-03-27T17:25:23.360203Z",
     "start_time": "2025-03-27T17:25:23.354462Z"
    }
   },
   "outputs": [],
   "source": [
    "np_coords_swp;"
   ]
  },
  {
   "cell_type": "code",
   "execution_count": 71,
   "id": "acc38757",
   "metadata": {
    "ExecuteTime": {
     "end_time": "2025-03-27T17:25:23.792873Z",
     "start_time": "2025-03-27T17:25:23.787169Z"
    }
   },
   "outputs": [],
   "source": [
    "np_coords;"
   ]
  },
  {
   "cell_type": "code",
   "execution_count": 72,
   "id": "6dcb8f5b",
   "metadata": {
    "ExecuteTime": {
     "end_time": "2025-03-27T17:25:24.307995Z",
     "start_time": "2025-03-27T17:25:24.290737Z"
    }
   },
   "outputs": [
    {
     "name": "stdout",
     "output_type": "stream",
     "text": [
      "101.0682168765189\n"
     ]
    }
   ],
   "source": [
    "#sumar todas las distancias entre puntos coordenados para la delta UNAM-CINVESTAV, para confirmar longitud\n",
    "from geopy.distance import geodesic\n",
    "total = 0\n",
    "\n",
    "for i in range(0,len(np_coords)-1):\n",
    "    base = haversine(np_coords_swp[i][:2],np_coords_swp[i+1][:2])\n",
    "    #base = geodesic([np_coords[i][1],np_coords[i][0]],[np_coords[i+1][1],np_coords[i+1][0]]).km\n",
    "    altura = np.abs(np_coords_swp[i][2]-np_coords_swp[i+1][2])\n",
    "    total = total + np.sqrt(base**2+(altura)**2)\n",
    "print(total)"
   ]
  },
  {
   "cell_type": "code",
   "execution_count": 73,
   "id": "b4f6f670",
   "metadata": {
    "ExecuteTime": {
     "end_time": "2025-03-27T17:25:25.344569Z",
     "start_time": "2025-03-27T17:25:25.335047Z"
    }
   },
   "outputs": [
    {
     "data": {
      "text/plain": [
       "2272.334494031394"
      ]
     },
     "execution_count": 73,
     "metadata": {},
     "output_type": "execute_result"
    }
   ],
   "source": [
    "np_coords_swp[0][2]"
   ]
  },
  {
   "cell_type": "code",
   "execution_count": 74,
   "id": "1984e32e",
   "metadata": {
    "ExecuteTime": {
     "end_time": "2025-03-27T17:25:25.874368Z",
     "start_time": "2025-03-27T17:25:25.864782Z"
    }
   },
   "outputs": [
    {
     "data": {
      "text/plain": [
       "0.011201184208514296"
      ]
     },
     "execution_count": 74,
     "metadata": {},
     "output_type": "execute_result"
    }
   ],
   "source": [
    "haversine(np_coords_swp[0][:2],np_coords_swp[1][:2])"
   ]
  },
  {
   "cell_type": "code",
   "execution_count": 75,
   "id": "acde5201",
   "metadata": {
    "ExecuteTime": {
     "end_time": "2025-03-27T17:25:26.500343Z",
     "start_time": "2025-03-27T17:25:26.490166Z"
    }
   },
   "outputs": [
    {
     "data": {
      "text/plain": [
       "0.0301663973352676"
      ]
     },
     "execution_count": 75,
     "metadata": {},
     "output_type": "execute_result"
    }
   ],
   "source": [
    "haversine(np_coords_swp[1][:2],np_coords_swp[2][:2])"
   ]
  },
  {
   "cell_type": "code",
   "execution_count": 76,
   "id": "c52e3777",
   "metadata": {
    "ExecuteTime": {
     "end_time": "2025-03-27T17:25:26.975064Z",
     "start_time": "2025-03-27T17:25:26.964891Z"
    }
   },
   "outputs": [
    {
     "data": {
      "text/plain": [
       "0.01702365087288932"
      ]
     },
     "execution_count": 76,
     "metadata": {},
     "output_type": "execute_result"
    }
   ],
   "source": [
    "haversine(np_coords_swp[2][:2],np_coords_swp[3][:2])"
   ]
  },
  {
   "cell_type": "code",
   "execution_count": null,
   "id": "af7c1939",
   "metadata": {
    "ExecuteTime": {
     "end_time": "2025-03-27T17:25:27.315935Z",
     "start_time": "2025-03-27T17:25:27.294816Z"
    }
   },
   "outputs": [],
   "source": [
    "np_coords_swp"
   ]
  },
  {
   "cell_type": "code",
   "execution_count": 45,
   "id": "18addb4c",
   "metadata": {
    "ExecuteTime": {
     "end_time": "2025-03-27T17:24:42.276311Z",
     "start_time": "2025-03-27T17:24:42.265352Z"
    }
   },
   "outputs": [
    {
     "name": "stdout",
     "output_type": "stream",
     "text": [
      "83.60133058957535\n"
     ]
    }
   ],
   "source": [
    "total = 0\n",
    "\n",
    "\n",
    "for i in range(0,len(np_coords_swp)-1):\n",
    "    \n",
    "    altura = np.abs(np_coords_swp[i][2]-np_coords_swp[i+1][2])\n",
    "    total = total + altura\n",
    "\n",
    "print(total)"
   ]
  },
  {
   "cell_type": "code",
   "execution_count": 46,
   "id": "a4f68de0",
   "metadata": {
    "ExecuteTime": {
     "end_time": "2025-03-27T17:24:42.820019Z",
     "start_time": "2025-03-27T17:24:42.793304Z"
    }
   },
   "outputs": [],
   "source": [
    "np.savetxt(\"CoordsUNAM_Cinvestav.csv\",np_coords_swp, delimiter=\",\",fmt=\"%5.8f\")"
   ]
  },
  {
   "cell_type": "code",
   "execution_count": 47,
   "id": "11383186",
   "metadata": {
    "ExecuteTime": {
     "end_time": "2025-03-27T17:24:43.305058Z",
     "start_time": "2025-03-27T17:24:43.297455Z"
    }
   },
   "outputs": [],
   "source": [
    "coordZ = np.zeros(len(np_coords_swp))\n",
    "\n",
    "for i in range(0,len(coordZ)):\n",
    "    coordZ[i] = np_coords_swp[i][2]"
   ]
  },
  {
   "cell_type": "code",
   "execution_count": 48,
   "id": "5af3a349",
   "metadata": {
    "ExecuteTime": {
     "end_time": "2025-03-27T17:24:44.130519Z",
     "start_time": "2025-03-27T17:24:43.874378Z"
    }
   },
   "outputs": [
    {
     "data": {
      "text/plain": [
       "[<matplotlib.lines.Line2D at 0x7f823728a100>]"
      ]
     },
     "execution_count": 48,
     "metadata": {},
     "output_type": "execute_result"
    },
    {
     "data": {
      "image/png": "[encoded data removed]",
      "text/plain": [
       "<Figure size 640x480 with 1 Axes>"
      ]
     },
     "metadata": {},
     "output_type": "display_data"
    }
   ],
   "source": [
    "plt.plot(np.arange(len(np_coords_swp)),coordZ)"
   ]
  },
  {
   "cell_type": "code",
   "execution_count": 49,
   "id": "ed1260a8",
   "metadata": {
    "ExecuteTime": {
     "end_time": "2025-03-27T17:24:44.257415Z",
     "start_time": "2025-03-27T17:24:44.248796Z"
    }
   },
   "outputs": [
    {
     "data": {
      "text/plain": [
       "190"
      ]
     },
     "execution_count": 49,
     "metadata": {},
     "output_type": "execute_result"
    }
   ],
   "source": [
    "len(np_coords_swp)"
   ]
  },
  {
   "cell_type": "code",
   "execution_count": 50,
   "id": "ac2a96ac",
   "metadata": {
    "ExecuteTime": {
     "end_time": "2025-03-27T17:24:44.773663Z",
     "start_time": "2025-03-27T17:24:44.764625Z"
    }
   },
   "outputs": [
    {
     "data": {
      "text/plain": [
       "numpy.ndarray"
      ]
     },
     "execution_count": 50,
     "metadata": {},
     "output_type": "execute_result"
    }
   ],
   "source": [
    "type(np_coords_swp)"
   ]
  },
  {
   "cell_type": "code",
   "execution_count": 51,
   "id": "97411de4",
   "metadata": {
    "ExecuteTime": {
     "end_time": "2025-03-27T17:24:45.081697Z",
     "start_time": "2025-03-27T17:24:45.075696Z"
    }
   },
   "outputs": [],
   "source": [
    "from mpl_toolkits import mplot3d"
   ]
  },
  {
   "cell_type": "code",
   "execution_count": 52,
   "id": "e670a672",
   "metadata": {
    "ExecuteTime": {
     "end_time": "2025-03-27T17:24:45.269027Z",
     "start_time": "2025-03-27T17:24:45.263569Z"
    }
   },
   "outputs": [],
   "source": [
    "import numpy as np\n",
    "import matplotlib.pyplot as plt"
   ]
  },
  {
   "cell_type": "code",
   "execution_count": 53,
   "id": "a5f74d02",
   "metadata": {
    "ExecuteTime": {
     "end_time": "2025-03-27T17:24:45.625998Z",
     "start_time": "2025-03-27T17:24:45.595285Z"
    }
   },
   "outputs": [],
   "source": [
    "%matplotlib notebook"
   ]
  },
  {
   "cell_type": "code",
   "execution_count": null,
   "id": "4fb69f5b",
   "metadata": {
    "ExecuteTime": {
     "end_time": "2025-03-27T17:24:46.085269Z",
     "start_time": "2025-03-27T17:24:45.967924Z"
    },
    "jupyter": {
     "outputs_hidden": true
    }
   },
   "outputs": [],
   "source": []
  },
  {
   "cell_type": "code",
   "execution_count": 55,
   "id": "143e0ea2",
   "metadata": {
    "ExecuteTime": {
     "end_time": "2025-03-27T17:25:01.646969Z",
     "start_time": "2025-03-27T17:25:01.563004Z"
    }
   },
   "outputs": [
    {
     "data": {
      "application/javascript": [
       "/* Put everything inside the global mpl namespace */\n",
       "/* global mpl */\n",
       "window.mpl = {};\n",
       "\n",
       "mpl.get_websocket_type = function () {\n",
       "    if (typeof WebSocket !== 'undefined') {\n",
       "        return WebSocket;\n",
       "    } else if (typeof MozWebSocket !== 'undefined') {\n",
       "        return MozWebSocket;\n",
       "    } else {\n",
       "        alert(\n",
       "            'Your browser does not have WebSocket support. ' +\n",
       "                'Please try Chrome, Safari or Firefox ≥ 6. ' +\n",
       "                'Firefox 4 and 5 are also supported but you ' +\n",
       "                'have to enable WebSockets in about:config.'\n",
       "        );\n",
       "    }\n",
       "};\n",
       "\n",
       "mpl.figure = function (figure_id, websocket, ondownload, parent_element) {\n",
       "    this.id = figure_id;\n",
       "\n",
       "    this.ws = websocket;\n",
       "\n",
       "    this.supports_binary = this.ws.binaryType !== undefined;\n",
       "\n",
       "    if (!this.supports_binary) {\n",
       "        var warnings = document.getElementById('mpl-warnings');\n",
       "        if (warnings) {\n",
       "            warnings.style.display = 'block';\n",
       "            warnings.textContent =\n",
       "                'This browser does not support binary websocket messages. ' +\n",
       "                'Performance may be slow.';\n",
       "        }\n",
       "    }\n",
       "\n",
       "    this.imageObj = new Image();\n",
       "\n",
       "    this.context = undefined;\n",
       "    this.message = undefined;\n",
       "    this.canvas = undefined;\n",
       "    this.rubberband_canvas = undefined;\n",
       "    this.rubberband_context = undefined;\n",
       "    this.format_dropdown = undefined;\n",
       "\n",
       "    this.image_mode = 'full';\n",
       "\n",
       "    this.root = document.createElement('div');\n",
       "    this.root.setAttribute('style', 'display: inline-block');\n",
       "    this._root_extra_style(this.root);\n",
       "\n",
       "    parent_element.appendChild(this.root);\n",
       "\n",
       "    this._init_header(this);\n",
       "    this._init_canvas(this);\n",
       "    this._init_toolbar(this);\n",
       "\n",
       "    var fig = this;\n",
       "\n",
       "    this.waiting = false;\n",
       "\n",
       "    this.ws.onopen = function () {\n",
       "        fig.send_message('supports_binary', { value: fig.supports_binary });\n",
       "        fig.send_message('send_image_mode', {});\n",
       "        if (fig.ratio !== 1) {\n",
       "            fig.send_message('set_device_pixel_ratio', {\n",
       "                device_pixel_ratio: fig.ratio,\n",
       "            });\n",
       "        }\n",
       "        fig.send_message('refresh', {});\n",
       "    };\n",
       "\n",
       "    this.imageObj.onload = function () {\n",
       "        if (fig.image_mode === 'full') {\n",
       "            // Full images could contain transparency (where diff images\n",
       "            // almost always do), so we need to clear the canvas so that\n",
       "            // there is no ghosting.\n",
       "            fig.context.clearRect(0, 0, fig.canvas.width, fig.canvas.height);\n",
       "        }\n",
       "        fig.context.drawImage(fig.imageObj, 0, 0);\n",
       "    };\n",
       "\n",
       "    this.imageObj.onunload = function () {\n",
       "        fig.ws.close();\n",
       "    };\n",
       "\n",
       "    this.ws.onmessage = this._make_on_message_function(this);\n",
       "\n",
       "    this.ondownload = ondownload;\n",
       "};\n",
       "\n",
       "mpl.figure.prototype._init_header = function () {\n",
       "    var titlebar = document.createElement('div');\n",
       "    titlebar.classList =\n",
       "        'ui-dialog-titlebar ui-widget-header ui-corner-all ui-helper-clearfix';\n",
       "    var titletext = document.createElement('div');\n",
       "    titletext.classList = 'ui-dialog-title';\n",
       "    titletext.setAttribute(\n",
       "        'style',\n",
       "        'width: 100%; text-align: center; padding: 3px;'\n",
       "    );\n",
       "    titlebar.appendChild(titletext);\n",
       "    this.root.appendChild(titlebar);\n",
       "    this.header = titletext;\n",
       "};\n",
       "\n",
       "mpl.figure.prototype._canvas_extra_style = function (_canvas_div) {};\n",
       "\n",
       "mpl.figure.prototype._root_extra_style = function (_canvas_div) {};\n",
       "\n",
       "mpl.figure.prototype._init_canvas = function () {\n",
       "    var fig = this;\n",
       "\n",
       "    var canvas_div = (this.canvas_div = document.createElement('div'));\n",
       "    canvas_div.setAttribute('tabindex', '0');\n",
       "    canvas_div.setAttribute(\n",
       "        'style',\n",
       "        'border: 1px solid #ddd;' +\n",
       "            'box-sizing: content-box;' +\n",
       "            'clear: both;' +\n",
       "            'min-height: 1px;' +\n",
       "            'min-width: 1px;' +\n",
       "            'outline: 0;' +\n",
       "            'overflow: hidden;' +\n",
       "            'position: relative;' +\n",
       "            'resize: both;' +\n",
       "            'z-index: 2;'\n",
       "    );\n",
       "\n",
       "    function on_keyboard_event_closure(name) {\n",
       "        return function (event) {\n",
       "            return fig.key_event(event, name);\n",
       "        };\n",
       "    }\n",
       "\n",
       "    canvas_div.addEventListener(\n",
       "        'keydown',\n",
       "        on_keyboard_event_closure('key_press')\n",
       "    );\n",
       "    canvas_div.addEventListener(\n",
       "        'keyup',\n",
       "        on_keyboard_event_closure('key_release')\n",
       "    );\n",
       "\n",
       "    this._canvas_extra_style(canvas_div);\n",
       "    this.root.appendChild(canvas_div);\n",
       "\n",
       "    var canvas = (this.canvas = document.createElement('canvas'));\n",
       "    canvas.classList.add('mpl-canvas');\n",
       "    canvas.setAttribute(\n",
       "        'style',\n",
       "        'box-sizing: content-box;' +\n",
       "            'pointer-events: none;' +\n",
       "            'position: relative;' +\n",
       "            'z-index: 0;'\n",
       "    );\n",
       "\n",
       "    this.context = canvas.getContext('2d');\n",
       "\n",
       "    var backingStore =\n",
       "        this.context.backingStorePixelRatio ||\n",
       "        this.context.webkitBackingStorePixelRatio ||\n",
       "        this.context.mozBackingStorePixelRatio ||\n",
       "        this.context.msBackingStorePixelRatio ||\n",
       "        this.context.oBackingStorePixelRatio ||\n",
       "        this.context.backingStorePixelRatio ||\n",
       "        1;\n",
       "\n",
       "    this.ratio = (window.devicePixelRatio || 1) / backingStore;\n",
       "\n",
       "    var rubberband_canvas = (this.rubberband_canvas = document.createElement(\n",
       "        'canvas'\n",
       "    ));\n",
       "    rubberband_canvas.setAttribute(\n",
       "        'style',\n",
       "        'box-sizing: content-box;' +\n",
       "            'left: 0;' +\n",
       "            'pointer-events: none;' +\n",
       "            'position: absolute;' +\n",
       "            'top: 0;' +\n",
       "            'z-index: 1;'\n",
       "    );\n",
       "\n",
       "    // Apply a ponyfill if ResizeObserver is not implemented by browser.\n",
       "    if (this.ResizeObserver === undefined) {\n",
       "        if (window.ResizeObserver !== undefined) {\n",
       "            this.ResizeObserver = window.ResizeObserver;\n",
       "        } else {\n",
       "            var obs = _JSXTOOLS_RESIZE_OBSERVER({});\n",
       "            this.ResizeObserver = obs.ResizeObserver;\n",
       "        }\n",
       "    }\n",
       "\n",
       "    this.resizeObserverInstance = new this.ResizeObserver(function (entries) {\n",
       "        var nentries = entries.length;\n",
       "        for (var i = 0; i < nentries; i++) {\n",
       "            var entry = entries[i];\n",
       "            var width, height;\n",
       "            if (entry.contentBoxSize) {\n",
       "                if (entry.contentBoxSize instanceof Array) {\n",
       "                    // Chrome 84 implements new version of spec.\n",
       "                    width = entry.contentBoxSize[0].inlineSize;\n",
       "                    height = entry.contentBoxSize[0].blockSize;\n",
       "                } else {\n",
       "                    // Firefox implements old version of spec.\n",
       "                    width = entry.contentBoxSize.inlineSize;\n",
       "                    height = entry.contentBoxSize.blockSize;\n",
       "                }\n",
       "            } else {\n",
       "                // Chrome <84 implements even older version of spec.\n",
       "                width = entry.contentRect.width;\n",
       "                height = entry.contentRect.height;\n",
       "            }\n",
       "\n",
       "            // Keep the size of the canvas and rubber band canvas in sync with\n",
       "            // the canvas container.\n",
       "            if (entry.devicePixelContentBoxSize) {\n",
       "                // Chrome 84 implements new version of spec.\n",
       "                canvas.setAttribute(\n",
       "                    'width',\n",
       "                    entry.devicePixelContentBoxSize[0].inlineSize\n",
       "                );\n",
       "                canvas.setAttribute(\n",
       "                    'height',\n",
       "                    entry.devicePixelContentBoxSize[0].blockSize\n",
       "                );\n",
       "            } else {\n",
       "                canvas.setAttribute('width', width * fig.ratio);\n",
       "                canvas.setAttribute('height', height * fig.ratio);\n",
       "            }\n",
       "            /* This rescales the canvas back to display pixels, so that it\n",
       "             * appears correct on HiDPI screens. */\n",
       "            canvas.style.width = width + 'px';\n",
       "            canvas.style.height = height + 'px';\n",
       "\n",
       "            rubberband_canvas.setAttribute('width', width);\n",
       "            rubberband_canvas.setAttribute('height', height);\n",
       "\n",
       "            // And update the size in Python. We ignore the initial 0/0 size\n",
       "            // that occurs as the element is placed into the DOM, which should\n",
       "            // otherwise not happen due to the minimum size styling.\n",
       "            if (fig.ws.readyState == 1 && width != 0 && height != 0) {\n",
       "                fig.request_resize(width, height);\n",
       "            }\n",
       "        }\n",
       "    });\n",
       "    this.resizeObserverInstance.observe(canvas_div);\n",
       "\n",
       "    function on_mouse_event_closure(name) {\n",
       "        /* User Agent sniffing is bad, but WebKit is busted:\n",
       "         * https://bugs.webkit.org/show_bug.cgi?id=144526\n",
       "         * https://bugs.webkit.org/show_bug.cgi?id=181818\n",
       "         * The worst that happens here is that they get an extra browser\n",
       "         * selection when dragging, if this check fails to catch them.\n",
       "         */\n",
       "        var UA = navigator.userAgent;\n",
       "        var isWebKit = /AppleWebKit/.test(UA) && !/Chrome/.test(UA);\n",
       "        if(isWebKit) {\n",
       "            return function (event) {\n",
       "                /* This prevents the web browser from automatically changing to\n",
       "                 * the text insertion cursor when the button is pressed. We\n",
       "                 * want to control all of the cursor setting manually through\n",
       "                 * the 'cursor' event from matplotlib */\n",
       "                event.preventDefault()\n",
       "                return fig.mouse_event(event, name);\n",
       "            };\n",
       "        } else {\n",
       "            return function (event) {\n",
       "                return fig.mouse_event(event, name);\n",
       "            };\n",
       "        }\n",
       "    }\n",
       "\n",
       "    canvas_div.addEventListener(\n",
       "        'mousedown',\n",
       "        on_mouse_event_closure('button_press')\n",
       "    );\n",
       "    canvas_div.addEventListener(\n",
       "        'mouseup',\n",
       "        on_mouse_event_closure('button_release')\n",
       "    );\n",
       "    canvas_div.addEventListener(\n",
       "        'dblclick',\n",
       "        on_mouse_event_closure('dblclick')\n",
       "    );\n",
       "    // Throttle sequential mouse events to 1 every 20ms.\n",
       "    canvas_div.addEventListener(\n",
       "        'mousemove',\n",
       "        on_mouse_event_closure('motion_notify')\n",
       "    );\n",
       "\n",
       "    canvas_div.addEventListener(\n",
       "        'mouseenter',\n",
       "        on_mouse_event_closure('figure_enter')\n",
       "    );\n",
       "    canvas_div.addEventListener(\n",
       "        'mouseleave',\n",
       "        on_mouse_event_closure('figure_leave')\n",
       "    );\n",
       "\n",
       "    canvas_div.addEventListener('wheel', function (event) {\n",
       "        if (event.deltaY < 0) {\n",
       "            event.step = 1;\n",
       "        } else {\n",
       "            event.step = -1;\n",
       "        }\n",
       "        on_mouse_event_closure('scroll')(event);\n",
       "    });\n",
       "\n",
       "    canvas_div.appendChild(canvas);\n",
       "    canvas_div.appendChild(rubberband_canvas);\n",
       "\n",
       "    this.rubberband_context = rubberband_canvas.getContext('2d');\n",
       "    this.rubberband_context.strokeStyle = '#000000';\n",
       "\n",
       "    this._resize_canvas = function (width, height, forward) {\n",
       "        if (forward) {\n",
       "            canvas_div.style.width = width + 'px';\n",
       "            canvas_div.style.height = height + 'px';\n",
       "        }\n",
       "    };\n",
       "\n",
       "    // Disable right mouse context menu.\n",
       "    canvas_div.addEventListener('contextmenu', function (_e) {\n",
       "        event.preventDefault();\n",
       "        return false;\n",
       "    });\n",
       "\n",
       "    function set_focus() {\n",
       "        canvas.focus();\n",
       "        canvas_div.focus();\n",
       "    }\n",
       "\n",
       "    window.setTimeout(set_focus, 100);\n",
       "};\n",
       "\n",
       "mpl.figure.prototype._init_toolbar = function () {\n",
       "    var fig = this;\n",
       "\n",
       "    var toolbar = document.createElement('div');\n",
       "    toolbar.classList = 'mpl-toolbar';\n",
       "    this.root.appendChild(toolbar);\n",
       "\n",
       "    function on_click_closure(name) {\n",
       "        return function (_event) {\n",
       "            return fig.toolbar_button_onclick(name);\n",
       "        };\n",
       "    }\n",
       "\n",
       "    function on_mouseover_closure(tooltip) {\n",
       "        return function (event) {\n",
       "            if (!event.currentTarget.disabled) {\n",
       "                return fig.toolbar_button_onmouseover(tooltip);\n",
       "            }\n",
       "        };\n",
       "    }\n",
       "\n",
       "    fig.buttons = {};\n",
       "    var buttonGroup = document.createElement('div');\n",
       "    buttonGroup.classList = 'mpl-button-group';\n",
       "    for (var toolbar_ind in mpl.toolbar_items) {\n",
       "        var name = mpl.toolbar_items[toolbar_ind][0];\n",
       "        var tooltip = mpl.toolbar_items[toolbar_ind][1];\n",
       "        var image = mpl.toolbar_items[toolbar_ind][2];\n",
       "        var method_name = mpl.toolbar_items[toolbar_ind][3];\n",
       "\n",
       "        if (!name) {\n",
       "            /* Instead of a spacer, we start a new button group. */\n",
       "            if (buttonGroup.hasChildNodes()) {\n",
       "                toolbar.appendChild(buttonGroup);\n",
       "            }\n",
       "            buttonGroup = document.createElement('div');\n",
       "            buttonGroup.classList = 'mpl-button-group';\n",
       "            continue;\n",
       "        }\n",
       "\n",
       "        var button = (fig.buttons[name] = document.createElement('button'));\n",
       "        button.classList = 'mpl-widget';\n",
       "        button.setAttribute('role', 'button');\n",
       "        button.setAttribute('aria-disabled', 'false');\n",
       "        button.addEventListener('click', on_click_closure(method_name));\n",
       "        button.addEventListener('mouseover', on_mouseover_closure(tooltip));\n",
       "\n",
       "        var icon_img = document.createElement('img');\n",
       "        icon_img.src = '_images/' + image + '.png';\n",
       "        icon_img.srcset = '_images/' + image + '_large.png 2x';\n",
       "        icon_img.alt = tooltip;\n",
       "        button.appendChild(icon_img);\n",
       "\n",
       "        buttonGroup.appendChild(button);\n",
       "    }\n",
       "\n",
       "    if (buttonGroup.hasChildNodes()) {\n",
       "        toolbar.appendChild(buttonGroup);\n",
       "    }\n",
       "\n",
       "    var fmt_picker = document.createElement('select');\n",
       "    fmt_picker.classList = 'mpl-widget';\n",
       "    toolbar.appendChild(fmt_picker);\n",
       "    this.format_dropdown = fmt_picker;\n",
       "\n",
       "    for (var ind in mpl.extensions) {\n",
       "        var fmt = mpl.extensions[ind];\n",
       "        var option = document.createElement('option');\n",
       "        option.selected = fmt === mpl.default_extension;\n",
       "        option.innerHTML = fmt;\n",
       "        fmt_picker.appendChild(option);\n",
       "    }\n",
       "\n",
       "    var status_bar = document.createElement('span');\n",
       "    status_bar.classList = 'mpl-message';\n",
       "    toolbar.appendChild(status_bar);\n",
       "    this.message = status_bar;\n",
       "};\n",
       "\n",
       "mpl.figure.prototype.request_resize = function (x_pixels, y_pixels) {\n",
       "    // Request matplotlib to resize the figure. Matplotlib will then trigger a resize in the client,\n",
       "    // which will in turn request a refresh of the image.\n",
       "    this.send_message('resize', { width: x_pixels, height: y_pixels });\n",
       "};\n",
       "\n",
       "mpl.figure.prototype.send_message = function (type, properties) {\n",
       "    properties['type'] = type;\n",
       "    properties['figure_id'] = this.id;\n",
       "    this.ws.send(JSON.stringify(properties));\n",
       "};\n",
       "\n",
       "mpl.figure.prototype.send_draw_message = function () {\n",
       "    if (!this.waiting) {\n",
       "        this.waiting = true;\n",
       "        this.ws.send(JSON.stringify({ type: 'draw', figure_id: this.id }));\n",
       "    }\n",
       "};\n",
       "\n",
       "mpl.figure.prototype.handle_save = function (fig, _msg) {\n",
       "    var format_dropdown = fig.format_dropdown;\n",
       "    var format = format_dropdown.options[format_dropdown.selectedIndex].value;\n",
       "    fig.ondownload(fig, format);\n",
       "};\n",
       "\n",
       "mpl.figure.prototype.handle_resize = function (fig, msg) {\n",
       "    var size = msg['size'];\n",
       "    if (size[0] !== fig.canvas.width || size[1] !== fig.canvas.height) {\n",
       "        fig._resize_canvas(size[0], size[1], msg['forward']);\n",
       "        fig.send_message('refresh', {});\n",
       "    }\n",
       "};\n",
       "\n",
       "mpl.figure.prototype.handle_rubberband = function (fig, msg) {\n",
       "    var x0 = msg['x0'] / fig.ratio;\n",
       "    var y0 = (fig.canvas.height - msg['y0']) / fig.ratio;\n",
       "    var x1 = msg['x1'] / fig.ratio;\n",
       "    var y1 = (fig.canvas.height - msg['y1']) / fig.ratio;\n",
       "    x0 = Math.floor(x0) + 0.5;\n",
       "    y0 = Math.floor(y0) + 0.5;\n",
       "    x1 = Math.floor(x1) + 0.5;\n",
       "    y1 = Math.floor(y1) + 0.5;\n",
       "    var min_x = Math.min(x0, x1);\n",
       "    var min_y = Math.min(y0, y1);\n",
       "    var width = Math.abs(x1 - x0);\n",
       "    var height = Math.abs(y1 - y0);\n",
       "\n",
       "    fig.rubberband_context.clearRect(\n",
       "        0,\n",
       "        0,\n",
       "        fig.canvas.width / fig.ratio,\n",
       "        fig.canvas.height / fig.ratio\n",
       "    );\n",
       "\n",
       "    fig.rubberband_context.strokeRect(min_x, min_y, width, height);\n",
       "};\n",
       "\n",
       "mpl.figure.prototype.handle_figure_label = function (fig, msg) {\n",
       "    // Updates the figure title.\n",
       "    fig.header.textContent = msg['label'];\n",
       "};\n",
       "\n",
       "mpl.figure.prototype.handle_cursor = function (fig, msg) {\n",
       "    fig.canvas_div.style.cursor = msg['cursor'];\n",
       "};\n",
       "\n",
       "mpl.figure.prototype.handle_message = function (fig, msg) {\n",
       "    fig.message.textContent = msg['message'];\n",
       "};\n",
       "\n",
       "mpl.figure.prototype.handle_draw = function (fig, _msg) {\n",
       "    // Request the server to send over a new figure.\n",
       "    fig.send_draw_message();\n",
       "};\n",
       "\n",
       "mpl.figure.prototype.handle_image_mode = function (fig, msg) {\n",
       "    fig.image_mode = msg['mode'];\n",
       "};\n",
       "\n",
       "mpl.figure.prototype.handle_history_buttons = function (fig, msg) {\n",
       "    for (var key in msg) {\n",
       "        if (!(key in fig.buttons)) {\n",
       "            continue;\n",
       "        }\n",
       "        fig.buttons[key].disabled = !msg[key];\n",
       "        fig.buttons[key].setAttribute('aria-disabled', !msg[key]);\n",
       "    }\n",
       "};\n",
       "\n",
       "mpl.figure.prototype.handle_navigate_mode = function (fig, msg) {\n",
       "    if (msg['mode'] === 'PAN') {\n",
       "        fig.buttons['Pan'].classList.add('active');\n",
       "        fig.buttons['Zoom'].classList.remove('active');\n",
       "    } else if (msg['mode'] === 'ZOOM') {\n",
       "        fig.buttons['Pan'].classList.remove('active');\n",
       "        fig.buttons['Zoom'].classList.add('active');\n",
       "    } else {\n",
       "        fig.buttons['Pan'].classList.remove('active');\n",
       "        fig.buttons['Zoom'].classList.remove('active');\n",
       "    }\n",
       "};\n",
       "\n",
       "mpl.figure.prototype.updated_canvas_event = function () {\n",
       "    // Called whenever the canvas gets updated.\n",
       "    this.send_message('ack', {});\n",
       "};\n",
       "\n",
       "// A function to construct a web socket function for onmessage handling.\n",
       "// Called in the figure constructor.\n",
       "mpl.figure.prototype._make_on_message_function = function (fig) {\n",
       "    return function socket_on_message(evt) {\n",
       "        if (evt.data instanceof Blob) {\n",
       "            var img = evt.data;\n",
       "            if (img.type !== 'image/png') {\n",
       "                /* FIXME: We get \"Resource interpreted as Image but\n",
       "                 * transferred with MIME type text/plain:\" errors on\n",
       "                 * Chrome.  But how to set the MIME type?  It doesn't seem\n",
       "                 * to be part of the websocket stream */\n",
       "                img.type = 'image/png';\n",
       "            }\n",
       "\n",
       "            /* Free the memory for the previous frames */\n",
       "            if (fig.imageObj.src) {\n",
       "                (window.URL || window.webkitURL).revokeObjectURL(\n",
       "                    fig.imageObj.src\n",
       "                );\n",
       "            }\n",
       "\n",
       "            fig.imageObj.src = (window.URL || window.webkitURL).createObjectURL(\n",
       "                img\n",
       "            );\n",
       "            fig.updated_canvas_event();\n",
       "            fig.waiting = false;\n",
       "            return;\n",
       "        } else if (\n",
       "            typeof evt.data === 'string' &&\n",
       "            evt.data.slice(0, 21) === 'data:image/png;base64'\n",
       "        ) {\n",
       "            fig.imageObj.src = evt.data;\n",
       "            fig.updated_canvas_event();\n",
       "            fig.waiting = false;\n",
       "            return;\n",
       "        }\n",
       "\n",
       "        var msg = JSON.parse(evt.data);\n",
       "        var msg_type = msg['type'];\n",
       "\n",
       "        // Call the  \"handle_{type}\" callback, which takes\n",
       "        // the figure and JSON message as its only arguments.\n",
       "        try {\n",
       "            var callback = fig['handle_' + msg_type];\n",
       "        } catch (e) {\n",
       "            console.log(\n",
       "                \"No handler for the '\" + msg_type + \"' message type: \",\n",
       "                msg\n",
       "            );\n",
       "            return;\n",
       "        }\n",
       "\n",
       "        if (callback) {\n",
       "            try {\n",
       "                // console.log(\"Handling '\" + msg_type + \"' message: \", msg);\n",
       "                callback(fig, msg);\n",
       "            } catch (e) {\n",
       "                console.log(\n",
       "                    \"Exception inside the 'handler_\" + msg_type + \"' callback:\",\n",
       "                    e,\n",
       "                    e.stack,\n",
       "                    msg\n",
       "                );\n",
       "            }\n",
       "        }\n",
       "    };\n",
       "};\n",
       "\n",
       "\n",
       "/*\n",
       " * return a copy of an object with only non-object keys\n",
       " * we need this to avoid circular references\n",
       " * https://stackoverflow.com/a/24161582/3208463\n",
       " */\n",
       "function simpleKeys(original) {\n",
       "    return Object.keys(original).reduce(function (obj, key) {\n",
       "        if (typeof original[key] !== 'object') {\n",
       "            obj[key] = original[key];\n",
       "        }\n",
       "        return obj;\n",
       "    }, {});\n",
       "}\n",
       "\n",
       "mpl.figure.prototype.mouse_event = function (event, name) {\n",
       "    if (name === 'button_press') {\n",
       "        this.canvas.focus();\n",
       "        this.canvas_div.focus();\n",
       "    }\n",
       "\n",
       "    // from https://stackoverflow.com/q/1114465\n",
       "    var boundingRect = this.canvas.getBoundingClientRect();\n",
       "    var x = (event.clientX - boundingRect.left) * this.ratio;\n",
       "    var y = (event.clientY - boundingRect.top) * this.ratio;\n",
       "\n",
       "    this.send_message(name, {\n",
       "        x: x,\n",
       "        y: y,\n",
       "        button: event.button,\n",
       "        step: event.step,\n",
       "        guiEvent: simpleKeys(event),\n",
       "    });\n",
       "\n",
       "    return false;\n",
       "};\n",
       "\n",
       "mpl.figure.prototype._key_event_extra = function (_event, _name) {\n",
       "    // Handle any extra behaviour associated with a key event\n",
       "};\n",
       "\n",
       "mpl.figure.prototype.key_event = function (event, name) {\n",
       "    // Prevent repeat events\n",
       "    if (name === 'key_press') {\n",
       "        if (event.key === this._key) {\n",
       "            return;\n",
       "        } else {\n",
       "            this._key = event.key;\n",
       "        }\n",
       "    }\n",
       "    if (name === 'key_release') {\n",
       "        this._key = null;\n",
       "    }\n",
       "\n",
       "    var value = '';\n",
       "    if (event.ctrlKey && event.key !== 'Control') {\n",
       "        value += 'ctrl+';\n",
       "    }\n",
       "    else if (event.altKey && event.key !== 'Alt') {\n",
       "        value += 'alt+';\n",
       "    }\n",
       "    else if (event.shiftKey && event.key !== 'Shift') {\n",
       "        value += 'shift+';\n",
       "    }\n",
       "\n",
       "    value += 'k' + event.key;\n",
       "\n",
       "    this._key_event_extra(event, name);\n",
       "\n",
       "    this.send_message(name, { key: value, guiEvent: simpleKeys(event) });\n",
       "    return false;\n",
       "};\n",
       "\n",
       "mpl.figure.prototype.toolbar_button_onclick = function (name) {\n",
       "    if (name === 'download') {\n",
       "        this.handle_save(this, null);\n",
       "    } else {\n",
       "        this.send_message('toolbar_button', { name: name });\n",
       "    }\n",
       "};\n",
       "\n",
       "mpl.figure.prototype.toolbar_button_onmouseover = function (tooltip) {\n",
       "    this.message.textContent = tooltip;\n",
       "};\n",
       "\n",
       "///////////////// REMAINING CONTENT GENERATED BY embed_js.py /////////////////\n",
       "// prettier-ignore\n",
       "var _JSXTOOLS_RESIZE_OBSERVER=function(A){var t,i=new WeakMap,n=new WeakMap,a=new WeakMap,r=new WeakMap,o=new Set;function s(e){if(!(this instanceof s))throw new TypeError(\"Constructor requires 'new' operator\");i.set(this,e)}function h(){throw new TypeError(\"Function is not a constructor\")}function c(e,t,i,n){e=0 in arguments?Number(arguments[0]):0,t=1 in arguments?Number(arguments[1]):0,i=2 in arguments?Number(arguments[2]):0,n=3 in arguments?Number(arguments[3]):0,this.right=(this.x=this.left=e)+(this.width=i),this.bottom=(this.y=this.top=t)+(this.height=n),Object.freeze(this)}function d(){t=requestAnimationFrame(d);var s=new WeakMap,p=new Set;o.forEach((function(t){r.get(t).forEach((function(i){var r=t instanceof window.SVGElement,o=a.get(t),d=r?0:parseFloat(o.paddingTop),f=r?0:parseFloat(o.paddingRight),l=r?0:parseFloat(o.paddingBottom),u=r?0:parseFloat(o.paddingLeft),g=r?0:parseFloat(o.borderTopWidth),m=r?0:parseFloat(o.borderRightWidth),w=r?0:parseFloat(o.borderBottomWidth),b=u+f,F=d+l,v=(r?0:parseFloat(o.borderLeftWidth))+m,W=g+w,y=r?0:t.offsetHeight-W-t.clientHeight,E=r?0:t.offsetWidth-v-t.clientWidth,R=b+v,z=F+W,M=r?t.width:parseFloat(o.width)-R-E,O=r?t.height:parseFloat(o.height)-z-y;if(n.has(t)){var k=n.get(t);if(k[0]===M&&k[1]===O)return}n.set(t,[M,O]);var S=Object.create(h.prototype);S.target=t,S.contentRect=new c(u,d,M,O),s.has(i)||(s.set(i,[]),p.add(i)),s.get(i).push(S)}))})),p.forEach((function(e){i.get(e).call(e,s.get(e),e)}))}return s.prototype.observe=function(i){if(i instanceof window.Element){r.has(i)||(r.set(i,new Set),o.add(i),a.set(i,window.getComputedStyle(i)));var n=r.get(i);n.has(this)||n.add(this),cancelAnimationFrame(t),t=requestAnimationFrame(d)}},s.prototype.unobserve=function(i){if(i instanceof window.Element&&r.has(i)){var n=r.get(i);n.has(this)&&(n.delete(this),n.size||(r.delete(i),o.delete(i))),n.size||r.delete(i),o.size||cancelAnimationFrame(t)}},A.DOMRectReadOnly=c,A.ResizeObserver=s,A.ResizeObserverEntry=h,A}; // eslint-disable-line\n",
       "mpl.toolbar_items = [[\"Home\", \"Reset original view\", \"fa fa-home\", \"home\"], [\"Back\", \"Back to previous view\", \"fa fa-arrow-left\", \"back\"], [\"Forward\", \"Forward to next view\", \"fa fa-arrow-right\", \"forward\"], [\"\", \"\", \"\", \"\"], [\"Pan\", \"Left button pans, Right button zooms\\nx/y fixes axis, CTRL fixes aspect\", \"fa fa-arrows\", \"pan\"], [\"Zoom\", \"Zoom to rectangle\\nx/y fixes axis\", \"fa fa-square-o\", \"zoom\"], [\"\", \"\", \"\", \"\"], [\"Download\", \"Download plot\", \"fa fa-floppy-o\", \"download\"]];\n",
       "\n",
       "mpl.extensions = [\"eps\", \"jpeg\", \"pgf\", \"pdf\", \"png\", \"ps\", \"raw\", \"svg\", \"tif\", \"webp\"];\n",
       "\n",
       "mpl.default_extension = \"png\";/* global mpl */\n",
       "\n",
       "var comm_websocket_adapter = function (comm) {\n",
       "    // Create a \"websocket\"-like object which calls the given IPython comm\n",
       "    // object with the appropriate methods. Currently this is a non binary\n",
       "    // socket, so there is still some room for performance tuning.\n",
       "    var ws = {};\n",
       "\n",
       "    ws.binaryType = comm.kernel.ws.binaryType;\n",
       "    ws.readyState = comm.kernel.ws.readyState;\n",
       "    function updateReadyState(_event) {\n",
       "        if (comm.kernel.ws) {\n",
       "            ws.readyState = comm.kernel.ws.readyState;\n",
       "        } else {\n",
       "            ws.readyState = 3; // Closed state.\n",
       "        }\n",
       "    }\n",
       "    comm.kernel.ws.addEventListener('open', updateReadyState);\n",
       "    comm.kernel.ws.addEventListener('close', updateReadyState);\n",
       "    comm.kernel.ws.addEventListener('error', updateReadyState);\n",
       "\n",
       "    ws.close = function () {\n",
       "        comm.close();\n",
       "    };\n",
       "    ws.send = function (m) {\n",
       "        //console.log('sending', m);\n",
       "        comm.send(m);\n",
       "    };\n",
       "    // Register the callback with on_msg.\n",
       "    comm.on_msg(function (msg) {\n",
       "        //console.log('receiving', msg['content']['data'], msg);\n",
       "        var data = msg['content']['data'];\n",
       "        if (data['blob'] !== undefined) {\n",
       "            data = {\n",
       "                data: new Blob(msg['buffers'], { type: data['blob'] }),\n",
       "            };\n",
       "        }\n",
       "        // Pass the mpl event to the overridden (by mpl) onmessage function.\n",
       "        ws.onmessage(data);\n",
       "    });\n",
       "    return ws;\n",
       "};\n",
       "\n",
       "mpl.mpl_figure_comm = function (comm, msg) {\n",
       "    // This is the function which gets called when the mpl process\n",
       "    // starts-up an IPython Comm through the \"matplotlib\" channel.\n",
       "\n",
       "    var id = msg.content.data.id;\n",
       "    // Get hold of the div created by the display call when the Comm\n",
       "    // socket was opened in Python.\n",
       "    var element = document.getElementById(id);\n",
       "    var ws_proxy = comm_websocket_adapter(comm);\n",
       "\n",
       "    function ondownload(figure, _format) {\n",
       "        window.open(figure.canvas.toDataURL());\n",
       "    }\n",
       "\n",
       "    var fig = new mpl.figure(id, ws_proxy, ondownload, element);\n",
       "\n",
       "    // Call onopen now - mpl needs it, as it is assuming we've passed it a real\n",
       "    // web socket which is closed, not our websocket->open comm proxy.\n",
       "    ws_proxy.onopen();\n",
       "\n",
       "    fig.parent_element = element;\n",
       "    fig.cell_info = mpl.find_output_cell(\"<div id='\" + id + \"'></div>\");\n",
       "    if (!fig.cell_info) {\n",
       "        console.error('Failed to find cell for figure', id, fig);\n",
       "        return;\n",
       "    }\n",
       "    fig.cell_info[0].output_area.element.on(\n",
       "        'cleared',\n",
       "        { fig: fig },\n",
       "        fig._remove_fig_handler\n",
       "    );\n",
       "};\n",
       "\n",
       "mpl.figure.prototype.handle_close = function (fig, msg) {\n",
       "    var width = fig.canvas.width / fig.ratio;\n",
       "    fig.cell_info[0].output_area.element.off(\n",
       "        'cleared',\n",
       "        fig._remove_fig_handler\n",
       "    );\n",
       "    fig.resizeObserverInstance.unobserve(fig.canvas_div);\n",
       "\n",
       "    // Update the output cell to use the data from the current canvas.\n",
       "    fig.push_to_output();\n",
       "    var dataURL = fig.canvas.toDataURL();\n",
       "    // Re-enable the keyboard manager in IPython - without this line, in FF,\n",
       "    // the notebook keyboard shortcuts fail.\n",
       "    IPython.keyboard_manager.enable();\n",
       "    fig.parent_element.innerHTML =\n",
       "        '<img src=\"' + dataURL + '\" width=\"' + width + '\">';\n",
       "    fig.close_ws(fig, msg);\n",
       "};\n",
       "\n",
       "mpl.figure.prototype.close_ws = function (fig, msg) {\n",
       "    fig.send_message('closing', msg);\n",
       "    // fig.ws.close()\n",
       "};\n",
       "\n",
       "mpl.figure.prototype.push_to_output = function (_remove_interactive) {\n",
       "    // Turn the data on the canvas into data in the output cell.\n",
       "    var width = this.canvas.width / this.ratio;\n",
       "    var dataURL = this.canvas.toDataURL();\n",
       "    this.cell_info[1]['text/html'] =\n",
       "        '<img src=\"' + dataURL + '\" width=\"' + width + '\">';\n",
       "};\n",
       "\n",
       "mpl.figure.prototype.updated_canvas_event = function () {\n",
       "    // Tell IPython that the notebook contents must change.\n",
       "    IPython.notebook.set_dirty(true);\n",
       "    this.send_message('ack', {});\n",
       "    var fig = this;\n",
       "    // Wait a second, then push the new image to the DOM so\n",
       "    // that it is saved nicely (might be nice to debounce this).\n",
       "    setTimeout(function () {\n",
       "        fig.push_to_output();\n",
       "    }, 1000);\n",
       "};\n",
       "\n",
       "mpl.figure.prototype._init_toolbar = function () {\n",
       "    var fig = this;\n",
       "\n",
       "    var toolbar = document.createElement('div');\n",
       "    toolbar.classList = 'btn-toolbar';\n",
       "    this.root.appendChild(toolbar);\n",
       "\n",
       "    function on_click_closure(name) {\n",
       "        return function (_event) {\n",
       "            return fig.toolbar_button_onclick(name);\n",
       "        };\n",
       "    }\n",
       "\n",
       "    function on_mouseover_closure(tooltip) {\n",
       "        return function (event) {\n",
       "            if (!event.currentTarget.disabled) {\n",
       "                return fig.toolbar_button_onmouseover(tooltip);\n",
       "            }\n",
       "        };\n",
       "    }\n",
       "\n",
       "    fig.buttons = {};\n",
       "    var buttonGroup = document.createElement('div');\n",
       "    buttonGroup.classList = 'btn-group';\n",
       "    var button;\n",
       "    for (var toolbar_ind in mpl.toolbar_items) {\n",
       "        var name = mpl.toolbar_items[toolbar_ind][0];\n",
       "        var tooltip = mpl.toolbar_items[toolbar_ind][1];\n",
       "        var image = mpl.toolbar_items[toolbar_ind][2];\n",
       "        var method_name = mpl.toolbar_items[toolbar_ind][3];\n",
       "\n",
       "        if (!name) {\n",
       "            /* Instead of a spacer, we start a new button group. */\n",
       "            if (buttonGroup.hasChildNodes()) {\n",
       "                toolbar.appendChild(buttonGroup);\n",
       "            }\n",
       "            buttonGroup = document.createElement('div');\n",
       "            buttonGroup.classList = 'btn-group';\n",
       "            continue;\n",
       "        }\n",
       "\n",
       "        button = fig.buttons[name] = document.createElement('button');\n",
       "        button.classList = 'btn btn-default';\n",
       "        button.href = '#';\n",
       "        button.title = name;\n",
       "        button.innerHTML = '<i class=\"fa ' + image + ' fa-lg\"></i>';\n",
       "        button.addEventListener('click', on_click_closure(method_name));\n",
       "        button.addEventListener('mouseover', on_mouseover_closure(tooltip));\n",
       "        buttonGroup.appendChild(button);\n",
       "    }\n",
       "\n",
       "    if (buttonGroup.hasChildNodes()) {\n",
       "        toolbar.appendChild(buttonGroup);\n",
       "    }\n",
       "\n",
       "    // Add the status bar.\n",
       "    var status_bar = document.createElement('span');\n",
       "    status_bar.classList = 'mpl-message pull-right';\n",
       "    toolbar.appendChild(status_bar);\n",
       "    this.message = status_bar;\n",
       "\n",
       "    // Add the close button to the window.\n",
       "    var buttongrp = document.createElement('div');\n",
       "    buttongrp.classList = 'btn-group inline pull-right';\n",
       "    button = document.createElement('button');\n",
       "    button.classList = 'btn btn-mini btn-primary';\n",
       "    button.href = '#';\n",
       "    button.title = 'Stop Interaction';\n",
       "    button.innerHTML = '<i class=\"fa fa-power-off icon-remove icon-large\"></i>';\n",
       "    button.addEventListener('click', function (_evt) {\n",
       "        fig.handle_close(fig, {});\n",
       "    });\n",
       "    button.addEventListener(\n",
       "        'mouseover',\n",
       "        on_mouseover_closure('Stop Interaction')\n",
       "    );\n",
       "    buttongrp.appendChild(button);\n",
       "    var titlebar = this.root.querySelector('.ui-dialog-titlebar');\n",
       "    titlebar.insertBefore(buttongrp, titlebar.firstChild);\n",
       "};\n",
       "\n",
       "mpl.figure.prototype._remove_fig_handler = function (event) {\n",
       "    var fig = event.data.fig;\n",
       "    if (event.target !== this) {\n",
       "        // Ignore bubbled events from children.\n",
       "        return;\n",
       "    }\n",
       "    fig.close_ws(fig, {});\n",
       "};\n",
       "\n",
       "mpl.figure.prototype._root_extra_style = function (el) {\n",
       "    el.style.boxSizing = 'content-box'; // override notebook setting of border-box.\n",
       "};\n",
       "\n",
       "mpl.figure.prototype._canvas_extra_style = function (el) {\n",
       "    // this is important to make the div 'focusable\n",
       "    el.setAttribute('tabindex', 0);\n",
       "    // reach out to IPython and tell the keyboard manager to turn it's self\n",
       "    // off when our div gets focus\n",
       "\n",
       "    // location in version 3\n",
       "    if (IPython.notebook.keyboard_manager) {\n",
       "        IPython.notebook.keyboard_manager.register_events(el);\n",
       "    } else {\n",
       "        // location in version 2\n",
       "        IPython.keyboard_manager.register_events(el);\n",
       "    }\n",
       "};\n",
       "\n",
       "mpl.figure.prototype._key_event_extra = function (event, _name) {\n",
       "    // Check for shift+enter\n",
       "    if (event.shiftKey && event.which === 13) {\n",
       "        this.canvas_div.blur();\n",
       "        // select the cell after this one\n",
       "        var index = IPython.notebook.find_cell_index(this.cell_info[0]);\n",
       "        IPython.notebook.select(index + 1);\n",
       "    }\n",
       "};\n",
       "\n",
       "mpl.figure.prototype.handle_save = function (fig, _msg) {\n",
       "    fig.ondownload(fig, null);\n",
       "};\n",
       "\n",
       "mpl.find_output_cell = function (html_output) {\n",
       "    // Return the cell and output element which can be found *uniquely* in the notebook.\n",
       "    // Note - this is a bit hacky, but it is done because the \"notebook_saving.Notebook\"\n",
       "    // IPython event is triggered only after the cells have been serialised, which for\n",
       "    // our purposes (turning an active figure into a static one), is too late.\n",
       "    var cells = IPython.notebook.get_cells();\n",
       "    var ncells = cells.length;\n",
       "    for (var i = 0; i < ncells; i++) {\n",
       "        var cell = cells[i];\n",
       "        if (cell.cell_type === 'code') {\n",
       "            for (var j = 0; j < cell.output_area.outputs.length; j++) {\n",
       "                var data = cell.output_area.outputs[j];\n",
       "                if (data.data) {\n",
       "                    // IPython >= 3 moved mimebundle to data attribute of output\n",
       "                    data = data.data;\n",
       "                }\n",
       "                if (data['text/html'] === html_output) {\n",
       "                    return [cell, data, j];\n",
       "                }\n",
       "            }\n",
       "        }\n",
       "    }\n",
       "};\n",
       "\n",
       "// Register the function which deals with the matplotlib target/channel.\n",
       "// The kernel may be null if the page has been refreshed.\n",
       "if (IPython.notebook.kernel !== null) {\n",
       "    IPython.notebook.kernel.comm_manager.register_target(\n",
       "        'matplotlib',\n",
       "        mpl.mpl_figure_comm\n",
       "    );\n",
       "}\n"
      ],
      "text/plain": [
       "<IPython.core.display.Javascript object>"
      ]
     },
     "metadata": {},
     "output_type": "display_data"
    },
    {
     "data": {
      "text/html": [
       "<img src=\"data:image/png;base64,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\" width=\"1000\">"
      ],
      "text/plain": [
       "<IPython.core.display.HTML object>"
      ]
     },
     "metadata": {},
     "output_type": "display_data"
    },
    {
     "ename": "NameError",
     "evalue": "name 'coordsX' is not defined",
     "output_type": "error",
     "traceback": [
      "\u001b[0;31m---------------------------------------------------------------------------\u001b[0m",
      "\u001b[0;31mNameError\u001b[0m                                 Traceback (most recent call last)",
      "Cell \u001b[0;32mIn [55], line 12\u001b[0m\n\u001b[1;32m      9\u001b[0m ax\u001b[38;5;241m.\u001b[39mset_box_aspect(aspect\u001b[38;5;241m=\u001b[39m(\u001b[38;5;241m1\u001b[39m,\u001b[38;5;241m0.1\u001b[39m,\u001b[38;5;241m1\u001b[39m))\n\u001b[1;32m     10\u001b[0m \u001b[38;5;66;03m#ax.set_ylim(-10,10)\u001b[39;00m\n\u001b[1;32m     11\u001b[0m \u001b[38;5;66;03m#ax.set_xlim(-100,100)\u001b[39;00m\n\u001b[0;32m---> 12\u001b[0m ax\u001b[38;5;241m.\u001b[39mscatter3D(np\u001b[38;5;241m.\u001b[39marray(\u001b[43mcoordsX\u001b[49m[\u001b[38;5;241m35\u001b[39m:\u001b[38;5;241m48\u001b[39m]),(coordsY[\u001b[38;5;241m35\u001b[39m:\u001b[38;5;241m48\u001b[39m]  ) ,(coordsZ[\u001b[38;5;241m35\u001b[39m:\u001b[38;5;241m48\u001b[39m] ) )\n\u001b[1;32m     14\u001b[0m \u001b[38;5;66;03m#,c= (coordsZ - np.array(coordsZ).mean()),\u001b[39;00m\n",
      "\u001b[0;31mNameError\u001b[0m: name 'coordsX' is not defined"
     ]
    }
   ],
   "source": [
    "fig = plt.figure(figsize=(10,10))\n",
    "#ax = fig.gca(projection='3d')\n",
    "\n",
    "ax = plt.axes(projection='3d')\n",
    "\n",
    "#xs, ys, zs = 0.1,0.1,0.1\n",
    "#ax.set_box_aspect((np.ptp(xs), np.ptp(ys), np.ptp(zs)))  # aspect ratio is 1:1:1 in data space\n",
    "#ax.set_aspect(0.1)\n",
    "ax.set_box_aspect(aspect=(1,0.1,1))\n",
    "#ax.set_ylim(-10,10)\n",
    "#ax.set_xlim(-100,100)\n",
    "ax.scatter3D(np.array(coordsX[35:48]),(coordsY[35:48]  ) ,(coordsZ[35:48] ) )\n",
    "\n",
    "#,c= (coordsZ - np.array(coordsZ).mean()),\n"
   ]
  },
  {
   "cell_type": "code",
   "execution_count": 57,
   "id": "9da0c087",
   "metadata": {
    "ExecuteTime": {
     "end_time": "2025-03-27T17:25:02.058670Z",
     "start_time": "2025-03-27T17:25:02.051716Z"
    }
   },
   "outputs": [
    {
     "data": {
      "text/plain": [
       "array([  19.32196393,  -99.18465214, 2272.33449403])"
      ]
     },
     "execution_count": 57,
     "metadata": {},
     "output_type": "execute_result"
    }
   ],
   "source": [
    "np_coords_swp[0]"
   ]
  },
  {
   "cell_type": "code",
   "execution_count": 58,
   "id": "b0a08f51",
   "metadata": {
    "ExecuteTime": {
     "end_time": "2025-03-27T17:25:02.940663Z",
     "start_time": "2025-03-27T17:25:02.930393Z"
    }
   },
   "outputs": [],
   "source": [
    "coordsX = []\n",
    "for i,each in enumerate(np_coords_swp):\n",
    "    coordsX.append(each[0])\n",
    "    \n",
    "coordsY = []\n",
    "for i,each in enumerate(np_coords_swp):\n",
    "    coordsY.append(each[1])\n",
    "    \n",
    "coordsZ = []\n",
    "for each in np_coords_swp:\n",
    "    coordsZ.append(each[2])"
   ]
  },
  {
   "cell_type": "code",
   "execution_count": null,
   "id": "55a6b432",
   "metadata": {
    "ExecuteTime": {
     "end_time": "2025-03-27T17:25:03.483750Z",
     "start_time": "2025-03-27T17:25:03.466346Z"
    },
    "jupyter": {
     "outputs_hidden": true
    }
   },
   "outputs": [],
   "source": [
    "coordsX, coordsY"
   ]
  },
  {
   "cell_type": "code",
   "execution_count": null,
   "id": "e926e34a",
   "metadata": {
    "ExecuteTime": {
     "end_time": "2025-03-27T17:25:05.032926Z",
     "start_time": "2025-03-27T17:25:05.018872Z"
    },
    "jupyter": {
     "outputs_hidden": true
    }
   },
   "outputs": [],
   "source": [
    "coordsZ - np.array(coordsZ).mean()"
   ]
  },
  {
   "cell_type": "code",
   "execution_count": 59,
   "id": "925732bd",
   "metadata": {},
   "outputs": [
    {
     "data": {
      "text/plain": [
       "2244.772973985878"
      ]
     },
     "execution_count": 59,
     "metadata": {},
     "output_type": "execute_result"
    }
   ],
   "source": [
    "np.array(coordsZ).mean()"
   ]
  },
  {
   "cell_type": "code",
   "execution_count": 72,
   "id": "2688f965",
   "metadata": {
    "collapsed": true,
    "jupyter": {
     "outputs_hidden": true
    }
   },
   "outputs": [
    {
     "data": {
      "text/plain": [
       "array([59.32196393, 59.32189886, 59.32211139, 59.32224684, 59.3224622 ,\n",
       "       59.32267999, 59.32273742, 59.32286333, 59.32299653, 59.32321546,\n",
       "       59.32339755, 59.32348327, 59.32352296, 59.32351482, 59.32346766,\n",
       "       59.32308714, 59.32283852, 59.32259587, 59.32235445, 59.32212229,\n",
       "       59.32204781, 59.32205727, 59.32216406, 59.32224448, 59.32222012,\n",
       "       59.32204727, 59.32182014, 59.32184855, 59.32203956, 59.32263895,\n",
       "       59.3231911 , 59.3238677 , 59.3240259 , 59.32428468, 59.32456783,\n",
       "       59.32486324, 59.32528538, 59.32537604, 59.32548832, 59.32547437,\n",
       "       59.32479705, 59.32473582, 59.32595991, 59.32723558, 59.32850206,\n",
       "       59.32974338, 59.33303565, 59.33412178, 59.33606784, 59.33636986,\n",
       "       59.33685394, 59.33788591, 59.33815765, 59.33843271, 59.33862862,\n",
       "       59.33901815, 59.33932869, 59.3396822 , 59.34071564, 59.34160467,\n",
       "       59.34569943, 59.34956174, 59.35044266, 59.35151439, 59.35303717,\n",
       "       59.35403882, 59.35720613, 59.36134539, 59.36313416, 59.36435054,\n",
       "       59.36784242, 59.37066112, 59.37917682, 59.3799813 , 59.3861396 ,\n",
       "       59.3908554 , 59.39588108, 59.40653478, 59.41300712, 59.41380036,\n",
       "       59.41497928, 59.41680813, 59.41927912, 59.42326567, 59.42729011,\n",
       "       59.43035479, 59.43188713, 59.4335119 , 59.43538995, 59.43736068,\n",
       "       59.43738649, 59.43970992, 59.44128145, 59.4427599 , 59.44447065,\n",
       "       59.44532603, 59.44618282, 59.44699043, 59.44784346, 59.44874369,\n",
       "       59.44966885, 59.45070598, 59.45122455, 59.45148383, 59.45261854,\n",
       "       59.45318491, 59.4534681 , 59.45376122, 59.45400284, 59.45561006,\n",
       "       59.45724027, 59.45829536, 59.459992  , 59.4613356 , 59.4626792 ,\n",
       "       59.46310626, 59.46348613, 59.46378081, 59.46464912, 59.4653071 ,\n",
       "       59.46589724, 59.46631763, 59.46680673, 59.46751706, 59.46825442,\n",
       "       59.46913089, 59.4695918 , 59.47003283, 59.47067988, 59.4703786 ,\n",
       "       59.46962655, 59.46974133, 59.47050775, 59.47121265, 59.47205984,\n",
       "       59.47261535, 59.47399009, 59.47594426, 59.47762083, 59.47902231,\n",
       "       59.48088702, 59.48531637, 59.48862652, 59.49298099, 59.49416068,\n",
       "       59.49851684, 59.50132857, 59.50396912, 59.50315115, 59.50538325,\n",
       "       59.50521584, 59.5051074 , 59.50494872, 59.50490141, 59.50622552,\n",
       "       59.50708537, 59.50764021, 59.50791793, 59.50823577, 59.50877538,\n",
       "       59.50947205, 59.50981667, 59.51018533, 59.51105993, 59.51123709,\n",
       "       59.51112565, 59.51032331, 59.51001144, 59.50968799, 59.50936149,\n",
       "       59.50896931, 59.50879517, 59.50873232, 59.50869755, 59.5086831 ,\n",
       "       59.50872982, 59.50920956, 59.50891646, 59.50862079, 59.50922396,\n",
       "       59.50960631, 59.50982271, 59.50939705, 59.50973395, 59.51093831,\n",
       "       59.51031913, 59.50973636, 59.50944497, 59.50879463, 59.50906699])"
      ]
     },
     "execution_count": 72,
     "metadata": {},
     "output_type": "execute_result"
    }
   ],
   "source": [
    "np.array(coordsX)+40"
   ]
  },
  {
   "cell_type": "code",
   "execution_count": null,
   "id": "afd4911d",
   "metadata": {},
   "outputs": [],
   "source": []
  }
 ],
 "metadata": {
  "kernelspec": {
   "display_name": "Python 3 (ipykernel)",
   "language": "python",
   "name": "python3"
  },
  "language_info": {
   "codemirror_mode": {
    "name": "ipython",
    "version": 3
   },
   "file_extension": ".py",
   "mimetype": "text/x-python",
   "name": "python",
   "nbconvert_exporter": "python",
   "pygments_lexer": "ipython3",
   "version": "3.8.13"
  }
 },
 "nbformat": 4,
 "nbformat_minor": 5
}
