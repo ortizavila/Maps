{
 "cells": [
  {
   "cell_type": "code",
   "execution_count": 12,
   "id": "f306632d",
   "metadata": {
    "ExecuteTime": {
     "end_time": "2025-03-27T17:23:36.316353Z",
     "start_time": "2025-03-27T17:23:36.305005Z"
    }
   },
   "outputs": [],
   "source": [
    "import folium\n",
    "\n",
    "\n",
    "from branca.element import Figure\n",
    "\n",
    "import pandas as pd\n",
    "\n",
    "from haversine import haversine\n",
    "from geopy.distance import geodesic\n",
    "from geopy.distance import great_circle\n",
    "\n",
    "import numpy as np\n",
    "\n",
    "\n",
    "import matplotlib.pyplot as plt"
   ]
  },
  {
   "cell_type": "code",
   "execution_count": 13,
   "id": "9361317c",
   "metadata": {
    "ExecuteTime": {
     "end_time": "2025-03-27T17:23:37.621988Z",
     "start_time": "2025-03-27T17:23:37.564431Z"
    }
   },
   "outputs": [],
   "source": [
    "\n",
    "\n",
    "coords_GPS_cdmx = [[19.3219639281176683,-99.1846521393168814],[19.3218988592583898,-99.1847336284587158],[19.3221113878062987,-99.1849123085385429],[19.3222468426452103,-99.1849879166498454],[19.3224621996894399,-99.1849850819456833],[19.3226799867927603,-99.1849933511056463],[19.3227374156374090,-99.1847991908183246],[19.3228633284781992,-99.1843551576722433],[19.3229965290014682,-99.1839342114434857],[19.3232154584485905,-99.1834002890267783],[19.3233975540518017,-99.1831588926648777],[19.3234832731432711,-99.1828632650487236],[19.3235229640505004,-99.1827116768410235],[19.3235148209169587,-99.1825383023669787],[19.3234676609309801,-99.1823257152247493],[19.3230871422154387,-99.1813608885357070],[19.3228385233600797,-99.1807233366264853],[19.3225958670059512,-99.1801225228736172],[19.3223544468944013,-99.1795084063390107],[19.3221222934657710,-99.1788231315309758],[19.3220478088174303,-99.1783480366278667],[19.3220572689919194,-99.1779310022457707],[19.3221640646940287,-99.1774458978267290],[19.3222444783648797,-99.1771087652225987],[19.3222201151434305,-99.1768522753292530],[19.3220472713060794,-99.1767040070922263],[19.3218201376735301,-99.1766528642818201],[19.3218485485464591,-99.1762988626552016],[19.3220395641090796,-99.1763071965168450],[19.3226389496551008,-99.1763260747916036],[19.3231910981482606,-99.1762699636927181],[19.3238677021577807,-99.1761485506664116],[19.3240258957523601,-99.1758410385683220],[19.3242846784548092,-99.1755480192884846],[19.3245678283877709,-99.1753052774274977],[19.3248632436033603,-99.1754780572742476],[19.3252853820726997,-99.1751687143145801],[19.3253760351967507,-99.1747570123327620],[19.3254883201985486,-99.1746850536261206],[19.3254743733204393,-99.1743178622114954],[19.3247970458890386,-99.1744210028144408],[19.3247358227587185,-99.1739100927873096],[19.3259599101842987,-99.1737843320759964],[19.3272355787045917,-99.1736695552537242],[19.3285020576603586,-99.1735392001044858],[19.3297433843137902,-99.1735048496338578],[19.3330356497966207,-99.1739893526744822],[19.3341217822864202,-99.1743042359998981],[19.3360678405972486,-99.1770844197932888],[19.3363698574211007,-99.1791510649449322],[19.3368539398985284,-99.1802094535614174],[19.3378859093938509,-99.1817193866209124],[19.3381576476185515,-99.1819675629326838],[19.3384327086526717,-99.1821851214982360],[19.3386286185413994,-99.1822790543996717],[19.3390181453477403,-99.1823463673837296],[19.3393286924548917,-99.1823389909381774],[19.3396822002315005,-99.1822312002129962],[19.3407156400030189,-99.1819924065457741],[19.3416046714637702,-99.1818035234769724],[19.3456994277318195,-99.1809597853578140],[19.3495617380150087,-99.1801990088330001],[19.3504426592297811,-99.1793395612930198],[19.3515143936981318,-99.1779849848377353],[19.3530371697904791,-99.1766933740241257],[19.3540388232796197,-99.1755576535667558],[19.3572061324372200,-99.1728240316755887],[19.3613453853839204,-99.1709610513584607],[19.3631341607601399,-99.1700806415338576],[19.3643505438342984,-99.1690253759369114],[19.3678424197376913,-99.1667944199473226],[19.3706611237920896,-99.1650074271159383],[19.3791768214002893,-99.1595552993169065],[19.3799813011681294,-99.1590872091761071],[19.3861396009480487,-99.1572737951957492],[19.3908554028914786,-99.1564924031506081],[19.3958810815233811,-99.1561047930151176],[19.4065347762066303,-99.1552808115313553],[19.4130071217580884,-99.1547485940469358],[19.4138003645397994,-99.1532116584200196],[19.4149792756321204,-99.1510025206900281],[19.4168081337132712,-99.1507929758099635],[19.4192791198424892,-99.1504417128635396],[19.4232656667744905,-99.1497228610057419],[19.4272901051239586,-99.1489493566808022],[19.4303547921635200,-99.1482943120711866],[19.4318871348022810,-99.1479667804968727],[19.4335118952480705,-99.1476359611461788],[19.4353899481540608,-99.1473214795065019],[19.4373606832565997,-99.1469884460921662],[19.4373864862251899,-99.1468230160565724],[19.4397099225918701,-99.1463022283290485],[19.4412814483943883,-99.1459619212681389],[19.4427599025279108,-99.1456405022103127],[19.4444706519296204,-99.1452598313237559],[19.4453260263327614,-99.1450694928710590],[19.4461828189868697,-99.1448805003564786],[19.4469904345706297,-99.1447131641473050],[19.4478434622489900,-99.1445234968972215],[19.4487436919331884,-99.1443209260608000],[19.4496688516125005,-99.1441149791735796],[19.4507059816898611,-99.1438878129632286],[19.4512245466224911,-99.1437742287689616],[19.4514838290622905,-99.1437174363995410],[19.4526185410883201,-99.1434384897119827],[19.4531849116432305,-99.1433027061336389],[19.4534680968827907,-99.1432348139889257],[19.4537612237999014,-99.1431657045884549],[19.4540028404083714,-99.1431301133425791],[19.4556100636412808,-99.1431583493765771],[19.4572402680583494,-99.1431876627842712],[19.4582953626705617,-99.1429588295462167],[19.4599920032600409,-99.1425434644247048],[19.4613356035459617,-99.1421958833848862],[19.4626792031695004,-99.1418482965846266],[19.4631062558417796,-99.1418443620472516],[19.4634861290956316,-99.1419215563198009],[19.4637808065390985,-99.1419948447142048],[19.4646491154403911,-99.1420562459571642],[19.4653071025581994,-99.1420394596543701],[19.4658972443648004,-99.1419092451923092],[19.4663176286925399,-99.1416882662661862],[19.4668067303241585,-99.1413148002041424],[19.4675170611069213,-99.1407552699444921],[19.4682544187839710,-99.1401697985444059],[19.4691308882252301,-99.1394615983826810],[19.4695917987214493,-99.1391011952164831],[19.4700328333398787,-99.1387200730028013],[19.4706798758761295,-99.1381680948217792],[19.4703786027763890,-99.1377408666766797],[19.4696265465325986,-99.1368302752780721],[19.4697413268244688,-99.1366074511574880],[19.4705077491836001,-99.1371230420008800],[19.4712126451319492,-99.1374901105132835],[19.4720598427763285,-99.1378524864174011],[19.4726153508666293,-99.1380865418816342],[19.4739900882734212,-99.1386496591875357],[19.4759442586493314,-99.1394324096461048],[19.4776208263425694,-99.1401081900625485],[19.4790223106217901,-99.1406678545623521],[19.4808870159810787,-99.1413584746308061],[19.4853163724212095,-99.1430885592145614],[19.4886265190182009,-99.1444569248097594],[19.4929809925925390,-99.1462248360882938],[19.4941606837799490,-99.1466870887124259],[19.4985168381134493,-99.1484061116496065],[19.5013285721565701,-99.1495101166170087],[19.5039691175281291,-99.1481503540505855],[19.5031511526541301,-99.1464277114784380],[19.5053832483985090,-99.1452975856039131],[19.5052158427203999,-99.1449361595137191],[19.5051073958693699,-99.1446203060449989],[19.5049487205566798,-99.1440396971347297],[19.5049014138185086,-99.1437431172830372],[19.5062255245017191,-99.1429672486869578],[19.5070853678858818,-99.1410974956569646],[19.5076402110385096,-99.1398123690313611],[19.5079179315608400,-99.1399123550623358],[19.5082357691887509,-99.1390652637519025],[19.5087753776163488,-99.1392540921965093],[19.5094720458698916,-99.1392055376900316],[19.5098166739412697,-99.1382802474249019],[19.5101853339352687,-99.1373602272029331],[19.5110599308923085,-99.1386618788107086],[19.5112370874220993,-99.1385940040164826],[19.5111256523334511,-99.1385836513200900],[19.5103233066490311,-99.1373561613955019],[19.5100114351899485,-99.1368654621390561],[19.5096879870562709,-99.1363567272280903],[19.5093614946503209,-99.1358460236875061],[19.5089693113071512,-99.1352045009653722],[19.5087951683853191,-99.1349105066469889],[19.5087323152354486,-99.1347212274641407],[19.5086975527066997,-99.1345309382506059],[19.5086830998240508,-99.1343278380279855],[19.5087298175169188,-99.1341884780867701],[19.5092095623016313,-99.1338707528093153],[19.5089164611156214,-99.1333978067051760],[19.5086207912789504,-99.1329262262441802],[19.5092239592944701,-99.1323950427399154],[19.5096063101758688,-99.1324134587421213],[19.5098227065420993,-99.1323215564107585],[19.5093970531560110,-99.1320358451924477],[19.5097339541647798,-99.1312277748063053],[19.5109383081085994,-99.1300216591689036],[19.5103191320651987,-99.1293309497179820],[19.5097363576666503,-99.1286745500125477],[19.5094449695796612,-99.1283463519339989],[19.5087946308941795,-99.1276047938043803],[19.5090669880984890,-99.1273337402395782]]\n",
    "               "
   ]
  },
  {
   "cell_type": "code",
   "execution_count": 14,
   "id": "d9e116ca",
   "metadata": {
    "ExecuteTime": {
     "end_time": "2025-03-27T17:23:38.360265Z",
     "start_time": "2025-03-27T17:23:38.327528Z"
    }
   },
   "outputs": [
    {
     "data": {
      "text/html": [
       "<iframe srcdoc=\"&lt;!DOCTYPE html&gt;\n",
       "&lt;html&gt;\n",
       "&lt;head&gt;\n",
       "    \n",
       "    &lt;meta http-equiv=&quot;content-type&quot; content=&quot;text/html; charset=UTF-8&quot; /&gt;\n",
       "    \n",
       "        &lt;script&gt;\n",
       "            L_NO_TOUCH = false;\n",
       "            L_DISABLE_3D = false;\n",
       "        &lt;/script&gt;\n",
       "    \n",
       "    &lt;style&gt;html, body {width: 100%;height: 100%;margin: 0;padding: 0;}&lt;/style&gt;\n",
       "    &lt;style&gt;#map {position:absolute;top:0;bottom:0;right:0;left:0;}&lt;/style&gt;\n",
       "    &lt;script src=&quot;https://cdn.jsdelivr.net/npm/leaflet@1.9.3/dist/leaflet.js&quot;&gt;&lt;/script&gt;\n",
       "    &lt;script src=&quot;https://code.jquery.com/jquery-1.12.4.min.js&quot;&gt;&lt;/script&gt;\n",
       "    &lt;script src=&quot;https://cdn.jsdelivr.net/npm/bootstrap@5.2.2/dist/js/bootstrap.bundle.min.js&quot;&gt;&lt;/script&gt;\n",
       "    &lt;script src=&quot;https://cdnjs.cloudflare.com/ajax/libs/Leaflet.awesome-markers/2.0.2/leaflet.awesome-markers.js&quot;&gt;&lt;/script&gt;\n",
       "    &lt;link rel=&quot;stylesheet&quot; href=&quot;https://cdn.jsdelivr.net/npm/leaflet@1.9.3/dist/leaflet.css&quot;/&gt;\n",
       "    &lt;link rel=&quot;stylesheet&quot; href=&quot;https://cdn.jsdelivr.net/npm/bootstrap@5.2.2/dist/css/bootstrap.min.css&quot;/&gt;\n",
       "    &lt;link rel=&quot;stylesheet&quot; href=&quot;https://netdna.bootstrapcdn.com/bootstrap/3.0.0/css/bootstrap.min.css&quot;/&gt;\n",
       "    &lt;link rel=&quot;stylesheet&quot; href=&quot;https://cdn.jsdelivr.net/npm/@fortawesome/fontawesome-free@6.2.0/css/all.min.css&quot;/&gt;\n",
       "    &lt;link rel=&quot;stylesheet&quot; href=&quot;https://cdnjs.cloudflare.com/ajax/libs/Leaflet.awesome-markers/2.0.2/leaflet.awesome-markers.css&quot;/&gt;\n",
       "    &lt;link rel=&quot;stylesheet&quot; href=&quot;https://cdn.jsdelivr.net/gh/python-visualization/folium/folium/templates/leaflet.awesome.rotate.min.css&quot;/&gt;\n",
       "    \n",
       "            &lt;meta name=&quot;viewport&quot; content=&quot;width=device-width,\n",
       "                initial-scale=1.0, maximum-scale=1.0, user-scalable=no&quot; /&gt;\n",
       "            &lt;style&gt;\n",
       "                #map_9939b0e3d3469a6d638d59f74bf46926 {\n",
       "                    position: relative;\n",
       "                    width: 500.0px;\n",
       "                    height: 500.0px;\n",
       "                    left: 0.0%;\n",
       "                    top: 0.0%;\n",
       "                }\n",
       "                .leaflet-container { font-size: 1rem; }\n",
       "            &lt;/style&gt;\n",
       "        \n",
       "&lt;/head&gt;\n",
       "&lt;body&gt;\n",
       "    \n",
       "    \n",
       "            &lt;div class=&quot;folium-map&quot; id=&quot;map_9939b0e3d3469a6d638d59f74bf46926&quot; &gt;&lt;/div&gt;\n",
       "        \n",
       "&lt;/body&gt;\n",
       "&lt;script&gt;\n",
       "    \n",
       "    \n",
       "            var map_9939b0e3d3469a6d638d59f74bf46926 = L.map(\n",
       "                &quot;map_9939b0e3d3469a6d638d59f74bf46926&quot;,\n",
       "                {\n",
       "                    center: [19.32196392811767, -99.18465213931688],\n",
       "                    crs: L.CRS.EPSG3857,\n",
       "                    zoom: 11,\n",
       "                    zoomControl: true,\n",
       "                    preferCanvas: false,\n",
       "                }\n",
       "            );\n",
       "\n",
       "            \n",
       "\n",
       "        \n",
       "    \n",
       "            var tile_layer_3235d841943c146b7a85848ea6642b17 = L.tileLayer(\n",
       "                &quot;https://{s}.tile.openstreetmap.org/{z}/{x}/{y}.png&quot;,\n",
       "                {&quot;attribution&quot;: &quot;Data by \\u0026copy; \\u003ca target=\\&quot;_blank\\&quot; href=\\&quot;http://openstreetmap.org\\&quot;\\u003eOpenStreetMap\\u003c/a\\u003e, under \\u003ca target=\\&quot;_blank\\&quot; href=\\&quot;http://www.openstreetmap.org/copyright\\&quot;\\u003eODbL\\u003c/a\\u003e.&quot;, &quot;detectRetina&quot;: false, &quot;maxNativeZoom&quot;: 14, &quot;maxZoom&quot;: 14, &quot;minZoom&quot;: 8, &quot;noWrap&quot;: false, &quot;opacity&quot;: 1, &quot;subdomains&quot;: &quot;abc&quot;, &quot;tms&quot;: false}\n",
       "            ).addTo(map_9939b0e3d3469a6d638d59f74bf46926);\n",
       "        \n",
       "&lt;/script&gt;\n",
       "&lt;/html&gt;\" width=\"500\" height=\"500\"style=\"border:none !important;\" \"allowfullscreen\" \"webkitallowfullscreen\" \"mozallowfullscreen\"></iframe>"
      ],
      "text/plain": [
       "<folium.folium.Map at 0x7f8237733520>"
      ]
     },
     "execution_count": 14,
     "metadata": {},
     "output_type": "execute_result"
    }
   ],
   "source": [
    "fig=Figure(width=500,height=500)\n",
    "\n",
    "delta1CDMX=folium.Map(width=500,height=500,location=[19.3219639281176683,-99.1846521393168814],zoom_start=11,min_zoom=8,max_zoom=14)\n",
    "fig.add_child(delta1CDMX)\n",
    "delta1CDMX"
   ]
  },
  {
   "cell_type": "code",
   "execution_count": null,
   "id": "f1d5b2f2",
   "metadata": {
    "ExecuteTime": {
     "end_time": "2025-03-27T17:24:04.103538Z",
     "start_time": "2025-03-27T17:24:04.054296Z"
    },
    "scrolled": false
   },
   "outputs": [],
   "source": [
    "fig_delta=Figure(height=1000,width=500)\n",
    "mCDMX=folium.Map(width=1000,height=50,location=[19.3219639281176683,-99.1846521393168814],zoom_start=11,min_zoom=8,max_zoom=14,attr='Mapbox')\n",
    "fig_delta.add_child(mCDMX)\n",
    "\n",
    "# Creating feature groups\n",
    "f1=folium.FeatureGroup(\"Ruta fibra UNAM CINVES\")\n",
    "line_1=folium.vector_layers.PolyLine(coords_GPS_cdmx,popup='<b>Ruta fibra UNAM - Cinves</b>',tooltip='Ruta fibra UNAM - CINVES',color='blue',weight=5).add_to(f1)\n",
    "folium.TileLayer('Stamen Terrain').add_to(mCDMX)\n",
    "f1.add_to(mCDMX)\n",
    "\n",
    "folium.LayerControl().add_to(mCDMX)\n",
    "mCDMX"
   ]
  },
  {
   "cell_type": "code",
   "execution_count": 16,
   "id": "763284a4",
   "metadata": {
    "ExecuteTime": {
     "end_time": "2025-03-27T17:23:41.722750Z",
     "start_time": "2025-03-27T17:23:41.682279Z"
    }
   },
   "outputs": [
    {
     "data": {
      "text/html": [
       "<iframe srcdoc=\"&lt;!DOCTYPE html&gt;\n",
       "&lt;html&gt;\n",
       "&lt;head&gt;\n",
       "    \n",
       "    &lt;meta http-equiv=&quot;content-type&quot; content=&quot;text/html; charset=UTF-8&quot; /&gt;\n",
       "    \n",
       "        &lt;script&gt;\n",
       "            L_NO_TOUCH = false;\n",
       "            L_DISABLE_3D = false;\n",
       "        &lt;/script&gt;\n",
       "    \n",
       "    &lt;style&gt;html, body {width: 100%;height: 100%;margin: 0;padding: 0;}&lt;/style&gt;\n",
       "    &lt;style&gt;#map {position:absolute;top:0;bottom:0;right:0;left:0;}&lt;/style&gt;\n",
       "    &lt;script src=&quot;https://cdn.jsdelivr.net/npm/leaflet@1.9.3/dist/leaflet.js&quot;&gt;&lt;/script&gt;\n",
       "    &lt;script src=&quot;https://code.jquery.com/jquery-1.12.4.min.js&quot;&gt;&lt;/script&gt;\n",
       "    &lt;script src=&quot;https://cdn.jsdelivr.net/npm/bootstrap@5.2.2/dist/js/bootstrap.bundle.min.js&quot;&gt;&lt;/script&gt;\n",
       "    &lt;script src=&quot;https://cdnjs.cloudflare.com/ajax/libs/Leaflet.awesome-markers/2.0.2/leaflet.awesome-markers.js&quot;&gt;&lt;/script&gt;\n",
       "    &lt;link rel=&quot;stylesheet&quot; href=&quot;https://cdn.jsdelivr.net/npm/leaflet@1.9.3/dist/leaflet.css&quot;/&gt;\n",
       "    &lt;link rel=&quot;stylesheet&quot; href=&quot;https://cdn.jsdelivr.net/npm/bootstrap@5.2.2/dist/css/bootstrap.min.css&quot;/&gt;\n",
       "    &lt;link rel=&quot;stylesheet&quot; href=&quot;https://netdna.bootstrapcdn.com/bootstrap/3.0.0/css/bootstrap.min.css&quot;/&gt;\n",
       "    &lt;link rel=&quot;stylesheet&quot; href=&quot;https://cdn.jsdelivr.net/npm/@fortawesome/fontawesome-free@6.2.0/css/all.min.css&quot;/&gt;\n",
       "    &lt;link rel=&quot;stylesheet&quot; href=&quot;https://cdnjs.cloudflare.com/ajax/libs/Leaflet.awesome-markers/2.0.2/leaflet.awesome-markers.css&quot;/&gt;\n",
       "    &lt;link rel=&quot;stylesheet&quot; href=&quot;https://cdn.jsdelivr.net/gh/python-visualization/folium/folium/templates/leaflet.awesome.rotate.min.css&quot;/&gt;\n",
       "    \n",
       "            &lt;meta name=&quot;viewport&quot; content=&quot;width=device-width,\n",
       "                initial-scale=1.0, maximum-scale=1.0, user-scalable=no&quot; /&gt;\n",
       "            &lt;style&gt;\n",
       "                #map_d80a21cf3376e7ac69d5ed719d244c16 {\n",
       "                    position: relative;\n",
       "                    width: 1000.0px;\n",
       "                    height: 1000.0px;\n",
       "                    left: 0.0%;\n",
       "                    top: 0.0%;\n",
       "                }\n",
       "                .leaflet-container { font-size: 1rem; }\n",
       "            &lt;/style&gt;\n",
       "        \n",
       "&lt;/head&gt;\n",
       "&lt;body&gt;\n",
       "    \n",
       "    \n",
       "            &lt;div class=&quot;folium-map&quot; id=&quot;map_d80a21cf3376e7ac69d5ed719d244c16&quot; &gt;&lt;/div&gt;\n",
       "        \n",
       "&lt;/body&gt;\n",
       "&lt;script&gt;\n",
       "    \n",
       "    \n",
       "            var map_d80a21cf3376e7ac69d5ed719d244c16 = L.map(\n",
       "                &quot;map_d80a21cf3376e7ac69d5ed719d244c16&quot;,\n",
       "                {\n",
       "                    center: [19.32196392811767, -99.18465213931688],\n",
       "                    crs: L.CRS.EPSG3857,\n",
       "                    zoom: 11,\n",
       "                    zoomControl: true,\n",
       "                    preferCanvas: false,\n",
       "                }\n",
       "            );\n",
       "\n",
       "            \n",
       "\n",
       "        \n",
       "    \n",
       "            var tile_layer_8c04e5b8a18e16aa979d7ed6fd2249de = L.tileLayer(\n",
       "                &quot;https://{s}.tile.openstreetmap.org/{z}/{x}/{y}.png&quot;,\n",
       "                {&quot;attribution&quot;: &quot;Data by \\u0026copy; \\u003ca target=\\&quot;_blank\\&quot; href=\\&quot;http://openstreetmap.org\\&quot;\\u003eOpenStreetMap\\u003c/a\\u003e, under \\u003ca target=\\&quot;_blank\\&quot; href=\\&quot;http://www.openstreetmap.org/copyright\\&quot;\\u003eODbL\\u003c/a\\u003e.&quot;, &quot;detectRetina&quot;: false, &quot;maxNativeZoom&quot;: 14, &quot;maxZoom&quot;: 14, &quot;minZoom&quot;: 8, &quot;noWrap&quot;: false, &quot;opacity&quot;: 1, &quot;subdomains&quot;: &quot;abc&quot;, &quot;tms&quot;: false}\n",
       "            ).addTo(map_d80a21cf3376e7ac69d5ed719d244c16);\n",
       "        \n",
       "    \n",
       "            var tile_layer_67c356ad4160c8c21234dd17525c37eb = L.tileLayer(\n",
       "                &quot;https://stamen-tiles-{s}.a.ssl.fastly.net/terrain/{z}/{x}/{y}.jpg&quot;,\n",
       "                {&quot;attribution&quot;: &quot;Map tiles by \\u003ca target=\\&quot;_blank\\&quot; href=\\&quot;http://stamen.com\\&quot;\\u003eStamen Design\\u003c/a\\u003e, under \\u003ca target=\\&quot;_blank\\&quot; href=\\&quot;http://creativecommons.org/licenses/by/3.0\\&quot;\\u003eCC BY 3.0\\u003c/a\\u003e. Data by \\u0026copy; \\u003ca target=\\&quot;_blank\\&quot; href=\\&quot;http://openstreetmap.org\\&quot;\\u003eOpenStreetMap\\u003c/a\\u003e, under \\u003ca target=\\&quot;_blank\\&quot; href=\\&quot;http://creativecommons.org/licenses/by-sa/3.0\\&quot;\\u003eCC BY SA\\u003c/a\\u003e.&quot;, &quot;detectRetina&quot;: false, &quot;maxNativeZoom&quot;: 18, &quot;maxZoom&quot;: 18, &quot;minZoom&quot;: 0, &quot;noWrap&quot;: false, &quot;opacity&quot;: 1, &quot;subdomains&quot;: &quot;abc&quot;, &quot;tms&quot;: false}\n",
       "            ).addTo(map_d80a21cf3376e7ac69d5ed719d244c16);\n",
       "        \n",
       "    \n",
       "            var feature_group_21cb9c9c05afd95ddd394e04d76800f4 = L.featureGroup(\n",
       "                {}\n",
       "            ).addTo(map_d80a21cf3376e7ac69d5ed719d244c16);\n",
       "        \n",
       "    \n",
       "            var poly_line_0d6c349e90e3a8c544d1ffa70f4b9ebd = L.polyline(\n",
       "                [[19.32196392811767, -99.18465213931688], [19.32189885925839, -99.18473362845872], [19.3221113878063, -99.18491230853854], [19.32224684264521, -99.18498791664985], [19.32246219968944, -99.18498508194568], [19.32267998679276, -99.18499335110565], [19.32273741563741, -99.18479919081832], [19.3228633284782, -99.18435515767224], [19.32299652900147, -99.18393421144349], [19.32321545844859, -99.18340028902678], [19.3233975540518, -99.18315889266488], [19.32348327314327, -99.18286326504872], [19.3235229640505, -99.18271167684102], [19.32351482091696, -99.18253830236698], [19.32346766093098, -99.18232571522475], [19.32308714221544, -99.1813608885357], [19.32283852336008, -99.18072333662649], [19.32259586700595, -99.18012252287362], [19.3223544468944, -99.17950840633901], [19.32212229346577, -99.17882313153098], [19.32204780881743, -99.17834803662787], [19.32205726899192, -99.17793100224577], [19.32216406469403, -99.17744589782673], [19.32224447836488, -99.1771087652226], [19.32222011514343, -99.17685227532925], [19.32204727130608, -99.17670400709223], [19.32182013767353, -99.17665286428182], [19.32184854854646, -99.1762988626552], [19.32203956410908, -99.17630719651685], [19.3226389496551, -99.1763260747916], [19.32319109814826, -99.17626996369272], [19.32386770215778, -99.17614855066641], [19.32402589575236, -99.17584103856832], [19.32428467845481, -99.17554801928848], [19.32456782838777, -99.1753052774275], [19.32486324360336, -99.17547805727425], [19.3252853820727, -99.17516871431458], [19.32537603519675, -99.17475701233276], [19.32548832019855, -99.17468505362612], [19.32547437332044, -99.1743178622115], [19.32479704588904, -99.17442100281444], [19.32473582275872, -99.17391009278731], [19.3259599101843, -99.173784332076], [19.32723557870459, -99.17366955525372], [19.32850205766036, -99.17353920010449], [19.32974338431379, -99.17350484963386], [19.33303564979662, -99.17398935267448], [19.33412178228642, -99.1743042359999], [19.33606784059725, -99.17708441979329], [19.3363698574211, -99.17915106494493], [19.33685393989853, -99.18020945356142], [19.33788590939385, -99.18171938662091], [19.33815764761855, -99.18196756293268], [19.33843270865267, -99.18218512149824], [19.3386286185414, -99.18227905439967], [19.33901814534774, -99.18234636738373], [19.33932869245489, -99.18233899093818], [19.3396822002315, -99.182231200213], [19.34071564000302, -99.18199240654577], [19.34160467146377, -99.18180352347697], [19.34569942773182, -99.18095978535781], [19.34956173801501, -99.180199008833], [19.35044265922978, -99.17933956129302], [19.35151439369813, -99.17798498483774], [19.35303716979048, -99.17669337402413], [19.35403882327962, -99.17555765356676], [19.35720613243722, -99.17282403167559], [19.36134538538392, -99.17096105135846], [19.36313416076014, -99.17008064153386], [19.3643505438343, -99.16902537593691], [19.36784241973769, -99.16679441994732], [19.37066112379209, -99.16500742711594], [19.37917682140029, -99.1595552993169], [19.37998130116813, -99.1590872091761], [19.38613960094805, -99.15727379519575], [19.39085540289148, -99.15649240315061], [19.39588108152338, -99.15610479301512], [19.40653477620663, -99.15528081153136], [19.41300712175809, -99.15474859404694], [19.4138003645398, -99.15321165842002], [19.41497927563212, -99.15100252069003], [19.41680813371327, -99.15079297580996], [19.41927911984249, -99.15044171286354], [19.42326566677449, -99.14972286100574], [19.42729010512396, -99.1489493566808], [19.43035479216352, -99.14829431207119], [19.43188713480228, -99.14796678049687], [19.43351189524807, -99.14763596114618], [19.43538994815406, -99.1473214795065], [19.4373606832566, -99.14698844609217], [19.43738648622519, -99.14682301605657], [19.43970992259187, -99.14630222832905], [19.44128144839439, -99.14596192126814], [19.44275990252791, -99.14564050221031], [19.44447065192962, -99.14525983132376], [19.44532602633276, -99.14506949287106], [19.44618281898687, -99.14488050035648], [19.44699043457063, -99.1447131641473], [19.44784346224899, -99.14452349689722], [19.44874369193319, -99.1443209260608], [19.4496688516125, -99.14411497917358], [19.45070598168986, -99.14388781296323], [19.45122454662249, -99.14377422876896], [19.45148382906229, -99.14371743639954], [19.45261854108832, -99.14343848971198], [19.45318491164323, -99.14330270613364], [19.45346809688279, -99.14323481398893], [19.4537612237999, -99.14316570458845], [19.45400284040837, -99.14313011334258], [19.45561006364128, -99.14315834937658], [19.45724026805835, -99.14318766278427], [19.45829536267056, -99.14295882954622], [19.45999200326004, -99.1425434644247], [19.46133560354596, -99.14219588338489], [19.4626792031695, -99.14184829658463], [19.46310625584178, -99.14184436204725], [19.46348612909563, -99.1419215563198], [19.4637808065391, -99.1419948447142], [19.46464911544039, -99.14205624595716], [19.4653071025582, -99.14203945965437], [19.4658972443648, -99.14190924519231], [19.46631762869254, -99.14168826626619], [19.46680673032416, -99.14131480020414], [19.46751706110692, -99.14075526994449], [19.46825441878397, -99.1401697985444], [19.46913088822523, -99.13946159838268], [19.46959179872145, -99.13910119521648], [19.47003283333988, -99.1387200730028], [19.47067987587613, -99.13816809482178], [19.47037860277639, -99.13774086667668], [19.4696265465326, -99.13683027527807], [19.46974132682447, -99.13660745115749], [19.4705077491836, -99.13712304200088], [19.47121264513195, -99.13749011051328], [19.47205984277633, -99.1378524864174], [19.47261535086663, -99.13808654188163], [19.47399008827342, -99.13864965918754], [19.47594425864933, -99.1394324096461], [19.47762082634257, -99.14010819006255], [19.47902231062179, -99.14066785456235], [19.48088701598108, -99.1413584746308], [19.48531637242121, -99.14308855921456], [19.4886265190182, -99.14445692480976], [19.49298099259254, -99.1462248360883], [19.49416068377995, -99.14668708871243], [19.49851683811345, -99.1484061116496], [19.50132857215657, -99.14951011661701], [19.50396911752813, -99.14815035405059], [19.50315115265413, -99.14642771147844], [19.50538324839851, -99.14529758560391], [19.5052158427204, -99.14493615951372], [19.50510739586937, -99.144620306045], [19.50494872055668, -99.14403969713473], [19.50490141381851, -99.14374311728304], [19.50622552450172, -99.14296724868696], [19.50708536788588, -99.14109749565696], [19.50764021103851, -99.13981236903136], [19.50791793156084, -99.13991235506234], [19.50823576918875, -99.1390652637519], [19.50877537761635, -99.13925409219651], [19.50947204586989, -99.13920553769003], [19.50981667394127, -99.1382802474249], [19.51018533393527, -99.13736022720293], [19.51105993089231, -99.13866187881071], [19.5112370874221, -99.13859400401648], [19.51112565233345, -99.13858365132009], [19.51032330664903, -99.1373561613955], [19.51001143518995, -99.13686546213906], [19.50968798705627, -99.13635672722809], [19.50936149465032, -99.1358460236875], [19.50896931130715, -99.13520450096537], [19.50879516838532, -99.13491050664699], [19.50873231523545, -99.13472122746414], [19.5086975527067, -99.1345309382506], [19.50868309982405, -99.13432783802799], [19.50872981751692, -99.13418847808677], [19.50920956230163, -99.13387075280932], [19.50891646111562, -99.13339780670518], [19.50862079127895, -99.13292622624418], [19.50922395929447, -99.13239504273992], [19.50960631017587, -99.13241345874212], [19.5098227065421, -99.13232155641076], [19.50939705315601, -99.13203584519245], [19.50973395416478, -99.1312277748063], [19.5109383081086, -99.1300216591689], [19.5103191320652, -99.12933094971798], [19.50973635766665, -99.12867455001255], [19.50944496957966, -99.128346351934], [19.50879463089418, -99.12760479380438], [19.50906698809849, -99.12733374023958]],\n",
       "                {&quot;bubblingMouseEvents&quot;: true, &quot;color&quot;: &quot;blue&quot;, &quot;dashArray&quot;: null, &quot;dashOffset&quot;: null, &quot;fill&quot;: false, &quot;fillColor&quot;: &quot;blue&quot;, &quot;fillOpacity&quot;: 0.2, &quot;fillRule&quot;: &quot;evenodd&quot;, &quot;lineCap&quot;: &quot;round&quot;, &quot;lineJoin&quot;: &quot;round&quot;, &quot;noClip&quot;: false, &quot;opacity&quot;: 1.0, &quot;smoothFactor&quot;: 1.0, &quot;stroke&quot;: true, &quot;weight&quot;: 5}\n",
       "            ).addTo(feature_group_21cb9c9c05afd95ddd394e04d76800f4);\n",
       "        \n",
       "    \n",
       "        var popup_b05971e0431944d7c60e10482485adaa = L.popup({&quot;maxWidth&quot;: &quot;100%&quot;});\n",
       "\n",
       "        \n",
       "            \n",
       "                var html_62903bfd7693b9945a55a3308f7caf3b = $(`&lt;div id=&quot;html_62903bfd7693b9945a55a3308f7caf3b&quot; style=&quot;width: 100.0%; height: 100.0%;&quot;&gt;&lt;b&gt;Ruta fibra UNAM - Cinves&lt;/b&gt;&lt;/div&gt;`)[0];\n",
       "                popup_b05971e0431944d7c60e10482485adaa.setContent(html_62903bfd7693b9945a55a3308f7caf3b);\n",
       "            \n",
       "        \n",
       "\n",
       "        poly_line_0d6c349e90e3a8c544d1ffa70f4b9ebd.bindPopup(popup_b05971e0431944d7c60e10482485adaa)\n",
       "        ;\n",
       "\n",
       "        \n",
       "    \n",
       "    \n",
       "            poly_line_0d6c349e90e3a8c544d1ffa70f4b9ebd.bindTooltip(\n",
       "                `&lt;div&gt;\n",
       "                     Ruta fibra UNAM - CINVES\n",
       "                 &lt;/div&gt;`,\n",
       "                {&quot;sticky&quot;: true}\n",
       "            );\n",
       "        \n",
       "    \n",
       "            var layer_control_4645a63a6895285d8d2a2a8739182316 = {\n",
       "                base_layers : {\n",
       "                    &quot;openstreetmap&quot; : tile_layer_8c04e5b8a18e16aa979d7ed6fd2249de,\n",
       "                    &quot;stamenterrain&quot; : tile_layer_67c356ad4160c8c21234dd17525c37eb,\n",
       "                },\n",
       "                overlays :  {\n",
       "                    &quot;Ruta fibra UNAM CINVES&quot; : feature_group_21cb9c9c05afd95ddd394e04d76800f4,\n",
       "                },\n",
       "            };\n",
       "            L.control.layers(\n",
       "                layer_control_4645a63a6895285d8d2a2a8739182316.base_layers,\n",
       "                layer_control_4645a63a6895285d8d2a2a8739182316.overlays,\n",
       "                {&quot;autoZIndex&quot;: true, &quot;collapsed&quot;: true, &quot;position&quot;: &quot;topright&quot;}\n",
       "            ).addTo(map_d80a21cf3376e7ac69d5ed719d244c16);\n",
       "            tile_layer_67c356ad4160c8c21234dd17525c37eb.remove();\n",
       "        \n",
       "&lt;/script&gt;\n",
       "&lt;/html&gt;\" width=\"1000\" height=\"1000\"style=\"border:none !important;\" \"allowfullscreen\" \"webkitallowfullscreen\" \"mozallowfullscreen\"></iframe>"
      ],
      "text/plain": [
       "<folium.folium.Map at 0x7f82377a4640>"
      ]
     },
     "execution_count": 16,
     "metadata": {},
     "output_type": "execute_result"
    }
   ],
   "source": [
    "fig_delta=Figure(height=1000,width=1000)\n",
    "mCDMX=folium.Map(width=1000,height=1000,location=[19.3219639281176683,-99.1846521393168814],zoom_start=11,min_zoom=8,max_zoom=14,attr='Mapbox')\n",
    "fig_delta.add_child(mCDMX)\n",
    "\n",
    "# Creating feature groups\n",
    "f1=folium.FeatureGroup(\"Ruta fibra UNAM CINVES\")\n",
    "line_1=folium.vector_layers.PolyLine(coords_GPS_cdmx,popup='<b>Ruta fibra UNAM - Cinves</b>',tooltip='Ruta fibra UNAM - CINVES',color='blue',weight=5).add_to(f1)\n",
    "folium.TileLayer('Stamen Terrain').add_to(mCDMX)\n",
    "f1.add_to(mCDMX)\n",
    "\n",
    "folium.LayerControl().add_to(mCDMX)\n",
    "mCDMX"
   ]
  },
  {
   "cell_type": "code",
   "execution_count": 18,
   "id": "0a96eb48",
   "metadata": {
    "ExecuteTime": {
     "end_time": "2025-03-27T17:24:15.005610Z",
     "start_time": "2025-03-27T17:24:14.999004Z"
    }
   },
   "outputs": [],
   "source": [
    "token = \"pk.eyJ1IjoicG9zdG9yZ2FuaWMiLCJhIjoiY2t4MnRtYmduMXM5ZTJ6bnM0NnN4MTJoMSJ9.ncz37Mc8tFYlLsZAQUvgUg\""
   ]
  },
  {
   "cell_type": "code",
   "execution_count": 19,
   "id": "7c755734",
   "metadata": {
    "ExecuteTime": {
     "end_time": "2025-03-27T17:24:15.265433Z",
     "start_time": "2025-03-27T17:24:15.259765Z"
    }
   },
   "outputs": [],
   "source": [
    "tileurl = 'https://api.mapbox.com/v4/mapbox.satellite/{z}/{x}/{y}@2x.png?access_token=' + str(token)\n"
   ]
  },
  {
   "cell_type": "code",
   "execution_count": 20,
   "id": "8a9156bd",
   "metadata": {
    "ExecuteTime": {
     "end_time": "2025-03-27T17:24:15.494225Z",
     "start_time": "2025-03-27T17:24:15.462217Z"
    }
   },
   "outputs": [
    {
     "data": {
      "text/plain": [
       "<folium.map.LayerControl at 0x7f8237733fd0>"
      ]
     },
     "execution_count": 20,
     "metadata": {},
     "output_type": "execute_result"
    }
   ],
   "source": [
    "fig2=Figure(width=1000,height=1000)\n",
    "m2 = folium.Map(\n",
    "    location=[19.3219639281176683,-99.1846521393168814], zoom_start=9, tiles=tileurl, attr='Mapbox')\n",
    "fig2.add_child(m2)\n",
    "\n",
    "folium.TileLayer('Stamen Terrain').add_to(m2)\n",
    "folium.TileLayer('Stamen Toner').add_to(m2)\n",
    "folium.TileLayer('Stamen Water Color').add_to(m2)\n",
    "folium.TileLayer('cartodbpositron').add_to(m2)\n",
    "folium.TileLayer('cartodbdark_matter').add_to(m2)\n",
    "folium.LayerControl().add_to(m2)"
   ]
  },
  {
   "cell_type": "code",
   "execution_count": null,
   "id": "7fad4617",
   "metadata": {},
   "outputs": [],
   "source": []
  },
  {
   "cell_type": "code",
   "execution_count": 21,
   "id": "1ff88710",
   "metadata": {
    "ExecuteTime": {
     "end_time": "2025-03-27T17:24:16.307449Z",
     "start_time": "2025-03-27T17:24:16.269768Z"
    }
   },
   "outputs": [
    {
     "data": {
      "text/plain": [
       "<folium.map.LayerControl at 0x7f8237712fa0>"
      ]
     },
     "execution_count": 21,
     "metadata": {},
     "output_type": "execute_result"
    }
   ],
   "source": [
    "fig3=Figure(width=1000,height=1000)\n",
    "m3 = folium.Map(\n",
    "    location=[19.3219639281176683,-99.1846521393168814], zoom_start=12, tiles=tileurl, attr='Mapbox')\n",
    "f1.add_to(m3)\n",
    "fig3.add_child(m2)\n",
    "line_1=folium.vector_layers.PolyLine(coords_GPS_cdmx,popup='<b>Ruta fibra UNAM - Cinves</b>',tooltip='Ruta fibra UNAM - CINVES',color='blue',weight=5).add_to(f1)\n",
    "\n",
    "folium.TileLayer('Stamen Terrain').add_to(m3)\n",
    "folium.TileLayer('Stamen Toner').add_to(m3)\n",
    "folium.TileLayer('OpenStreetMap').add_to(m3)\n",
    "folium.TileLayer('cartodbpositron').add_to(m3)\n",
    "folium.TileLayer('cartodbdark_matter').add_to(m3)\n",
    "#folium.TileLayer('Esri.WorldImagery').add_to(m3)\n",
    "folium.LayerControl().add_to(m3)\n",
    "#folium.Marker(location=coordsGPS[0],popup='Custom Marker 1',tooltip='<strong>Click here to see Popup</strong>',icon=folium.Icon(color='red',icon='none')).add_to(m3)\n",
    "#folium.CircleMarker(location=coordsGPS[0],radius=2,color='green').add_to(m3)\n",
    "#for i in range(0,len(coords_recep)):\n",
    "    #print(cartesianas(each[0],each[1],each[2]))\n",
    "    #folium.CircleMarker(location=cartesianas(each[0],each[1],each[2]),radius=2,color='green').add_to(m3)\n",
    "    #folium.CircleMarker(location=cartesianas(coords_recep[i][0],coords_recep[i][1],coords_recep[i][2]),radius=0.5,color='green').add_to(m3)\n",
    "folium.LayerControl().add_to(m3)"
   ]
  },
  {
   "cell_type": "code",
   "execution_count": 22,
   "id": "7ad6854b",
   "metadata": {
    "ExecuteTime": {
     "end_time": "2025-03-27T17:24:16.989936Z",
     "start_time": "2025-03-27T17:24:16.943360Z"
    },
    "scrolled": false
   },
   "outputs": [
    {
     "data": {
      "text/html": [
       "<div style=\"width:100%;\"><div style=\"position:relative;width:100%;height:0;padding-bottom:60%;\"><span style=\"color:#565656\">Make this Notebook Trusted to load map: File -> Trust Notebook</span><iframe srcdoc=\"&lt;!DOCTYPE html&gt;\n",
       "&lt;html&gt;\n",
       "&lt;head&gt;\n",
       "    \n",
       "    &lt;meta http-equiv=&quot;content-type&quot; content=&quot;text/html; charset=UTF-8&quot; /&gt;\n",
       "    \n",
       "        &lt;script&gt;\n",
       "            L_NO_TOUCH = false;\n",
       "            L_DISABLE_3D = false;\n",
       "        &lt;/script&gt;\n",
       "    \n",
       "    &lt;style&gt;html, body {width: 100%;height: 100%;margin: 0;padding: 0;}&lt;/style&gt;\n",
       "    &lt;style&gt;#map {position:absolute;top:0;bottom:0;right:0;left:0;}&lt;/style&gt;\n",
       "    &lt;script src=&quot;https://cdn.jsdelivr.net/npm/leaflet@1.9.3/dist/leaflet.js&quot;&gt;&lt;/script&gt;\n",
       "    &lt;script src=&quot;https://code.jquery.com/jquery-1.12.4.min.js&quot;&gt;&lt;/script&gt;\n",
       "    &lt;script src=&quot;https://cdn.jsdelivr.net/npm/bootstrap@5.2.2/dist/js/bootstrap.bundle.min.js&quot;&gt;&lt;/script&gt;\n",
       "    &lt;script src=&quot;https://cdnjs.cloudflare.com/ajax/libs/Leaflet.awesome-markers/2.0.2/leaflet.awesome-markers.js&quot;&gt;&lt;/script&gt;\n",
       "    &lt;link rel=&quot;stylesheet&quot; href=&quot;https://cdn.jsdelivr.net/npm/leaflet@1.9.3/dist/leaflet.css&quot;/&gt;\n",
       "    &lt;link rel=&quot;stylesheet&quot; href=&quot;https://cdn.jsdelivr.net/npm/bootstrap@5.2.2/dist/css/bootstrap.min.css&quot;/&gt;\n",
       "    &lt;link rel=&quot;stylesheet&quot; href=&quot;https://netdna.bootstrapcdn.com/bootstrap/3.0.0/css/bootstrap.min.css&quot;/&gt;\n",
       "    &lt;link rel=&quot;stylesheet&quot; href=&quot;https://cdn.jsdelivr.net/npm/@fortawesome/fontawesome-free@6.2.0/css/all.min.css&quot;/&gt;\n",
       "    &lt;link rel=&quot;stylesheet&quot; href=&quot;https://cdnjs.cloudflare.com/ajax/libs/Leaflet.awesome-markers/2.0.2/leaflet.awesome-markers.css&quot;/&gt;\n",
       "    &lt;link rel=&quot;stylesheet&quot; href=&quot;https://cdn.jsdelivr.net/gh/python-visualization/folium/folium/templates/leaflet.awesome.rotate.min.css&quot;/&gt;\n",
       "    \n",
       "            &lt;meta name=&quot;viewport&quot; content=&quot;width=device-width,\n",
       "                initial-scale=1.0, maximum-scale=1.0, user-scalable=no&quot; /&gt;\n",
       "            &lt;style&gt;\n",
       "                #map_fe3b8a00b457aefc41b56e2c32050deb {\n",
       "                    position: relative;\n",
       "                    width: 100.0%;\n",
       "                    height: 100.0%;\n",
       "                    left: 0.0%;\n",
       "                    top: 0.0%;\n",
       "                }\n",
       "                .leaflet-container { font-size: 1rem; }\n",
       "            &lt;/style&gt;\n",
       "        \n",
       "&lt;/head&gt;\n",
       "&lt;body&gt;\n",
       "    \n",
       "    \n",
       "            &lt;div class=&quot;folium-map&quot; id=&quot;map_fe3b8a00b457aefc41b56e2c32050deb&quot; &gt;&lt;/div&gt;\n",
       "        \n",
       "&lt;/body&gt;\n",
       "&lt;script&gt;\n",
       "    \n",
       "    \n",
       "            var map_fe3b8a00b457aefc41b56e2c32050deb = L.map(\n",
       "                &quot;map_fe3b8a00b457aefc41b56e2c32050deb&quot;,\n",
       "                {\n",
       "                    center: [19.32196392811767, -99.18465213931688],\n",
       "                    crs: L.CRS.EPSG3857,\n",
       "                    zoom: 12,\n",
       "                    zoomControl: true,\n",
       "                    preferCanvas: false,\n",
       "                }\n",
       "            );\n",
       "\n",
       "            \n",
       "\n",
       "        \n",
       "    \n",
       "            var tile_layer_ef33ce2a7305281961e5eb274a8360ec = L.tileLayer(\n",
       "                &quot;https://api.mapbox.com/v4/mapbox.satellite/{z}/{x}/{y}@2x.png?access_token=pk.eyJ1IjoicG9zdG9yZ2FuaWMiLCJhIjoiY2t4MnRtYmduMXM5ZTJ6bnM0NnN4MTJoMSJ9.ncz37Mc8tFYlLsZAQUvgUg&quot;,\n",
       "                {&quot;attribution&quot;: &quot;Mapbox&quot;, &quot;detectRetina&quot;: false, &quot;maxNativeZoom&quot;: 18, &quot;maxZoom&quot;: 18, &quot;minZoom&quot;: 0, &quot;noWrap&quot;: false, &quot;opacity&quot;: 1, &quot;subdomains&quot;: &quot;abc&quot;, &quot;tms&quot;: false}\n",
       "            ).addTo(map_fe3b8a00b457aefc41b56e2c32050deb);\n",
       "        \n",
       "    \n",
       "            var feature_group_a4801f21feb132947719311cef15db58 = L.featureGroup(\n",
       "                {}\n",
       "            ).addTo(map_fe3b8a00b457aefc41b56e2c32050deb);\n",
       "        \n",
       "    \n",
       "            var poly_line_f2f70a27438873e1a87daf46c163cc00 = L.polyline(\n",
       "                [[19.32196392811767, -99.18465213931688], [19.32189885925839, -99.18473362845872], [19.3221113878063, -99.18491230853854], [19.32224684264521, -99.18498791664985], [19.32246219968944, -99.18498508194568], [19.32267998679276, -99.18499335110565], [19.32273741563741, -99.18479919081832], [19.3228633284782, -99.18435515767224], [19.32299652900147, -99.18393421144349], [19.32321545844859, -99.18340028902678], [19.3233975540518, -99.18315889266488], [19.32348327314327, -99.18286326504872], [19.3235229640505, -99.18271167684102], [19.32351482091696, -99.18253830236698], [19.32346766093098, -99.18232571522475], [19.32308714221544, -99.1813608885357], [19.32283852336008, -99.18072333662649], [19.32259586700595, -99.18012252287362], [19.3223544468944, -99.17950840633901], [19.32212229346577, -99.17882313153098], [19.32204780881743, -99.17834803662787], [19.32205726899192, -99.17793100224577], [19.32216406469403, -99.17744589782673], [19.32224447836488, -99.1771087652226], [19.32222011514343, -99.17685227532925], [19.32204727130608, -99.17670400709223], [19.32182013767353, -99.17665286428182], [19.32184854854646, -99.1762988626552], [19.32203956410908, -99.17630719651685], [19.3226389496551, -99.1763260747916], [19.32319109814826, -99.17626996369272], [19.32386770215778, -99.17614855066641], [19.32402589575236, -99.17584103856832], [19.32428467845481, -99.17554801928848], [19.32456782838777, -99.1753052774275], [19.32486324360336, -99.17547805727425], [19.3252853820727, -99.17516871431458], [19.32537603519675, -99.17475701233276], [19.32548832019855, -99.17468505362612], [19.32547437332044, -99.1743178622115], [19.32479704588904, -99.17442100281444], [19.32473582275872, -99.17391009278731], [19.3259599101843, -99.173784332076], [19.32723557870459, -99.17366955525372], [19.32850205766036, -99.17353920010449], [19.32974338431379, -99.17350484963386], [19.33303564979662, -99.17398935267448], [19.33412178228642, -99.1743042359999], [19.33606784059725, -99.17708441979329], [19.3363698574211, -99.17915106494493], [19.33685393989853, -99.18020945356142], [19.33788590939385, -99.18171938662091], [19.33815764761855, -99.18196756293268], [19.33843270865267, -99.18218512149824], [19.3386286185414, -99.18227905439967], [19.33901814534774, -99.18234636738373], [19.33932869245489, -99.18233899093818], [19.3396822002315, -99.182231200213], [19.34071564000302, -99.18199240654577], [19.34160467146377, -99.18180352347697], [19.34569942773182, -99.18095978535781], [19.34956173801501, -99.180199008833], [19.35044265922978, -99.17933956129302], [19.35151439369813, -99.17798498483774], [19.35303716979048, -99.17669337402413], [19.35403882327962, -99.17555765356676], [19.35720613243722, -99.17282403167559], [19.36134538538392, -99.17096105135846], [19.36313416076014, -99.17008064153386], [19.3643505438343, -99.16902537593691], [19.36784241973769, -99.16679441994732], [19.37066112379209, -99.16500742711594], [19.37917682140029, -99.1595552993169], [19.37998130116813, -99.1590872091761], [19.38613960094805, -99.15727379519575], [19.39085540289148, -99.15649240315061], [19.39588108152338, -99.15610479301512], [19.40653477620663, -99.15528081153136], [19.41300712175809, -99.15474859404694], [19.4138003645398, -99.15321165842002], [19.41497927563212, -99.15100252069003], [19.41680813371327, -99.15079297580996], [19.41927911984249, -99.15044171286354], [19.42326566677449, -99.14972286100574], [19.42729010512396, -99.1489493566808], [19.43035479216352, -99.14829431207119], [19.43188713480228, -99.14796678049687], [19.43351189524807, -99.14763596114618], [19.43538994815406, -99.1473214795065], [19.4373606832566, -99.14698844609217], [19.43738648622519, -99.14682301605657], [19.43970992259187, -99.14630222832905], [19.44128144839439, -99.14596192126814], [19.44275990252791, -99.14564050221031], [19.44447065192962, -99.14525983132376], [19.44532602633276, -99.14506949287106], [19.44618281898687, -99.14488050035648], [19.44699043457063, -99.1447131641473], [19.44784346224899, -99.14452349689722], [19.44874369193319, -99.1443209260608], [19.4496688516125, -99.14411497917358], [19.45070598168986, -99.14388781296323], [19.45122454662249, -99.14377422876896], [19.45148382906229, -99.14371743639954], [19.45261854108832, -99.14343848971198], [19.45318491164323, -99.14330270613364], [19.45346809688279, -99.14323481398893], [19.4537612237999, -99.14316570458845], [19.45400284040837, -99.14313011334258], [19.45561006364128, -99.14315834937658], [19.45724026805835, -99.14318766278427], [19.45829536267056, -99.14295882954622], [19.45999200326004, -99.1425434644247], [19.46133560354596, -99.14219588338489], [19.4626792031695, -99.14184829658463], [19.46310625584178, -99.14184436204725], [19.46348612909563, -99.1419215563198], [19.4637808065391, -99.1419948447142], [19.46464911544039, -99.14205624595716], [19.4653071025582, -99.14203945965437], [19.4658972443648, -99.14190924519231], [19.46631762869254, -99.14168826626619], [19.46680673032416, -99.14131480020414], [19.46751706110692, -99.14075526994449], [19.46825441878397, -99.1401697985444], [19.46913088822523, -99.13946159838268], [19.46959179872145, -99.13910119521648], [19.47003283333988, -99.1387200730028], [19.47067987587613, -99.13816809482178], [19.47037860277639, -99.13774086667668], [19.4696265465326, -99.13683027527807], [19.46974132682447, -99.13660745115749], [19.4705077491836, -99.13712304200088], [19.47121264513195, -99.13749011051328], [19.47205984277633, -99.1378524864174], [19.47261535086663, -99.13808654188163], [19.47399008827342, -99.13864965918754], [19.47594425864933, -99.1394324096461], [19.47762082634257, -99.14010819006255], [19.47902231062179, -99.14066785456235], [19.48088701598108, -99.1413584746308], [19.48531637242121, -99.14308855921456], [19.4886265190182, -99.14445692480976], [19.49298099259254, -99.1462248360883], [19.49416068377995, -99.14668708871243], [19.49851683811345, -99.1484061116496], [19.50132857215657, -99.14951011661701], [19.50396911752813, -99.14815035405059], [19.50315115265413, -99.14642771147844], [19.50538324839851, -99.14529758560391], [19.5052158427204, -99.14493615951372], [19.50510739586937, -99.144620306045], [19.50494872055668, -99.14403969713473], [19.50490141381851, -99.14374311728304], [19.50622552450172, -99.14296724868696], [19.50708536788588, -99.14109749565696], [19.50764021103851, -99.13981236903136], [19.50791793156084, -99.13991235506234], [19.50823576918875, -99.1390652637519], [19.50877537761635, -99.13925409219651], [19.50947204586989, -99.13920553769003], [19.50981667394127, -99.1382802474249], [19.51018533393527, -99.13736022720293], [19.51105993089231, -99.13866187881071], [19.5112370874221, -99.13859400401648], [19.51112565233345, -99.13858365132009], [19.51032330664903, -99.1373561613955], [19.51001143518995, -99.13686546213906], [19.50968798705627, -99.13635672722809], [19.50936149465032, -99.1358460236875], [19.50896931130715, -99.13520450096537], [19.50879516838532, -99.13491050664699], [19.50873231523545, -99.13472122746414], [19.5086975527067, -99.1345309382506], [19.50868309982405, -99.13432783802799], [19.50872981751692, -99.13418847808677], [19.50920956230163, -99.13387075280932], [19.50891646111562, -99.13339780670518], [19.50862079127895, -99.13292622624418], [19.50922395929447, -99.13239504273992], [19.50960631017587, -99.13241345874212], [19.5098227065421, -99.13232155641076], [19.50939705315601, -99.13203584519245], [19.50973395416478, -99.1312277748063], [19.5109383081086, -99.1300216591689], [19.5103191320652, -99.12933094971798], [19.50973635766665, -99.12867455001255], [19.50944496957966, -99.128346351934], [19.50879463089418, -99.12760479380438], [19.50906698809849, -99.12733374023958]],\n",
       "                {&quot;bubblingMouseEvents&quot;: true, &quot;color&quot;: &quot;blue&quot;, &quot;dashArray&quot;: null, &quot;dashOffset&quot;: null, &quot;fill&quot;: false, &quot;fillColor&quot;: &quot;blue&quot;, &quot;fillOpacity&quot;: 0.2, &quot;fillRule&quot;: &quot;evenodd&quot;, &quot;lineCap&quot;: &quot;round&quot;, &quot;lineJoin&quot;: &quot;round&quot;, &quot;noClip&quot;: false, &quot;opacity&quot;: 1.0, &quot;smoothFactor&quot;: 1.0, &quot;stroke&quot;: true, &quot;weight&quot;: 5}\n",
       "            ).addTo(feature_group_a4801f21feb132947719311cef15db58);\n",
       "        \n",
       "    \n",
       "        var popup_1201ffece3cb8be1687d00422ede6e0c = L.popup({&quot;maxWidth&quot;: &quot;100%&quot;});\n",
       "\n",
       "        \n",
       "            \n",
       "                var html_69007c3d9734535de3ecd4f0e5c889c1 = $(`&lt;div id=&quot;html_69007c3d9734535de3ecd4f0e5c889c1&quot; style=&quot;width: 100.0%; height: 100.0%;&quot;&gt;&lt;b&gt;Ruta fibra UNAM - Cinves&lt;/b&gt;&lt;/div&gt;`)[0];\n",
       "                popup_1201ffece3cb8be1687d00422ede6e0c.setContent(html_69007c3d9734535de3ecd4f0e5c889c1);\n",
       "            \n",
       "        \n",
       "\n",
       "        poly_line_f2f70a27438873e1a87daf46c163cc00.bindPopup(popup_1201ffece3cb8be1687d00422ede6e0c)\n",
       "        ;\n",
       "\n",
       "        \n",
       "    \n",
       "    \n",
       "            poly_line_f2f70a27438873e1a87daf46c163cc00.bindTooltip(\n",
       "                `&lt;div&gt;\n",
       "                     Ruta fibra UNAM - CINVES\n",
       "                 &lt;/div&gt;`,\n",
       "                {&quot;sticky&quot;: true}\n",
       "            );\n",
       "        \n",
       "    \n",
       "            var poly_line_bc0198b0ac42d34132e11089225f611d = L.polyline(\n",
       "                [[19.32196392811767, -99.18465213931688], [19.32189885925839, -99.18473362845872], [19.3221113878063, -99.18491230853854], [19.32224684264521, -99.18498791664985], [19.32246219968944, -99.18498508194568], [19.32267998679276, -99.18499335110565], [19.32273741563741, -99.18479919081832], [19.3228633284782, -99.18435515767224], [19.32299652900147, -99.18393421144349], [19.32321545844859, -99.18340028902678], [19.3233975540518, -99.18315889266488], [19.32348327314327, -99.18286326504872], [19.3235229640505, -99.18271167684102], [19.32351482091696, -99.18253830236698], [19.32346766093098, -99.18232571522475], [19.32308714221544, -99.1813608885357], [19.32283852336008, -99.18072333662649], [19.32259586700595, -99.18012252287362], [19.3223544468944, -99.17950840633901], [19.32212229346577, -99.17882313153098], [19.32204780881743, -99.17834803662787], [19.32205726899192, -99.17793100224577], [19.32216406469403, -99.17744589782673], [19.32224447836488, -99.1771087652226], [19.32222011514343, -99.17685227532925], [19.32204727130608, -99.17670400709223], [19.32182013767353, -99.17665286428182], [19.32184854854646, -99.1762988626552], [19.32203956410908, -99.17630719651685], [19.3226389496551, -99.1763260747916], [19.32319109814826, -99.17626996369272], [19.32386770215778, -99.17614855066641], [19.32402589575236, -99.17584103856832], [19.32428467845481, -99.17554801928848], [19.32456782838777, -99.1753052774275], [19.32486324360336, -99.17547805727425], [19.3252853820727, -99.17516871431458], [19.32537603519675, -99.17475701233276], [19.32548832019855, -99.17468505362612], [19.32547437332044, -99.1743178622115], [19.32479704588904, -99.17442100281444], [19.32473582275872, -99.17391009278731], [19.3259599101843, -99.173784332076], [19.32723557870459, -99.17366955525372], [19.32850205766036, -99.17353920010449], [19.32974338431379, -99.17350484963386], [19.33303564979662, -99.17398935267448], [19.33412178228642, -99.1743042359999], [19.33606784059725, -99.17708441979329], [19.3363698574211, -99.17915106494493], [19.33685393989853, -99.18020945356142], [19.33788590939385, -99.18171938662091], [19.33815764761855, -99.18196756293268], [19.33843270865267, -99.18218512149824], [19.3386286185414, -99.18227905439967], [19.33901814534774, -99.18234636738373], [19.33932869245489, -99.18233899093818], [19.3396822002315, -99.182231200213], [19.34071564000302, -99.18199240654577], [19.34160467146377, -99.18180352347697], [19.34569942773182, -99.18095978535781], [19.34956173801501, -99.180199008833], [19.35044265922978, -99.17933956129302], [19.35151439369813, -99.17798498483774], [19.35303716979048, -99.17669337402413], [19.35403882327962, -99.17555765356676], [19.35720613243722, -99.17282403167559], [19.36134538538392, -99.17096105135846], [19.36313416076014, -99.17008064153386], [19.3643505438343, -99.16902537593691], [19.36784241973769, -99.16679441994732], [19.37066112379209, -99.16500742711594], [19.37917682140029, -99.1595552993169], [19.37998130116813, -99.1590872091761], [19.38613960094805, -99.15727379519575], [19.39085540289148, -99.15649240315061], [19.39588108152338, -99.15610479301512], [19.40653477620663, -99.15528081153136], [19.41300712175809, -99.15474859404694], [19.4138003645398, -99.15321165842002], [19.41497927563212, -99.15100252069003], [19.41680813371327, -99.15079297580996], [19.41927911984249, -99.15044171286354], [19.42326566677449, -99.14972286100574], [19.42729010512396, -99.1489493566808], [19.43035479216352, -99.14829431207119], [19.43188713480228, -99.14796678049687], [19.43351189524807, -99.14763596114618], [19.43538994815406, -99.1473214795065], [19.4373606832566, -99.14698844609217], [19.43738648622519, -99.14682301605657], [19.43970992259187, -99.14630222832905], [19.44128144839439, -99.14596192126814], [19.44275990252791, -99.14564050221031], [19.44447065192962, -99.14525983132376], [19.44532602633276, -99.14506949287106], [19.44618281898687, -99.14488050035648], [19.44699043457063, -99.1447131641473], [19.44784346224899, -99.14452349689722], [19.44874369193319, -99.1443209260608], [19.4496688516125, -99.14411497917358], [19.45070598168986, -99.14388781296323], [19.45122454662249, -99.14377422876896], [19.45148382906229, -99.14371743639954], [19.45261854108832, -99.14343848971198], [19.45318491164323, -99.14330270613364], [19.45346809688279, -99.14323481398893], [19.4537612237999, -99.14316570458845], [19.45400284040837, -99.14313011334258], [19.45561006364128, -99.14315834937658], [19.45724026805835, -99.14318766278427], [19.45829536267056, -99.14295882954622], [19.45999200326004, -99.1425434644247], [19.46133560354596, -99.14219588338489], [19.4626792031695, -99.14184829658463], [19.46310625584178, -99.14184436204725], [19.46348612909563, -99.1419215563198], [19.4637808065391, -99.1419948447142], [19.46464911544039, -99.14205624595716], [19.4653071025582, -99.14203945965437], [19.4658972443648, -99.14190924519231], [19.46631762869254, -99.14168826626619], [19.46680673032416, -99.14131480020414], [19.46751706110692, -99.14075526994449], [19.46825441878397, -99.1401697985444], [19.46913088822523, -99.13946159838268], [19.46959179872145, -99.13910119521648], [19.47003283333988, -99.1387200730028], [19.47067987587613, -99.13816809482178], [19.47037860277639, -99.13774086667668], [19.4696265465326, -99.13683027527807], [19.46974132682447, -99.13660745115749], [19.4705077491836, -99.13712304200088], [19.47121264513195, -99.13749011051328], [19.47205984277633, -99.1378524864174], [19.47261535086663, -99.13808654188163], [19.47399008827342, -99.13864965918754], [19.47594425864933, -99.1394324096461], [19.47762082634257, -99.14010819006255], [19.47902231062179, -99.14066785456235], [19.48088701598108, -99.1413584746308], [19.48531637242121, -99.14308855921456], [19.4886265190182, -99.14445692480976], [19.49298099259254, -99.1462248360883], [19.49416068377995, -99.14668708871243], [19.49851683811345, -99.1484061116496], [19.50132857215657, -99.14951011661701], [19.50396911752813, -99.14815035405059], [19.50315115265413, -99.14642771147844], [19.50538324839851, -99.14529758560391], [19.5052158427204, -99.14493615951372], [19.50510739586937, -99.144620306045], [19.50494872055668, -99.14403969713473], [19.50490141381851, -99.14374311728304], [19.50622552450172, -99.14296724868696], [19.50708536788588, -99.14109749565696], [19.50764021103851, -99.13981236903136], [19.50791793156084, -99.13991235506234], [19.50823576918875, -99.1390652637519], [19.50877537761635, -99.13925409219651], [19.50947204586989, -99.13920553769003], [19.50981667394127, -99.1382802474249], [19.51018533393527, -99.13736022720293], [19.51105993089231, -99.13866187881071], [19.5112370874221, -99.13859400401648], [19.51112565233345, -99.13858365132009], [19.51032330664903, -99.1373561613955], [19.51001143518995, -99.13686546213906], [19.50968798705627, -99.13635672722809], [19.50936149465032, -99.1358460236875], [19.50896931130715, -99.13520450096537], [19.50879516838532, -99.13491050664699], [19.50873231523545, -99.13472122746414], [19.5086975527067, -99.1345309382506], [19.50868309982405, -99.13432783802799], [19.50872981751692, -99.13418847808677], [19.50920956230163, -99.13387075280932], [19.50891646111562, -99.13339780670518], [19.50862079127895, -99.13292622624418], [19.50922395929447, -99.13239504273992], [19.50960631017587, -99.13241345874212], [19.5098227065421, -99.13232155641076], [19.50939705315601, -99.13203584519245], [19.50973395416478, -99.1312277748063], [19.5109383081086, -99.1300216591689], [19.5103191320652, -99.12933094971798], [19.50973635766665, -99.12867455001255], [19.50944496957966, -99.128346351934], [19.50879463089418, -99.12760479380438], [19.50906698809849, -99.12733374023958]],\n",
       "                {&quot;bubblingMouseEvents&quot;: true, &quot;color&quot;: &quot;blue&quot;, &quot;dashArray&quot;: null, &quot;dashOffset&quot;: null, &quot;fill&quot;: false, &quot;fillColor&quot;: &quot;blue&quot;, &quot;fillOpacity&quot;: 0.2, &quot;fillRule&quot;: &quot;evenodd&quot;, &quot;lineCap&quot;: &quot;round&quot;, &quot;lineJoin&quot;: &quot;round&quot;, &quot;noClip&quot;: false, &quot;opacity&quot;: 1.0, &quot;smoothFactor&quot;: 1.0, &quot;stroke&quot;: true, &quot;weight&quot;: 5}\n",
       "            ).addTo(feature_group_a4801f21feb132947719311cef15db58);\n",
       "        \n",
       "    \n",
       "        var popup_c6898627c3d67301d9644f73af50215c = L.popup({&quot;maxWidth&quot;: &quot;100%&quot;});\n",
       "\n",
       "        \n",
       "            \n",
       "                var html_ccef7e3fc9f9ac60334100c5ecc28baa = $(`&lt;div id=&quot;html_ccef7e3fc9f9ac60334100c5ecc28baa&quot; style=&quot;width: 100.0%; height: 100.0%;&quot;&gt;&lt;b&gt;Ruta fibra UNAM - Cinves&lt;/b&gt;&lt;/div&gt;`)[0];\n",
       "                popup_c6898627c3d67301d9644f73af50215c.setContent(html_ccef7e3fc9f9ac60334100c5ecc28baa);\n",
       "            \n",
       "        \n",
       "\n",
       "        poly_line_bc0198b0ac42d34132e11089225f611d.bindPopup(popup_c6898627c3d67301d9644f73af50215c)\n",
       "        ;\n",
       "\n",
       "        \n",
       "    \n",
       "    \n",
       "            poly_line_bc0198b0ac42d34132e11089225f611d.bindTooltip(\n",
       "                `&lt;div&gt;\n",
       "                     Ruta fibra UNAM - CINVES\n",
       "                 &lt;/div&gt;`,\n",
       "                {&quot;sticky&quot;: true}\n",
       "            );\n",
       "        \n",
       "    \n",
       "            var tile_layer_123ebeb131879b949a0f1cce81823091 = L.tileLayer(\n",
       "                &quot;https://stamen-tiles-{s}.a.ssl.fastly.net/terrain/{z}/{x}/{y}.jpg&quot;,\n",
       "                {&quot;attribution&quot;: &quot;Map tiles by \\u003ca target=\\&quot;_blank\\&quot; href=\\&quot;http://stamen.com\\&quot;\\u003eStamen Design\\u003c/a\\u003e, under \\u003ca target=\\&quot;_blank\\&quot; href=\\&quot;http://creativecommons.org/licenses/by/3.0\\&quot;\\u003eCC BY 3.0\\u003c/a\\u003e. Data by \\u0026copy; \\u003ca target=\\&quot;_blank\\&quot; href=\\&quot;http://openstreetmap.org\\&quot;\\u003eOpenStreetMap\\u003c/a\\u003e, under \\u003ca target=\\&quot;_blank\\&quot; href=\\&quot;http://creativecommons.org/licenses/by-sa/3.0\\&quot;\\u003eCC BY SA\\u003c/a\\u003e.&quot;, &quot;detectRetina&quot;: false, &quot;maxNativeZoom&quot;: 18, &quot;maxZoom&quot;: 18, &quot;minZoom&quot;: 0, &quot;noWrap&quot;: false, &quot;opacity&quot;: 1, &quot;subdomains&quot;: &quot;abc&quot;, &quot;tms&quot;: false}\n",
       "            ).addTo(map_fe3b8a00b457aefc41b56e2c32050deb);\n",
       "        \n",
       "    \n",
       "            var tile_layer_30deb4a4f17334a4b3bfa0ebcfc6682a = L.tileLayer(\n",
       "                &quot;https://stamen-tiles-{s}.a.ssl.fastly.net/toner/{z}/{x}/{y}.png&quot;,\n",
       "                {&quot;attribution&quot;: &quot;Map tiles by \\u003ca target=\\&quot;_blank\\&quot; href=\\&quot;http://stamen.com\\&quot;\\u003eStamen Design\\u003c/a\\u003e, under \\u003ca target=\\&quot;_blank\\&quot; href=\\&quot;http://creativecommons.org/licenses/by/3.0\\&quot;\\u003eCC BY 3.0\\u003c/a\\u003e. Data by \\u0026copy; \\u003ca target=\\&quot;_blank\\&quot; href=\\&quot;http://openstreetmap.org\\&quot;\\u003eOpenStreetMap\\u003c/a\\u003e, under \\u003ca target=\\&quot;_blank\\&quot; href=\\&quot;http://www.openstreetmap.org/copyright\\&quot;\\u003eODbL\\u003c/a\\u003e.&quot;, &quot;detectRetina&quot;: false, &quot;maxNativeZoom&quot;: 18, &quot;maxZoom&quot;: 18, &quot;minZoom&quot;: 0, &quot;noWrap&quot;: false, &quot;opacity&quot;: 1, &quot;subdomains&quot;: &quot;abc&quot;, &quot;tms&quot;: false}\n",
       "            ).addTo(map_fe3b8a00b457aefc41b56e2c32050deb);\n",
       "        \n",
       "    \n",
       "            var tile_layer_1005a43a38d4ad876b0053a9c6c8b0fd = L.tileLayer(\n",
       "                &quot;https://{s}.tile.openstreetmap.org/{z}/{x}/{y}.png&quot;,\n",
       "                {&quot;attribution&quot;: &quot;Data by \\u0026copy; \\u003ca target=\\&quot;_blank\\&quot; href=\\&quot;http://openstreetmap.org\\&quot;\\u003eOpenStreetMap\\u003c/a\\u003e, under \\u003ca target=\\&quot;_blank\\&quot; href=\\&quot;http://www.openstreetmap.org/copyright\\&quot;\\u003eODbL\\u003c/a\\u003e.&quot;, &quot;detectRetina&quot;: false, &quot;maxNativeZoom&quot;: 18, &quot;maxZoom&quot;: 18, &quot;minZoom&quot;: 0, &quot;noWrap&quot;: false, &quot;opacity&quot;: 1, &quot;subdomains&quot;: &quot;abc&quot;, &quot;tms&quot;: false}\n",
       "            ).addTo(map_fe3b8a00b457aefc41b56e2c32050deb);\n",
       "        \n",
       "    \n",
       "            var tile_layer_39c0dc3ccf83b6c2bcdf19130c8cb814 = L.tileLayer(\n",
       "                &quot;https://cartodb-basemaps-{s}.global.ssl.fastly.net/light_all/{z}/{x}/{y}.png&quot;,\n",
       "                {&quot;attribution&quot;: &quot;\\u0026copy; \\u003ca target=\\&quot;_blank\\&quot; href=\\&quot;http://www.openstreetmap.org/copyright\\&quot;\\u003eOpenStreetMap\\u003c/a\\u003e contributors \\u0026copy; \\u003ca target=\\&quot;_blank\\&quot; href=\\&quot;http://cartodb.com/attributions\\&quot;\\u003eCartoDB\\u003c/a\\u003e, CartoDB \\u003ca target=\\&quot;_blank\\&quot; href =\\&quot;http://cartodb.com/attributions\\&quot;\\u003eattributions\\u003c/a\\u003e&quot;, &quot;detectRetina&quot;: false, &quot;maxNativeZoom&quot;: 18, &quot;maxZoom&quot;: 18, &quot;minZoom&quot;: 0, &quot;noWrap&quot;: false, &quot;opacity&quot;: 1, &quot;subdomains&quot;: &quot;abc&quot;, &quot;tms&quot;: false}\n",
       "            ).addTo(map_fe3b8a00b457aefc41b56e2c32050deb);\n",
       "        \n",
       "    \n",
       "            var tile_layer_fd6da9d032bfd83505bde51acf4f45e0 = L.tileLayer(\n",
       "                &quot;https://cartodb-basemaps-{s}.global.ssl.fastly.net/dark_all/{z}/{x}/{y}.png&quot;,\n",
       "                {&quot;attribution&quot;: &quot;\\u0026copy; \\u003ca target=\\&quot;_blank\\&quot; href=\\&quot;http://www.openstreetmap.org/copyright\\&quot;\\u003eOpenStreetMap\\u003c/a\\u003e contributors \\u0026copy; \\u003ca target=\\&quot;_blank\\&quot; href=\\&quot;http://cartodb.com/attributions\\&quot;\\u003eCartoDB\\u003c/a\\u003e, CartoDB \\u003ca target=\\&quot;_blank\\&quot; href =\\&quot;http://cartodb.com/attributions\\&quot;\\u003eattributions\\u003c/a\\u003e&quot;, &quot;detectRetina&quot;: false, &quot;maxNativeZoom&quot;: 18, &quot;maxZoom&quot;: 18, &quot;minZoom&quot;: 0, &quot;noWrap&quot;: false, &quot;opacity&quot;: 1, &quot;subdomains&quot;: &quot;abc&quot;, &quot;tms&quot;: false}\n",
       "            ).addTo(map_fe3b8a00b457aefc41b56e2c32050deb);\n",
       "        \n",
       "    \n",
       "            var layer_control_15e9a7dcd4cf1b9a68757d07d35d9d6f = {\n",
       "                base_layers : {\n",
       "                    &quot;https://api.mapbox.com/v4/mapbox.satellite/{z}/{x}/{y}@2x.png?access_token=pk.eyj1ijoicg9zdg9yz2fuawmilcjhijoiy2t4mnrtymdumxm5ztj6bnm0nnn4mtjomsj9.ncz37mc8tfyllszaquvgug&quot; : tile_layer_ef33ce2a7305281961e5eb274a8360ec,\n",
       "                    &quot;stamenterrain&quot; : tile_layer_123ebeb131879b949a0f1cce81823091,\n",
       "                    &quot;stamentoner&quot; : tile_layer_30deb4a4f17334a4b3bfa0ebcfc6682a,\n",
       "                    &quot;openstreetmap&quot; : tile_layer_1005a43a38d4ad876b0053a9c6c8b0fd,\n",
       "                    &quot;cartodbpositron&quot; : tile_layer_39c0dc3ccf83b6c2bcdf19130c8cb814,\n",
       "                    &quot;cartodbdark_matter&quot; : tile_layer_fd6da9d032bfd83505bde51acf4f45e0,\n",
       "                },\n",
       "                overlays :  {\n",
       "                    &quot;Ruta fibra UNAM CINVES&quot; : feature_group_a4801f21feb132947719311cef15db58,\n",
       "                },\n",
       "            };\n",
       "            L.control.layers(\n",
       "                layer_control_15e9a7dcd4cf1b9a68757d07d35d9d6f.base_layers,\n",
       "                layer_control_15e9a7dcd4cf1b9a68757d07d35d9d6f.overlays,\n",
       "                {&quot;autoZIndex&quot;: true, &quot;collapsed&quot;: true, &quot;position&quot;: &quot;topright&quot;}\n",
       "            ).addTo(map_fe3b8a00b457aefc41b56e2c32050deb);\n",
       "            tile_layer_123ebeb131879b949a0f1cce81823091.remove();\n",
       "            tile_layer_30deb4a4f17334a4b3bfa0ebcfc6682a.remove();\n",
       "            tile_layer_1005a43a38d4ad876b0053a9c6c8b0fd.remove();\n",
       "            tile_layer_39c0dc3ccf83b6c2bcdf19130c8cb814.remove();\n",
       "            tile_layer_fd6da9d032bfd83505bde51acf4f45e0.remove();\n",
       "        \n",
       "    \n",
       "            var layer_control_9543f0986b15f509609fa0b1fb641141 = {\n",
       "                base_layers : {\n",
       "                    &quot;https://api.mapbox.com/v4/mapbox.satellite/{z}/{x}/{y}@2x.png?access_token=pk.eyj1ijoicg9zdg9yz2fuawmilcjhijoiy2t4mnrtymdumxm5ztj6bnm0nnn4mtjomsj9.ncz37mc8tfyllszaquvgug&quot; : tile_layer_ef33ce2a7305281961e5eb274a8360ec,\n",
       "                    &quot;stamenterrain&quot; : tile_layer_123ebeb131879b949a0f1cce81823091,\n",
       "                    &quot;stamentoner&quot; : tile_layer_30deb4a4f17334a4b3bfa0ebcfc6682a,\n",
       "                    &quot;openstreetmap&quot; : tile_layer_1005a43a38d4ad876b0053a9c6c8b0fd,\n",
       "                    &quot;cartodbpositron&quot; : tile_layer_39c0dc3ccf83b6c2bcdf19130c8cb814,\n",
       "                    &quot;cartodbdark_matter&quot; : tile_layer_fd6da9d032bfd83505bde51acf4f45e0,\n",
       "                },\n",
       "                overlays :  {\n",
       "                    &quot;Ruta fibra UNAM CINVES&quot; : feature_group_a4801f21feb132947719311cef15db58,\n",
       "                },\n",
       "            };\n",
       "            L.control.layers(\n",
       "                layer_control_9543f0986b15f509609fa0b1fb641141.base_layers,\n",
       "                layer_control_9543f0986b15f509609fa0b1fb641141.overlays,\n",
       "                {&quot;autoZIndex&quot;: true, &quot;collapsed&quot;: true, &quot;position&quot;: &quot;topright&quot;}\n",
       "            ).addTo(map_fe3b8a00b457aefc41b56e2c32050deb);\n",
       "            tile_layer_123ebeb131879b949a0f1cce81823091.remove();\n",
       "            tile_layer_30deb4a4f17334a4b3bfa0ebcfc6682a.remove();\n",
       "            tile_layer_1005a43a38d4ad876b0053a9c6c8b0fd.remove();\n",
       "            tile_layer_39c0dc3ccf83b6c2bcdf19130c8cb814.remove();\n",
       "            tile_layer_fd6da9d032bfd83505bde51acf4f45e0.remove();\n",
       "        \n",
       "&lt;/script&gt;\n",
       "&lt;/html&gt;\" style=\"position:absolute;width:100%;height:100%;left:0;top:0;border:none !important;\" allowfullscreen webkitallowfullscreen mozallowfullscreen></iframe></div></div>"
      ],
      "text/plain": [
       "<folium.folium.Map at 0x7f82376d68b0>"
      ]
     },
     "execution_count": 22,
     "metadata": {},
     "output_type": "execute_result"
    }
   ],
   "source": [
    "m3"
   ]
  },
  {
   "cell_type": "code",
   "execution_count": 61,
   "id": "e9722f92",
   "metadata": {
    "ExecuteTime": {
     "end_time": "2025-03-27T17:25:15.839013Z",
     "start_time": "2025-03-27T17:25:15.825798Z"
    }
   },
   "outputs": [
    {
     "name": "stdout",
     "output_type": "stream",
     "text": [
      "27.500734259780565\n"
     ]
    }
   ],
   "source": [
    "#sumar todas las distancias entre puntos coordenados para la porción de fibra UNAM-Cinves, para confirmar longitud\n",
    "# Suma de distancias sin diferencia de alturas\n",
    "\n",
    "total = 0\n",
    "\n",
    "for i in range(0,len(np_coords_swp)-1):\n",
    "\n",
    "    base = haversine(np_coords_swp[i][:2],np_coords_swp[i+1][:2])\n",
    "    total = total + base\n",
    "\n",
    "print(total)"
   ]
  },
  {
   "cell_type": "code",
   "execution_count": 62,
   "id": "ae05ab50",
   "metadata": {
    "ExecuteTime": {
     "end_time": "2025-03-27T17:25:16.530517Z",
     "start_time": "2025-03-27T17:25:16.513404Z"
    }
   },
   "outputs": [
    {
     "name": "stdout",
     "output_type": "stream",
     "text": [
      "27.501630323559837\n"
     ]
    }
   ],
   "source": [
    "#sumar todas las distancias entre puntos coordenados para la porción de fibra UNAM-Cinves, para confirmar longitud\n",
    "# Suma de distancias CON diferencia de alturas\n",
    "\n",
    "total = 0\n",
    "\n",
    "for i in range(0,len(coords_GPS_cdmx)-1):\n",
    "    \n",
    "    altura = np.abs(np_coords_swp[i][2]-np_coords_swp[i+1][2])\n",
    "\n",
    "    base = haversine(np_coords_swp[i][:2],np_coords_swp[i+1][:2])\n",
    "    total = total + np.sqrt(base**2+(altura/1000)**2)\n",
    "print(total)"
   ]
  },
  {
   "cell_type": "code",
   "execution_count": null,
   "id": "4ec753df",
   "metadata": {},
   "outputs": [],
   "source": []
  },
  {
   "cell_type": "code",
   "execution_count": 63,
   "id": "459c308b",
   "metadata": {
    "ExecuteTime": {
     "end_time": "2025-03-27T17:25:17.698683Z",
     "start_time": "2025-03-27T17:25:17.689273Z"
    }
   },
   "outputs": [
    {
     "data": {
      "text/plain": [
       "[19.3221113878063, -99.18491230853854]"
      ]
     },
     "execution_count": 63,
     "metadata": {},
     "output_type": "execute_result"
    }
   ],
   "source": [
    "coords_GPS_cdmx[2]"
   ]
  },
  {
   "cell_type": "code",
   "execution_count": 64,
   "id": "f6972a39",
   "metadata": {
    "ExecuteTime": {
     "end_time": "2025-03-27T17:25:18.115463Z",
     "start_time": "2025-03-27T17:25:18.106350Z"
    }
   },
   "outputs": [
    {
     "data": {
      "text/plain": [
       "[19.32224684264521, -99.18498791664985]"
      ]
     },
     "execution_count": 64,
     "metadata": {},
     "output_type": "execute_result"
    }
   ],
   "source": [
    "coords_GPS_cdmx[3]"
   ]
  },
  {
   "cell_type": "code",
   "execution_count": 65,
   "id": "17972de8",
   "metadata": {
    "ExecuteTime": {
     "end_time": "2025-03-27T17:25:18.858455Z",
     "start_time": "2025-03-27T17:25:18.849866Z"
    }
   },
   "outputs": [
    {
     "data": {
      "text/plain": [
       "[19.32196392811767, -99.18465213931688]"
      ]
     },
     "execution_count": 65,
     "metadata": {},
     "output_type": "execute_result"
    }
   ],
   "source": [
    "coords_GPS_cdmx[0]"
   ]
  },
  {
   "cell_type": "code",
   "execution_count": null,
   "id": "84f7c681",
   "metadata": {},
   "outputs": [],
   "source": []
  },
  {
   "cell_type": "code",
   "execution_count": 66,
   "id": "1c4f2ae5",
   "metadata": {
    "ExecuteTime": {
     "end_time": "2025-03-27T17:25:19.598988Z",
     "start_time": "2025-03-27T17:25:19.587650Z"
    }
   },
   "outputs": [],
   "source": [
    "coords_cdmx = pd.read_csv('/home/aortiza/CDMX/CoordsFibraUNAMCINVES.txt',header=None)"
   ]
  },
  {
   "cell_type": "code",
   "execution_count": 67,
   "id": "ed8aef4a",
   "metadata": {
    "ExecuteTime": {
     "end_time": "2025-03-27T17:25:21.895279Z",
     "start_time": "2025-03-27T17:25:21.889312Z"
    }
   },
   "outputs": [],
   "source": [
    "np_coords = coords_cdmx.to_numpy()"
   ]
  },
  {
   "cell_type": "code",
   "execution_count": 68,
   "id": "bff43aa7",
   "metadata": {
    "ExecuteTime": {
     "end_time": "2025-03-27T17:25:22.169716Z",
     "start_time": "2025-03-27T17:25:22.163801Z"
    }
   },
   "outputs": [],
   "source": [
    "np_coords;"
   ]
  },
  {
   "cell_type": "code",
   "execution_count": 69,
   "id": "4d421f0f",
   "metadata": {
    "ExecuteTime": {
     "end_time": "2025-03-27T17:25:22.706128Z",
     "start_time": "2025-03-27T17:25:22.697564Z"
    }
   },
   "outputs": [],
   "source": [
    "np_coords_swp = np_coords.copy()\n",
    "for i in range(0,len(np_coords)):\n",
    "    np_coords_swp[i] =[np_coords_swp[i][1],np_coords_swp[i][0],np_coords_swp[i][2]]\n",
    "    "
   ]
  },
  {
   "cell_type": "code",
   "execution_count": 70,
   "id": "cda72df8",
   "metadata": {
    "ExecuteTime": {
     "end_time": "2025-03-27T17:25:23.360203Z",
     "start_time": "2025-03-27T17:25:23.354462Z"
    }
   },
   "outputs": [],
   "source": [
    "np_coords_swp;"
   ]
  },
  {
   "cell_type": "code",
   "execution_count": 71,
   "id": "acc38757",
   "metadata": {
    "ExecuteTime": {
     "end_time": "2025-03-27T17:25:23.792873Z",
     "start_time": "2025-03-27T17:25:23.787169Z"
    }
   },
   "outputs": [],
   "source": [
    "np_coords;"
   ]
  },
  {
   "cell_type": "code",
   "execution_count": 72,
   "id": "6dcb8f5b",
   "metadata": {
    "ExecuteTime": {
     "end_time": "2025-03-27T17:25:24.307995Z",
     "start_time": "2025-03-27T17:25:24.290737Z"
    }
   },
   "outputs": [
    {
     "name": "stdout",
     "output_type": "stream",
     "text": [
      "101.0682168765189\n"
     ]
    }
   ],
   "source": [
    "#sumar todas las distancias entre puntos coordenados para la delta UNAM-CINVESTAV, para confirmar longitud\n",
    "from geopy.distance import geodesic\n",
    "total = 0\n",
    "\n",
    "for i in range(0,len(np_coords)-1):\n",
    "    base = haversine(np_coords_swp[i][:2],np_coords_swp[i+1][:2])\n",
    "    #base = geodesic([np_coords[i][1],np_coords[i][0]],[np_coords[i+1][1],np_coords[i+1][0]]).km\n",
    "    altura = np.abs(np_coords_swp[i][2]-np_coords_swp[i+1][2])\n",
    "    total = total + np.sqrt(base**2+(altura)**2)\n",
    "print(total)"
   ]
  },
  {
   "cell_type": "code",
   "execution_count": 73,
   "id": "b4f6f670",
   "metadata": {
    "ExecuteTime": {
     "end_time": "2025-03-27T17:25:25.344569Z",
     "start_time": "2025-03-27T17:25:25.335047Z"
    }
   },
   "outputs": [
    {
     "data": {
      "text/plain": [
       "2272.334494031394"
      ]
     },
     "execution_count": 73,
     "metadata": {},
     "output_type": "execute_result"
    }
   ],
   "source": [
    "np_coords_swp[0][2]"
   ]
  },
  {
   "cell_type": "code",
   "execution_count": 74,
   "id": "1984e32e",
   "metadata": {
    "ExecuteTime": {
     "end_time": "2025-03-27T17:25:25.874368Z",
     "start_time": "2025-03-27T17:25:25.864782Z"
    }
   },
   "outputs": [
    {
     "data": {
      "text/plain": [
       "0.011201184208514296"
      ]
     },
     "execution_count": 74,
     "metadata": {},
     "output_type": "execute_result"
    }
   ],
   "source": [
    "haversine(np_coords_swp[0][:2],np_coords_swp[1][:2])"
   ]
  },
  {
   "cell_type": "code",
   "execution_count": 75,
   "id": "acde5201",
   "metadata": {
    "ExecuteTime": {
     "end_time": "2025-03-27T17:25:26.500343Z",
     "start_time": "2025-03-27T17:25:26.490166Z"
    }
   },
   "outputs": [
    {
     "data": {
      "text/plain": [
       "0.0301663973352676"
      ]
     },
     "execution_count": 75,
     "metadata": {},
     "output_type": "execute_result"
    }
   ],
   "source": [
    "haversine(np_coords_swp[1][:2],np_coords_swp[2][:2])"
   ]
  },
  {
   "cell_type": "code",
   "execution_count": 76,
   "id": "c52e3777",
   "metadata": {
    "ExecuteTime": {
     "end_time": "2025-03-27T17:25:26.975064Z",
     "start_time": "2025-03-27T17:25:26.964891Z"
    }
   },
   "outputs": [
    {
     "data": {
      "text/plain": [
       "0.01702365087288932"
      ]
     },
     "execution_count": 76,
     "metadata": {},
     "output_type": "execute_result"
    }
   ],
   "source": [
    "haversine(np_coords_swp[2][:2],np_coords_swp[3][:2])"
   ]
  },
  {
   "cell_type": "code",
   "execution_count": null,
   "id": "13f706e7",
   "metadata": {
    "ExecuteTime": {
     "end_time": "2025-03-27T17:25:27.315935Z",
     "start_time": "2025-03-27T17:25:27.294816Z"
    }
   },
   "outputs": [],
   "source": [
    "np_coords_swp"
   ]
  },
  {
   "cell_type": "code",
   "execution_count": 45,
   "id": "18addb4c",
   "metadata": {
    "ExecuteTime": {
     "end_time": "2025-03-27T17:24:42.276311Z",
     "start_time": "2025-03-27T17:24:42.265352Z"
    }
   },
   "outputs": [
    {
     "name": "stdout",
     "output_type": "stream",
     "text": [
      "83.60133058957535\n"
     ]
    }
   ],
   "source": [
    "total = 0\n",
    "\n",
    "\n",
    "for i in range(0,len(np_coords_swp)-1):\n",
    "    \n",
    "    altura = np.abs(np_coords_swp[i][2]-np_coords_swp[i+1][2])\n",
    "    total = total + altura\n",
    "\n",
    "print(total)"
   ]
  },
  {
   "cell_type": "code",
   "execution_count": 46,
   "id": "a4f68de0",
   "metadata": {
    "ExecuteTime": {
     "end_time": "2025-03-27T17:24:42.820019Z",
     "start_time": "2025-03-27T17:24:42.793304Z"
    }
   },
   "outputs": [],
   "source": [
    "np.savetxt(\"CoordsUNAM_Cinvestav.csv\",np_coords_swp, delimiter=\",\",fmt=\"%5.8f\")"
   ]
  },
  {
   "cell_type": "code",
   "execution_count": 47,
   "id": "11383186",
   "metadata": {
    "ExecuteTime": {
     "end_time": "2025-03-27T17:24:43.305058Z",
     "start_time": "2025-03-27T17:24:43.297455Z"
    }
   },
   "outputs": [],
   "source": [
    "coordZ = np.zeros(len(np_coords_swp))\n",
    "\n",
    "for i in range(0,len(coordZ)):\n",
    "    coordZ[i] = np_coords_swp[i][2]"
   ]
  },
  {
   "cell_type": "code",
   "execution_count": 48,
   "id": "5af3a349",
   "metadata": {
    "ExecuteTime": {
     "end_time": "2025-03-27T17:24:44.130519Z",
     "start_time": "2025-03-27T17:24:43.874378Z"
    }
   },
   "outputs": [
    {
     "data": {
      "text/plain": [
       "[<matplotlib.lines.Line2D at 0x7f823728a100>]"
      ]
     },
     "execution_count": 48,
     "metadata": {},
     "output_type": "execute_result"
    },
    {
     "data": {
      "image/png": "[encoded data removed]",
      "text/plain": [
       "<Figure size 640x480 with 1 Axes>"
      ]
     },
     "metadata": {},
     "output_type": "display_data"
    }
   ],
   "source": [
    "plt.plot(np.arange(len(np_coords_swp)),coordZ)"
   ]
  },
  {
   "cell_type": "code",
   "execution_count": 49,
   "id": "ed1260a8",
   "metadata": {
    "ExecuteTime": {
     "end_time": "2025-03-27T17:24:44.257415Z",
     "start_time": "2025-03-27T17:24:44.248796Z"
    }
   },
   "outputs": [
    {
     "data": {
      "text/plain": [
       "190"
      ]
     },
     "execution_count": 49,
     "metadata": {},
     "output_type": "execute_result"
    }
   ],
   "source": [
    "len(np_coords_swp)"
   ]
  },
  {
   "cell_type": "code",
   "execution_count": 50,
   "id": "ac2a96ac",
   "metadata": {
    "ExecuteTime": {
     "end_time": "2025-03-27T17:24:44.773663Z",
     "start_time": "2025-03-27T17:24:44.764625Z"
    }
   },
   "outputs": [
    {
     "data": {
      "text/plain": [
       "numpy.ndarray"
      ]
     },
     "execution_count": 50,
     "metadata": {},
     "output_type": "execute_result"
    }
   ],
   "source": [
    "type(np_coords_swp)"
   ]
  },
  {
   "cell_type": "code",
   "execution_count": 51,
   "id": "97411de4",
   "metadata": {
    "ExecuteTime": {
     "end_time": "2025-03-27T17:24:45.081697Z",
     "start_time": "2025-03-27T17:24:45.075696Z"
    }
   },
   "outputs": [],
   "source": [
    "from mpl_toolkits import mplot3d"
   ]
  },
  {
   "cell_type": "code",
   "execution_count": 52,
   "id": "e670a672",
   "metadata": {
    "ExecuteTime": {
     "end_time": "2025-03-27T17:24:45.269027Z",
     "start_time": "2025-03-27T17:24:45.263569Z"
    }
   },
   "outputs": [],
   "source": [
    "import numpy as np\n",
    "import matplotlib.pyplot as plt"
   ]
  },
  {
   "cell_type": "code",
   "execution_count": 53,
   "id": "a5f74d02",
   "metadata": {
    "ExecuteTime": {
     "end_time": "2025-03-27T17:24:45.625998Z",
     "start_time": "2025-03-27T17:24:45.595285Z"
    }
   },
   "outputs": [],
   "source": [
    "%matplotlib notebook"
   ]
  },
  {
   "cell_type": "code",
   "execution_count": null,
   "id": "4fb69f5b",
   "metadata": {
    "ExecuteTime": {
     "end_time": "2025-03-27T17:24:46.085269Z",
     "start_time": "2025-03-27T17:24:45.967924Z"
    },
    "jupyter": {
     "outputs_hidden": true
    }
   },
   "outputs": [],
   "source": []
  },
  {
   "cell_type": "code",
   "execution_count": null,
   "id": "143e0ea2",
   "metadata": {
    "ExecuteTime": {
     "end_time": "2025-03-27T17:25:01.646969Z",
     "start_time": "2025-03-27T17:25:01.563004Z"
    }
   },
   "outputs": [],
   "source": []
  },
  {
   "cell_type": "code",
   "execution_count": 57,
   "id": "9da0c087",
   "metadata": {
    "ExecuteTime": {
     "end_time": "2025-03-27T17:25:02.058670Z",
     "start_time": "2025-03-27T17:25:02.051716Z"
    }
   },
   "outputs": [
    {
     "data": {
      "text/plain": [
       "array([  19.32196393,  -99.18465214, 2272.33449403])"
      ]
     },
     "execution_count": 57,
     "metadata": {},
     "output_type": "execute_result"
    }
   ],
   "source": [
    "np_coords_swp[0]"
   ]
  },
  {
   "cell_type": "code",
   "execution_count": 58,
   "id": "b0a08f51",
   "metadata": {
    "ExecuteTime": {
     "end_time": "2025-03-27T17:25:02.940663Z",
     "start_time": "2025-03-27T17:25:02.930393Z"
    }
   },
   "outputs": [],
   "source": [
    "coordsX = []\n",
    "for i,each in enumerate(np_coords_swp):\n",
    "    coordsX.append(each[0])\n",
    "    \n",
    "coordsY = []\n",
    "for i,each in enumerate(np_coords_swp):\n",
    "    coordsY.append(each[1])\n",
    "    \n",
    "coordsZ = []\n",
    "for each in np_coords_swp:\n",
    "    coordsZ.append(each[2])"
   ]
  },
  {
   "cell_type": "code",
   "execution_count": null,
   "id": "e75026db",
   "metadata": {
    "ExecuteTime": {
     "end_time": "2025-03-27T17:25:03.483750Z",
     "start_time": "2025-03-27T17:25:03.466346Z"
    },
    "jupyter": {
     "outputs_hidden": true
    }
   },
   "outputs": [],
   "source": [
    "coordsX, coordsY"
   ]
  },
  {
   "cell_type": "code",
   "execution_count": null,
   "id": "542fff3e",
   "metadata": {
    "ExecuteTime": {
     "end_time": "2025-03-27T17:25:05.032926Z",
     "start_time": "2025-03-27T17:25:05.018872Z"
    },
    "jupyter": {
     "outputs_hidden": true
    }
   },
   "outputs": [],
   "source": [
    "coordsZ - np.array(coordsZ).mean()"
   ]
  },
  {
   "cell_type": "code",
   "execution_count": 59,
   "id": "925732bd",
   "metadata": {},
   "outputs": [
    {
     "data": {
      "text/plain": [
       "2244.772973985878"
      ]
     },
     "execution_count": 59,
     "metadata": {},
     "output_type": "execute_result"
    }
   ],
   "source": [
    "np.array(coordsZ).mean()"
   ]
  },
  {
   "cell_type": "code",
   "execution_count": 72,
   "id": "2688f965",
   "metadata": {
    "collapsed": true,
    "jupyter": {
     "outputs_hidden": true
    }
   },
   "outputs": [
    {
     "data": {
      "text/plain": [
       "array([59.32196393, 59.32189886, 59.32211139, 59.32224684, 59.3224622 ,\n",
       "       59.32267999, 59.32273742, 59.32286333, 59.32299653, 59.32321546,\n",
       "       59.32339755, 59.32348327, 59.32352296, 59.32351482, 59.32346766,\n",
       "       59.32308714, 59.32283852, 59.32259587, 59.32235445, 59.32212229,\n",
       "       59.32204781, 59.32205727, 59.32216406, 59.32224448, 59.32222012,\n",
       "       59.32204727, 59.32182014, 59.32184855, 59.32203956, 59.32263895,\n",
       "       59.3231911 , 59.3238677 , 59.3240259 , 59.32428468, 59.32456783,\n",
       "       59.32486324, 59.32528538, 59.32537604, 59.32548832, 59.32547437,\n",
       "       59.32479705, 59.32473582, 59.32595991, 59.32723558, 59.32850206,\n",
       "       59.32974338, 59.33303565, 59.33412178, 59.33606784, 59.33636986,\n",
       "       59.33685394, 59.33788591, 59.33815765, 59.33843271, 59.33862862,\n",
       "       59.33901815, 59.33932869, 59.3396822 , 59.34071564, 59.34160467,\n",
       "       59.34569943, 59.34956174, 59.35044266, 59.35151439, 59.35303717,\n",
       "       59.35403882, 59.35720613, 59.36134539, 59.36313416, 59.36435054,\n",
       "       59.36784242, 59.37066112, 59.37917682, 59.3799813 , 59.3861396 ,\n",
       "       59.3908554 , 59.39588108, 59.40653478, 59.41300712, 59.41380036,\n",
       "       59.41497928, 59.41680813, 59.41927912, 59.42326567, 59.42729011,\n",
       "       59.43035479, 59.43188713, 59.4335119 , 59.43538995, 59.43736068,\n",
       "       59.43738649, 59.43970992, 59.44128145, 59.4427599 , 59.44447065,\n",
       "       59.44532603, 59.44618282, 59.44699043, 59.44784346, 59.44874369,\n",
       "       59.44966885, 59.45070598, 59.45122455, 59.45148383, 59.45261854,\n",
       "       59.45318491, 59.4534681 , 59.45376122, 59.45400284, 59.45561006,\n",
       "       59.45724027, 59.45829536, 59.459992  , 59.4613356 , 59.4626792 ,\n",
       "       59.46310626, 59.46348613, 59.46378081, 59.46464912, 59.4653071 ,\n",
       "       59.46589724, 59.46631763, 59.46680673, 59.46751706, 59.46825442,\n",
       "       59.46913089, 59.4695918 , 59.47003283, 59.47067988, 59.4703786 ,\n",
       "       59.46962655, 59.46974133, 59.47050775, 59.47121265, 59.47205984,\n",
       "       59.47261535, 59.47399009, 59.47594426, 59.47762083, 59.47902231,\n",
       "       59.48088702, 59.48531637, 59.48862652, 59.49298099, 59.49416068,\n",
       "       59.49851684, 59.50132857, 59.50396912, 59.50315115, 59.50538325,\n",
       "       59.50521584, 59.5051074 , 59.50494872, 59.50490141, 59.50622552,\n",
       "       59.50708537, 59.50764021, 59.50791793, 59.50823577, 59.50877538,\n",
       "       59.50947205, 59.50981667, 59.51018533, 59.51105993, 59.51123709,\n",
       "       59.51112565, 59.51032331, 59.51001144, 59.50968799, 59.50936149,\n",
       "       59.50896931, 59.50879517, 59.50873232, 59.50869755, 59.5086831 ,\n",
       "       59.50872982, 59.50920956, 59.50891646, 59.50862079, 59.50922396,\n",
       "       59.50960631, 59.50982271, 59.50939705, 59.50973395, 59.51093831,\n",
       "       59.51031913, 59.50973636, 59.50944497, 59.50879463, 59.50906699])"
      ]
     },
     "execution_count": 72,
     "metadata": {},
     "output_type": "execute_result"
    }
   ],
   "source": [
    "np.array(coordsX)+40"
   ]
  },
  {
   "cell_type": "code",
   "execution_count": null,
   "id": "afd4911d",
   "metadata": {},
   "outputs": [],
   "source": []
  }
 ],
 "metadata": {
  "kernelspec": {
   "display_name": "Python 3 (ipykernel)",
   "language": "python",
   "name": "python3"
  },
  "language_info": {
   "codemirror_mode": {
    "name": "ipython",
    "version": 3
   },
   "file_extension": ".py",
   "mimetype": "text/x-python",
   "name": "python",
   "nbconvert_exporter": "python",
   "pygments_lexer": "ipython3",
   "version": "3.8.13"
  }
 },
 "nbformat": 4,
 "nbformat_minor": 5
}
